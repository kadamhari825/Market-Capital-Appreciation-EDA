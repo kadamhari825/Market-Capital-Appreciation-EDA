{
  "cells": [
    {
      "cell_type": "markdown",
      "metadata": {
        "id": "view-in-github",
        "colab_type": "text"
      },
      "source": [
        "<a href=\"https://colab.research.google.com/github/kadamhari825/Market-Capital-Appreciation-EDA/blob/main/Market_Capital_Appreciation_EDA.ipynb\" target=\"_parent\"><img src=\"https://colab.research.google.com/assets/colab-badge.svg\" alt=\"Open In Colab\"/></a>"
      ]
    },
    {
      "cell_type": "code",
      "execution_count": 1,
      "id": "b3ced1e2",
      "metadata": {
        "id": "b3ced1e2"
      },
      "outputs": [],
      "source": [
        "# Importing required Libriries\n",
        "\n",
        "import pandas as pd          # Pandas for Data Manupalation\n",
        "import numpy as np           # Numpy for Numerical operations\n",
        "\n",
        "# Visulatization Stack\n",
        "import matplotlib.pyplot as plt\n",
        "import seaborn as sns\n",
        "import plotly.express as px\n",
        "\n",
        "import warnings\n",
        "warnings.filterwarnings('ignore')"
      ]
    },
    {
      "cell_type": "code",
      "execution_count": 2,
      "id": "5925debe",
      "metadata": {
        "colab": {
          "base_uri": "https://localhost:8080/",
          "height": 206
        },
        "id": "5925debe",
        "outputId": "b0dcf2aa-17d3-4cec-81c5-55e7bb2550c0"
      },
      "outputs": [
        {
          "output_type": "execute_result",
          "data": {
            "text/plain": [
              "   S.No    Company Country                  Sector Market cap ($bn)  \\\n",
              "0     1     Amazon      US  Consumer discretionary         1,317.30   \n",
              "1     2  Microsoft      US              Technology         1,473.00   \n",
              "2     3      Apple      US              Technology         1,523.90   \n",
              "3     4      Tesla      US  Consumer discretionary            183.8   \n",
              "4     5    Tencent   China  Communication services            550.9   \n",
              "\n",
              "   Market cap added  Change  \n",
              "0             401.1    43.8  \n",
              "1             269.9    22.4  \n",
              "2             219.1    16.8  \n",
              "3             108.4   143.8  \n",
              "4              93.1    20.3  "
            ],
            "text/html": [
              "\n",
              "  <div id=\"df-e7f4e857-677e-4030-872f-79cb827778ab\">\n",
              "    <div class=\"colab-df-container\">\n",
              "      <div>\n",
              "<style scoped>\n",
              "    .dataframe tbody tr th:only-of-type {\n",
              "        vertical-align: middle;\n",
              "    }\n",
              "\n",
              "    .dataframe tbody tr th {\n",
              "        vertical-align: top;\n",
              "    }\n",
              "\n",
              "    .dataframe thead th {\n",
              "        text-align: right;\n",
              "    }\n",
              "</style>\n",
              "<table border=\"1\" class=\"dataframe\">\n",
              "  <thead>\n",
              "    <tr style=\"text-align: right;\">\n",
              "      <th></th>\n",
              "      <th>S.No</th>\n",
              "      <th>Company</th>\n",
              "      <th>Country</th>\n",
              "      <th>Sector</th>\n",
              "      <th>Market cap ($bn)</th>\n",
              "      <th>Market cap added</th>\n",
              "      <th>Change</th>\n",
              "    </tr>\n",
              "  </thead>\n",
              "  <tbody>\n",
              "    <tr>\n",
              "      <th>0</th>\n",
              "      <td>1</td>\n",
              "      <td>Amazon</td>\n",
              "      <td>US</td>\n",
              "      <td>Consumer discretionary</td>\n",
              "      <td>1,317.30</td>\n",
              "      <td>401.1</td>\n",
              "      <td>43.8</td>\n",
              "    </tr>\n",
              "    <tr>\n",
              "      <th>1</th>\n",
              "      <td>2</td>\n",
              "      <td>Microsoft</td>\n",
              "      <td>US</td>\n",
              "      <td>Technology</td>\n",
              "      <td>1,473.00</td>\n",
              "      <td>269.9</td>\n",
              "      <td>22.4</td>\n",
              "    </tr>\n",
              "    <tr>\n",
              "      <th>2</th>\n",
              "      <td>3</td>\n",
              "      <td>Apple</td>\n",
              "      <td>US</td>\n",
              "      <td>Technology</td>\n",
              "      <td>1,523.90</td>\n",
              "      <td>219.1</td>\n",
              "      <td>16.8</td>\n",
              "    </tr>\n",
              "    <tr>\n",
              "      <th>3</th>\n",
              "      <td>4</td>\n",
              "      <td>Tesla</td>\n",
              "      <td>US</td>\n",
              "      <td>Consumer discretionary</td>\n",
              "      <td>183.8</td>\n",
              "      <td>108.4</td>\n",
              "      <td>143.8</td>\n",
              "    </tr>\n",
              "    <tr>\n",
              "      <th>4</th>\n",
              "      <td>5</td>\n",
              "      <td>Tencent</td>\n",
              "      <td>China</td>\n",
              "      <td>Communication services</td>\n",
              "      <td>550.9</td>\n",
              "      <td>93.1</td>\n",
              "      <td>20.3</td>\n",
              "    </tr>\n",
              "  </tbody>\n",
              "</table>\n",
              "</div>\n",
              "      <button class=\"colab-df-convert\" onclick=\"convertToInteractive('df-e7f4e857-677e-4030-872f-79cb827778ab')\"\n",
              "              title=\"Convert this dataframe to an interactive table.\"\n",
              "              style=\"display:none;\">\n",
              "        \n",
              "  <svg xmlns=\"http://www.w3.org/2000/svg\" height=\"24px\"viewBox=\"0 0 24 24\"\n",
              "       width=\"24px\">\n",
              "    <path d=\"M0 0h24v24H0V0z\" fill=\"none\"/>\n",
              "    <path d=\"M18.56 5.44l.94 2.06.94-2.06 2.06-.94-2.06-.94-.94-2.06-.94 2.06-2.06.94zm-11 1L8.5 8.5l.94-2.06 2.06-.94-2.06-.94L8.5 2.5l-.94 2.06-2.06.94zm10 10l.94 2.06.94-2.06 2.06-.94-2.06-.94-.94-2.06-.94 2.06-2.06.94z\"/><path d=\"M17.41 7.96l-1.37-1.37c-.4-.4-.92-.59-1.43-.59-.52 0-1.04.2-1.43.59L10.3 9.45l-7.72 7.72c-.78.78-.78 2.05 0 2.83L4 21.41c.39.39.9.59 1.41.59.51 0 1.02-.2 1.41-.59l7.78-7.78 2.81-2.81c.8-.78.8-2.07 0-2.86zM5.41 20L4 18.59l7.72-7.72 1.47 1.35L5.41 20z\"/>\n",
              "  </svg>\n",
              "      </button>\n",
              "      \n",
              "  <style>\n",
              "    .colab-df-container {\n",
              "      display:flex;\n",
              "      flex-wrap:wrap;\n",
              "      gap: 12px;\n",
              "    }\n",
              "\n",
              "    .colab-df-convert {\n",
              "      background-color: #E8F0FE;\n",
              "      border: none;\n",
              "      border-radius: 50%;\n",
              "      cursor: pointer;\n",
              "      display: none;\n",
              "      fill: #1967D2;\n",
              "      height: 32px;\n",
              "      padding: 0 0 0 0;\n",
              "      width: 32px;\n",
              "    }\n",
              "\n",
              "    .colab-df-convert:hover {\n",
              "      background-color: #E2EBFA;\n",
              "      box-shadow: 0px 1px 2px rgba(60, 64, 67, 0.3), 0px 1px 3px 1px rgba(60, 64, 67, 0.15);\n",
              "      fill: #174EA6;\n",
              "    }\n",
              "\n",
              "    [theme=dark] .colab-df-convert {\n",
              "      background-color: #3B4455;\n",
              "      fill: #D2E3FC;\n",
              "    }\n",
              "\n",
              "    [theme=dark] .colab-df-convert:hover {\n",
              "      background-color: #434B5C;\n",
              "      box-shadow: 0px 1px 3px 1px rgba(0, 0, 0, 0.15);\n",
              "      filter: drop-shadow(0px 1px 2px rgba(0, 0, 0, 0.3));\n",
              "      fill: #FFFFFF;\n",
              "    }\n",
              "  </style>\n",
              "\n",
              "      <script>\n",
              "        const buttonEl =\n",
              "          document.querySelector('#df-e7f4e857-677e-4030-872f-79cb827778ab button.colab-df-convert');\n",
              "        buttonEl.style.display =\n",
              "          google.colab.kernel.accessAllowed ? 'block' : 'none';\n",
              "\n",
              "        async function convertToInteractive(key) {\n",
              "          const element = document.querySelector('#df-e7f4e857-677e-4030-872f-79cb827778ab');\n",
              "          const dataTable =\n",
              "            await google.colab.kernel.invokeFunction('convertToInteractive',\n",
              "                                                     [key], {});\n",
              "          if (!dataTable) return;\n",
              "\n",
              "          const docLinkHtml = 'Like what you see? Visit the ' +\n",
              "            '<a target=\"_blank\" href=https://colab.research.google.com/notebooks/data_table.ipynb>data table notebook</a>'\n",
              "            + ' to learn more about interactive tables.';\n",
              "          element.innerHTML = '';\n",
              "          dataTable['output_type'] = 'display_data';\n",
              "          await google.colab.output.renderOutput(dataTable, element);\n",
              "          const docLink = document.createElement('div');\n",
              "          docLink.innerHTML = docLinkHtml;\n",
              "          element.appendChild(docLink);\n",
              "        }\n",
              "      </script>\n",
              "    </div>\n",
              "  </div>\n",
              "  "
            ]
          },
          "metadata": {},
          "execution_count": 2
        }
      ],
      "source": [
        "df = pd.read_csv('MarketCap.csv')  # Loading data\n",
        "df.head()"
      ]
    },
    {
      "cell_type": "code",
      "execution_count": 3,
      "id": "b87a8294",
      "metadata": {
        "id": "b87a8294"
      },
      "outputs": [],
      "source": [
        "original_df = df.copy()           # Making Deep Copy of Original dataframe"
      ]
    },
    {
      "cell_type": "markdown",
      "id": "568a24e3",
      "metadata": {
        "id": "568a24e3"
      },
      "source": [
        "### Data Exploration and cleaning "
      ]
    },
    {
      "cell_type": "markdown",
      "id": "cc14c9b4",
      "metadata": {
        "id": "cc14c9b4"
      },
      "source": [
        "In data exploration we try to understand various features in data, so that it will help us to connect the dots.And data cleaning is the process of ensuring that your data is correct and useable by identifying any errors in the data, or missing \n",
        "data by correcting or deleting them. The goal of cleaning operations is to prevent problems caused by missing data that\n",
        "can arise while using stastical features or model training."
      ]
    },
    {
      "cell_type": "code",
      "execution_count": 4,
      "id": "e916ca88",
      "metadata": {
        "colab": {
          "base_uri": "https://localhost:8080/"
        },
        "id": "e916ca88",
        "outputId": "0bfa1c8b-c06b-40f0-d58d-46f80eaaf830"
      },
      "outputs": [
        {
          "output_type": "stream",
          "name": "stdout",
          "text": [
            "The shape of dataframe is: (100, 7)\n"
          ]
        }
      ],
      "source": [
        "print(\"The shape of dataframe is:\",df.shape)"
      ]
    },
    {
      "cell_type": "code",
      "execution_count": 5,
      "id": "7282e0a4",
      "metadata": {
        "colab": {
          "base_uri": "https://localhost:8080/"
        },
        "id": "7282e0a4",
        "outputId": "c3c8862f-fc8b-490e-e816-9979315a7edd"
      },
      "outputs": [
        {
          "output_type": "stream",
          "name": "stdout",
          "text": [
            "<class 'pandas.core.frame.DataFrame'>\n",
            "RangeIndex: 100 entries, 0 to 99\n",
            "Data columns (total 7 columns):\n",
            " #   Column            Non-Null Count  Dtype  \n",
            "---  ------            --------------  -----  \n",
            " 0   S.No              100 non-null    int64  \n",
            " 1   Company           100 non-null    object \n",
            " 2   Country           100 non-null    object \n",
            " 3   Sector            100 non-null    object \n",
            " 4   Market cap ($bn)  100 non-null    object \n",
            " 5   Market cap added  100 non-null    float64\n",
            " 6   Change            100 non-null    float64\n",
            "dtypes: float64(2), int64(1), object(4)\n",
            "memory usage: 5.6+ KB\n"
          ]
        }
      ],
      "source": [
        "df.info()"
      ]
    },
    {
      "cell_type": "code",
      "execution_count": 5,
      "id": "19489df3",
      "metadata": {
        "id": "19489df3"
      },
      "outputs": [],
      "source": []
    },
    {
      "cell_type": "code",
      "execution_count": 6,
      "id": "608b5bba",
      "metadata": {
        "colab": {
          "base_uri": "https://localhost:8080/"
        },
        "id": "608b5bba",
        "outputId": "d5f77dea-ae5c-4b6f-ab57-41ae2c1665f3"
      },
      "outputs": [
        {
          "output_type": "stream",
          "name": "stdout",
          "text": [
            "<class 'pandas.core.frame.DataFrame'>\n",
            "RangeIndex: 100 entries, 0 to 99\n",
            "Data columns (total 7 columns):\n",
            " #   Column            Non-Null Count  Dtype  \n",
            "---  ------            --------------  -----  \n",
            " 0   S.No              100 non-null    int64  \n",
            " 1   Company           100 non-null    object \n",
            " 2   Country           100 non-null    object \n",
            " 3   Sector            100 non-null    object \n",
            " 4   Market cap ($bn)  97 non-null     float64\n",
            " 5   Market cap added  100 non-null    float64\n",
            " 6   Change            100 non-null    float64\n",
            "dtypes: float64(3), int64(1), object(3)\n",
            "memory usage: 5.6+ KB\n",
            "None\n"
          ]
        }
      ],
      "source": [
        "# Changing Datatype of a column of Data frame so that we can perform Numerical calculations on it.\n",
        "\n",
        "df['Market cap ($bn)'] = pd.to_numeric(df['Market cap ($bn)'], errors='coerce')\n",
        "print(df.info())"
      ]
    },
    {
      "cell_type": "markdown",
      "id": "80f4f3d3",
      "metadata": {
        "id": "80f4f3d3"
      },
      "source": [
        "### Filling Missing Values"
      ]
    },
    {
      "cell_type": "markdown",
      "id": "2c48e130",
      "metadata": {
        "id": "2c48e130"
      },
      "source": [
        "Filling missing values can be done by sevaral methods(mean, median ,mode or absolute value) and It is depended upon what is type of feature variabe i.e wheather it is Continous or Categorical in nature.In our case Market Cap is continous variable is continous and can be imputed by their specific values in dataframe."
      ]
    },
    {
      "cell_type": "code",
      "execution_count": 7,
      "id": "fcf981bd",
      "metadata": {
        "scrolled": true,
        "colab": {
          "base_uri": "https://localhost:8080/",
          "height": 143
        },
        "id": "fcf981bd",
        "outputId": "6fb6cf09-09f4-478e-e859-c6cce09e6d6b"
      },
      "outputs": [
        {
          "output_type": "execute_result",
          "data": {
            "text/plain": [
              "   S.No    Company Country                  Sector  Market cap ($bn)  \\\n",
              "0     1     Amazon      US  Consumer discretionary               NaN   \n",
              "1     2  Microsoft      US              Technology               NaN   \n",
              "2     3      Apple      US              Technology               NaN   \n",
              "\n",
              "   Market cap added  Change  \n",
              "0             401.1    43.8  \n",
              "1             269.9    22.4  \n",
              "2             219.1    16.8  "
            ],
            "text/html": [
              "\n",
              "  <div id=\"df-47cde109-4f56-4e79-849f-50d9b08ab22f\">\n",
              "    <div class=\"colab-df-container\">\n",
              "      <div>\n",
              "<style scoped>\n",
              "    .dataframe tbody tr th:only-of-type {\n",
              "        vertical-align: middle;\n",
              "    }\n",
              "\n",
              "    .dataframe tbody tr th {\n",
              "        vertical-align: top;\n",
              "    }\n",
              "\n",
              "    .dataframe thead th {\n",
              "        text-align: right;\n",
              "    }\n",
              "</style>\n",
              "<table border=\"1\" class=\"dataframe\">\n",
              "  <thead>\n",
              "    <tr style=\"text-align: right;\">\n",
              "      <th></th>\n",
              "      <th>S.No</th>\n",
              "      <th>Company</th>\n",
              "      <th>Country</th>\n",
              "      <th>Sector</th>\n",
              "      <th>Market cap ($bn)</th>\n",
              "      <th>Market cap added</th>\n",
              "      <th>Change</th>\n",
              "    </tr>\n",
              "  </thead>\n",
              "  <tbody>\n",
              "    <tr>\n",
              "      <th>0</th>\n",
              "      <td>1</td>\n",
              "      <td>Amazon</td>\n",
              "      <td>US</td>\n",
              "      <td>Consumer discretionary</td>\n",
              "      <td>NaN</td>\n",
              "      <td>401.1</td>\n",
              "      <td>43.8</td>\n",
              "    </tr>\n",
              "    <tr>\n",
              "      <th>1</th>\n",
              "      <td>2</td>\n",
              "      <td>Microsoft</td>\n",
              "      <td>US</td>\n",
              "      <td>Technology</td>\n",
              "      <td>NaN</td>\n",
              "      <td>269.9</td>\n",
              "      <td>22.4</td>\n",
              "    </tr>\n",
              "    <tr>\n",
              "      <th>2</th>\n",
              "      <td>3</td>\n",
              "      <td>Apple</td>\n",
              "      <td>US</td>\n",
              "      <td>Technology</td>\n",
              "      <td>NaN</td>\n",
              "      <td>219.1</td>\n",
              "      <td>16.8</td>\n",
              "    </tr>\n",
              "  </tbody>\n",
              "</table>\n",
              "</div>\n",
              "      <button class=\"colab-df-convert\" onclick=\"convertToInteractive('df-47cde109-4f56-4e79-849f-50d9b08ab22f')\"\n",
              "              title=\"Convert this dataframe to an interactive table.\"\n",
              "              style=\"display:none;\">\n",
              "        \n",
              "  <svg xmlns=\"http://www.w3.org/2000/svg\" height=\"24px\"viewBox=\"0 0 24 24\"\n",
              "       width=\"24px\">\n",
              "    <path d=\"M0 0h24v24H0V0z\" fill=\"none\"/>\n",
              "    <path d=\"M18.56 5.44l.94 2.06.94-2.06 2.06-.94-2.06-.94-.94-2.06-.94 2.06-2.06.94zm-11 1L8.5 8.5l.94-2.06 2.06-.94-2.06-.94L8.5 2.5l-.94 2.06-2.06.94zm10 10l.94 2.06.94-2.06 2.06-.94-2.06-.94-.94-2.06-.94 2.06-2.06.94z\"/><path d=\"M17.41 7.96l-1.37-1.37c-.4-.4-.92-.59-1.43-.59-.52 0-1.04.2-1.43.59L10.3 9.45l-7.72 7.72c-.78.78-.78 2.05 0 2.83L4 21.41c.39.39.9.59 1.41.59.51 0 1.02-.2 1.41-.59l7.78-7.78 2.81-2.81c.8-.78.8-2.07 0-2.86zM5.41 20L4 18.59l7.72-7.72 1.47 1.35L5.41 20z\"/>\n",
              "  </svg>\n",
              "      </button>\n",
              "      \n",
              "  <style>\n",
              "    .colab-df-container {\n",
              "      display:flex;\n",
              "      flex-wrap:wrap;\n",
              "      gap: 12px;\n",
              "    }\n",
              "\n",
              "    .colab-df-convert {\n",
              "      background-color: #E8F0FE;\n",
              "      border: none;\n",
              "      border-radius: 50%;\n",
              "      cursor: pointer;\n",
              "      display: none;\n",
              "      fill: #1967D2;\n",
              "      height: 32px;\n",
              "      padding: 0 0 0 0;\n",
              "      width: 32px;\n",
              "    }\n",
              "\n",
              "    .colab-df-convert:hover {\n",
              "      background-color: #E2EBFA;\n",
              "      box-shadow: 0px 1px 2px rgba(60, 64, 67, 0.3), 0px 1px 3px 1px rgba(60, 64, 67, 0.15);\n",
              "      fill: #174EA6;\n",
              "    }\n",
              "\n",
              "    [theme=dark] .colab-df-convert {\n",
              "      background-color: #3B4455;\n",
              "      fill: #D2E3FC;\n",
              "    }\n",
              "\n",
              "    [theme=dark] .colab-df-convert:hover {\n",
              "      background-color: #434B5C;\n",
              "      box-shadow: 0px 1px 3px 1px rgba(0, 0, 0, 0.15);\n",
              "      filter: drop-shadow(0px 1px 2px rgba(0, 0, 0, 0.3));\n",
              "      fill: #FFFFFF;\n",
              "    }\n",
              "  </style>\n",
              "\n",
              "      <script>\n",
              "        const buttonEl =\n",
              "          document.querySelector('#df-47cde109-4f56-4e79-849f-50d9b08ab22f button.colab-df-convert');\n",
              "        buttonEl.style.display =\n",
              "          google.colab.kernel.accessAllowed ? 'block' : 'none';\n",
              "\n",
              "        async function convertToInteractive(key) {\n",
              "          const element = document.querySelector('#df-47cde109-4f56-4e79-849f-50d9b08ab22f');\n",
              "          const dataTable =\n",
              "            await google.colab.kernel.invokeFunction('convertToInteractive',\n",
              "                                                     [key], {});\n",
              "          if (!dataTable) return;\n",
              "\n",
              "          const docLinkHtml = 'Like what you see? Visit the ' +\n",
              "            '<a target=\"_blank\" href=https://colab.research.google.com/notebooks/data_table.ipynb>data table notebook</a>'\n",
              "            + ' to learn more about interactive tables.';\n",
              "          element.innerHTML = '';\n",
              "          dataTable['output_type'] = 'display_data';\n",
              "          await google.colab.output.renderOutput(dataTable, element);\n",
              "          const docLink = document.createElement('div');\n",
              "          docLink.innerHTML = docLinkHtml;\n",
              "          element.appendChild(docLink);\n",
              "        }\n",
              "      </script>\n",
              "    </div>\n",
              "  </div>\n",
              "  "
            ]
          },
          "metadata": {},
          "execution_count": 7
        }
      ],
      "source": [
        "df[df['Market cap ($bn)'].isna()]"
      ]
    },
    {
      "cell_type": "code",
      "execution_count": 8,
      "id": "7c50a962",
      "metadata": {
        "colab": {
          "base_uri": "https://localhost:8080/"
        },
        "id": "7c50a962",
        "outputId": "3e3d2c84-e088-48ba-8d37-7e8490b65182"
      },
      "outputs": [
        {
          "output_type": "execute_result",
          "data": {
            "text/plain": [
              "Index(['S.No', 'Company', 'Country', 'Sector', 'Market cap ($bn)',\n",
              "       'Market cap added', 'Change'],\n",
              "      dtype='object')"
            ]
          },
          "metadata": {},
          "execution_count": 8
        }
      ],
      "source": [
        "df.columns"
      ]
    },
    {
      "cell_type": "code",
      "execution_count": 9,
      "id": "f5c027a4",
      "metadata": {
        "id": "f5c027a4"
      },
      "outputs": [],
      "source": [
        "# we are inserting their values in places of 'nan' values that we got by pd_numeric(Coerce) method.\n",
        "\n",
        "df.loc[df['Company'] == 'Amazon', 'Market cap ($bn)'] = 1317.30 \n",
        "df.loc[df['Company'] == 'Microsoft', 'Market cap ($bn)'] = 1473.0 \n",
        "df.loc[df['Company'] == 'Apple', 'Market cap ($bn)'] = 1523.9\n",
        "\n",
        "# Adding another columns which will tell what was inital capital of that company.\n",
        "df['Market Cap Prior'] = df['Market cap ($bn)'] - df['Market cap added'] \n",
        "\n",
        "# Changing order in whcih columns will appear in Dataframe\n",
        "df = df.reindex(['S.No', 'Company', 'Country', 'Sector','Market Cap Prior','Market cap ($bn)',\n",
        "                 'Market cap added', 'Change'], axis=1)"
      ]
    },
    {
      "cell_type": "code",
      "execution_count": 10,
      "id": "d461ed5b",
      "metadata": {
        "colab": {
          "base_uri": "https://localhost:8080/"
        },
        "id": "d461ed5b",
        "outputId": "fdc5554b-67fc-4764-c446-0967e6d00151"
      },
      "outputs": [
        {
          "output_type": "stream",
          "name": "stdout",
          "text": [
            "<class 'pandas.core.frame.DataFrame'>\n",
            "RangeIndex: 100 entries, 0 to 99\n",
            "Data columns (total 8 columns):\n",
            " #   Column            Non-Null Count  Dtype  \n",
            "---  ------            --------------  -----  \n",
            " 0   S.No              100 non-null    int64  \n",
            " 1   Company           100 non-null    object \n",
            " 2   Country           100 non-null    object \n",
            " 3   Sector            100 non-null    object \n",
            " 4   Market Cap Prior  100 non-null    float64\n",
            " 5   Market cap ($bn)  100 non-null    float64\n",
            " 6   Market cap added  100 non-null    float64\n",
            " 7   Change            100 non-null    float64\n",
            "dtypes: float64(4), int64(1), object(3)\n",
            "memory usage: 6.4+ KB\n",
            "None\n"
          ]
        }
      ],
      "source": [
        "print(df.info())"
      ]
    },
    {
      "cell_type": "markdown",
      "id": "3cf7bf02",
      "metadata": {
        "id": "3cf7bf02"
      },
      "source": [
        "We have filled missing value now and added derived column from existing column."
      ]
    },
    {
      "cell_type": "code",
      "execution_count": 11,
      "id": "ba1497f4",
      "metadata": {
        "colab": {
          "base_uri": "https://localhost:8080/",
          "height": 300
        },
        "id": "ba1497f4",
        "outputId": "0b98a580-0c13-47dd-c143-d9a545995869"
      },
      "outputs": [
        {
          "output_type": "execute_result",
          "data": {
            "text/plain": [
              "             S.No  Market Cap Prior  Market cap ($bn)  Market cap added  \\\n",
              "count  100.000000        100.000000        100.000000        100.000000   \n",
              "mean    50.500000        115.899000        146.442000         30.543000   \n",
              "std     29.011492        225.961189        269.912133         52.844587   \n",
              "min      1.000000          3.000000         13.400000          8.200000   \n",
              "25%     25.750000         20.975000         34.550000         10.600000   \n",
              "50%     50.500000         41.350000         59.700000         14.200000   \n",
              "75%     75.250000        113.200000        136.175000         27.150000   \n",
              "max    100.000000       1304.800000       1523.900000        401.100000   \n",
              "\n",
              "           Change  \n",
              "count  100.000000  \n",
              "mean    59.395000  \n",
              "std     61.721631  \n",
              "min      4.500000  \n",
              "25%     20.375000  \n",
              "50%     43.100000  \n",
              "75%     72.450000  \n",
              "max    408.700000  "
            ],
            "text/html": [
              "\n",
              "  <div id=\"df-c50cf911-84e3-4ef3-b73d-eeda014e5c93\">\n",
              "    <div class=\"colab-df-container\">\n",
              "      <div>\n",
              "<style scoped>\n",
              "    .dataframe tbody tr th:only-of-type {\n",
              "        vertical-align: middle;\n",
              "    }\n",
              "\n",
              "    .dataframe tbody tr th {\n",
              "        vertical-align: top;\n",
              "    }\n",
              "\n",
              "    .dataframe thead th {\n",
              "        text-align: right;\n",
              "    }\n",
              "</style>\n",
              "<table border=\"1\" class=\"dataframe\">\n",
              "  <thead>\n",
              "    <tr style=\"text-align: right;\">\n",
              "      <th></th>\n",
              "      <th>S.No</th>\n",
              "      <th>Market Cap Prior</th>\n",
              "      <th>Market cap ($bn)</th>\n",
              "      <th>Market cap added</th>\n",
              "      <th>Change</th>\n",
              "    </tr>\n",
              "  </thead>\n",
              "  <tbody>\n",
              "    <tr>\n",
              "      <th>count</th>\n",
              "      <td>100.000000</td>\n",
              "      <td>100.000000</td>\n",
              "      <td>100.000000</td>\n",
              "      <td>100.000000</td>\n",
              "      <td>100.000000</td>\n",
              "    </tr>\n",
              "    <tr>\n",
              "      <th>mean</th>\n",
              "      <td>50.500000</td>\n",
              "      <td>115.899000</td>\n",
              "      <td>146.442000</td>\n",
              "      <td>30.543000</td>\n",
              "      <td>59.395000</td>\n",
              "    </tr>\n",
              "    <tr>\n",
              "      <th>std</th>\n",
              "      <td>29.011492</td>\n",
              "      <td>225.961189</td>\n",
              "      <td>269.912133</td>\n",
              "      <td>52.844587</td>\n",
              "      <td>61.721631</td>\n",
              "    </tr>\n",
              "    <tr>\n",
              "      <th>min</th>\n",
              "      <td>1.000000</td>\n",
              "      <td>3.000000</td>\n",
              "      <td>13.400000</td>\n",
              "      <td>8.200000</td>\n",
              "      <td>4.500000</td>\n",
              "    </tr>\n",
              "    <tr>\n",
              "      <th>25%</th>\n",
              "      <td>25.750000</td>\n",
              "      <td>20.975000</td>\n",
              "      <td>34.550000</td>\n",
              "      <td>10.600000</td>\n",
              "      <td>20.375000</td>\n",
              "    </tr>\n",
              "    <tr>\n",
              "      <th>50%</th>\n",
              "      <td>50.500000</td>\n",
              "      <td>41.350000</td>\n",
              "      <td>59.700000</td>\n",
              "      <td>14.200000</td>\n",
              "      <td>43.100000</td>\n",
              "    </tr>\n",
              "    <tr>\n",
              "      <th>75%</th>\n",
              "      <td>75.250000</td>\n",
              "      <td>113.200000</td>\n",
              "      <td>136.175000</td>\n",
              "      <td>27.150000</td>\n",
              "      <td>72.450000</td>\n",
              "    </tr>\n",
              "    <tr>\n",
              "      <th>max</th>\n",
              "      <td>100.000000</td>\n",
              "      <td>1304.800000</td>\n",
              "      <td>1523.900000</td>\n",
              "      <td>401.100000</td>\n",
              "      <td>408.700000</td>\n",
              "    </tr>\n",
              "  </tbody>\n",
              "</table>\n",
              "</div>\n",
              "      <button class=\"colab-df-convert\" onclick=\"convertToInteractive('df-c50cf911-84e3-4ef3-b73d-eeda014e5c93')\"\n",
              "              title=\"Convert this dataframe to an interactive table.\"\n",
              "              style=\"display:none;\">\n",
              "        \n",
              "  <svg xmlns=\"http://www.w3.org/2000/svg\" height=\"24px\"viewBox=\"0 0 24 24\"\n",
              "       width=\"24px\">\n",
              "    <path d=\"M0 0h24v24H0V0z\" fill=\"none\"/>\n",
              "    <path d=\"M18.56 5.44l.94 2.06.94-2.06 2.06-.94-2.06-.94-.94-2.06-.94 2.06-2.06.94zm-11 1L8.5 8.5l.94-2.06 2.06-.94-2.06-.94L8.5 2.5l-.94 2.06-2.06.94zm10 10l.94 2.06.94-2.06 2.06-.94-2.06-.94-.94-2.06-.94 2.06-2.06.94z\"/><path d=\"M17.41 7.96l-1.37-1.37c-.4-.4-.92-.59-1.43-.59-.52 0-1.04.2-1.43.59L10.3 9.45l-7.72 7.72c-.78.78-.78 2.05 0 2.83L4 21.41c.39.39.9.59 1.41.59.51 0 1.02-.2 1.41-.59l7.78-7.78 2.81-2.81c.8-.78.8-2.07 0-2.86zM5.41 20L4 18.59l7.72-7.72 1.47 1.35L5.41 20z\"/>\n",
              "  </svg>\n",
              "      </button>\n",
              "      \n",
              "  <style>\n",
              "    .colab-df-container {\n",
              "      display:flex;\n",
              "      flex-wrap:wrap;\n",
              "      gap: 12px;\n",
              "    }\n",
              "\n",
              "    .colab-df-convert {\n",
              "      background-color: #E8F0FE;\n",
              "      border: none;\n",
              "      border-radius: 50%;\n",
              "      cursor: pointer;\n",
              "      display: none;\n",
              "      fill: #1967D2;\n",
              "      height: 32px;\n",
              "      padding: 0 0 0 0;\n",
              "      width: 32px;\n",
              "    }\n",
              "\n",
              "    .colab-df-convert:hover {\n",
              "      background-color: #E2EBFA;\n",
              "      box-shadow: 0px 1px 2px rgba(60, 64, 67, 0.3), 0px 1px 3px 1px rgba(60, 64, 67, 0.15);\n",
              "      fill: #174EA6;\n",
              "    }\n",
              "\n",
              "    [theme=dark] .colab-df-convert {\n",
              "      background-color: #3B4455;\n",
              "      fill: #D2E3FC;\n",
              "    }\n",
              "\n",
              "    [theme=dark] .colab-df-convert:hover {\n",
              "      background-color: #434B5C;\n",
              "      box-shadow: 0px 1px 3px 1px rgba(0, 0, 0, 0.15);\n",
              "      filter: drop-shadow(0px 1px 2px rgba(0, 0, 0, 0.3));\n",
              "      fill: #FFFFFF;\n",
              "    }\n",
              "  </style>\n",
              "\n",
              "      <script>\n",
              "        const buttonEl =\n",
              "          document.querySelector('#df-c50cf911-84e3-4ef3-b73d-eeda014e5c93 button.colab-df-convert');\n",
              "        buttonEl.style.display =\n",
              "          google.colab.kernel.accessAllowed ? 'block' : 'none';\n",
              "\n",
              "        async function convertToInteractive(key) {\n",
              "          const element = document.querySelector('#df-c50cf911-84e3-4ef3-b73d-eeda014e5c93');\n",
              "          const dataTable =\n",
              "            await google.colab.kernel.invokeFunction('convertToInteractive',\n",
              "                                                     [key], {});\n",
              "          if (!dataTable) return;\n",
              "\n",
              "          const docLinkHtml = 'Like what you see? Visit the ' +\n",
              "            '<a target=\"_blank\" href=https://colab.research.google.com/notebooks/data_table.ipynb>data table notebook</a>'\n",
              "            + ' to learn more about interactive tables.';\n",
              "          element.innerHTML = '';\n",
              "          dataTable['output_type'] = 'display_data';\n",
              "          await google.colab.output.renderOutput(dataTable, element);\n",
              "          const docLink = document.createElement('div');\n",
              "          docLink.innerHTML = docLinkHtml;\n",
              "          element.appendChild(docLink);\n",
              "        }\n",
              "      </script>\n",
              "    </div>\n",
              "  </div>\n",
              "  "
            ]
          },
          "metadata": {},
          "execution_count": 11
        }
      ],
      "source": [
        "# statistical summary of all numerical features.\n",
        "df.describe()"
      ]
    },
    {
      "cell_type": "markdown",
      "id": "ada518a5",
      "metadata": {
        "id": "ada518a5"
      },
      "source": [
        "#### Inferences"
      ]
    },
    {
      "cell_type": "markdown",
      "id": "47c52bc6",
      "metadata": {
        "id": "47c52bc6"
      },
      "source": [
        "1. On an average 30$bn market capital added to these companies across the industries.\n",
        "2. % Market capital infusion is huge  and that  stood around 59.4."
      ]
    },
    {
      "cell_type": "markdown",
      "id": "1e419fbc",
      "metadata": {
        "id": "1e419fbc"
      },
      "source": [
        "### Sector wise Distribution of Companies:"
      ]
    },
    {
      "cell_type": "code",
      "execution_count": 12,
      "id": "f3e40e32",
      "metadata": {
        "scrolled": true,
        "colab": {
          "base_uri": "https://localhost:8080/",
          "height": 817
        },
        "id": "f3e40e32",
        "outputId": "e02f29ee-6132-4f89-c703-05842b356a43"
      },
      "outputs": [
        {
          "output_type": "stream",
          "name": "stdout",
          "text": [
            "These top 100 companies represent 10 sectors \n",
            "\n",
            "Healthcare                25\n",
            "Technology                23\n",
            "Consumer discretionary    21\n",
            "Communication services    10\n",
            "Consumer staples           8\n",
            "Real estate                5\n",
            "Industrials                3\n",
            "Materials                  3\n",
            "Financials                 1\n",
            "Energy                     1\n",
            "Name: Sector, dtype: int64 /n\n"
          ]
        },
        {
          "output_type": "execute_result",
          "data": {
            "text/plain": [
              "Text(0.5, 1.0, 'Sectors and Numbers of Conpanies ')"
            ]
          },
          "metadata": {},
          "execution_count": 12
        },
        {
          "output_type": "display_data",
          "data": {
            "text/plain": [
              "<Figure size 1080x648 with 1 Axes>"
            ],
            "image/png": "[encoded data removed]"
          },
          "metadata": {
            "needs_background": "light"
          }
        }
      ],
      "source": [
        "print(f\"These top 100 companies represent {df['Sector'].nunique()} sectors\",'\\n')\n",
        "\n",
        "print(df['Sector'].value_counts(),'/n')\n",
        "\n",
        "fig = plt.figure(figsize=(15, 9))\n",
        "ax = sns.countplot(x='Sector', data=df, order=df['Sector'].value_counts().index)\n",
        "ax.set_title('Sectors and Numbers of Conpanies ')"
      ]
    },
    {
      "cell_type": "markdown",
      "id": "74a181ff",
      "metadata": {
        "id": "74a181ff"
      },
      "source": [
        "Number of companies from healthcare is dominating among all because of COVID-19 cricis and it lead people to go \n",
        "digital that from working from home to buying groceries Online.But let's find out that wheather Healthcare and Tech\n",
        "companies capital appreciated more than the others."
      ]
    },
    {
      "cell_type": "markdown",
      "id": "e051fbc1",
      "metadata": {
        "id": "e051fbc1"
      },
      "source": [
        "### Sector wise % Capital added."
      ]
    },
    {
      "cell_type": "code",
      "execution_count": 13,
      "id": "d65e42d6",
      "metadata": {
        "colab": {
          "base_uri": "https://localhost:8080/",
          "height": 715
        },
        "id": "d65e42d6",
        "outputId": "d78175fd-9f46-4623-9b0a-064479f1dde7"
      },
      "outputs": [
        {
          "output_type": "stream",
          "name": "stdout",
          "text": [
            "Sector\n",
            "Technology                1024.9\n",
            "Consumer discretionary     914.1\n",
            "Communication services     442.3\n",
            "Healthcare                 406.2\n",
            "Consumer staples           112.1\n",
            "Real estate                 67.8\n",
            "Industrials                 37.5\n",
            "Materials                   28.5\n",
            "Financials                  11.9\n",
            "Energy                       9.0\n",
            "Name: Market cap added, dtype: float64 \n",
            "\n"
          ]
        },
        {
          "output_type": "display_data",
          "data": {
            "text/plain": [
              "<Figure size 576x576 with 1 Axes>"
            ],
            "image/png": "[encoded data removed]"
          },
          "metadata": {}
        }
      ],
      "source": [
        "labels_df = pd.DataFrame(df.groupby(by = 'Sector'))[0]\n",
        "labels = labels_df.values\n",
        "\n",
        "Sector_values_df = pd.DataFrame(df.groupby(by = 'Sector',)['Market cap added'].sum())\n",
        "values = Sector_values_df['Market cap added'].values\n",
        "\n",
        "print(df.groupby(by = 'Sector',)['Market cap added'].sum().sort_values(ascending= False),'\\n')\n",
        "\n",
        "plt.figure(figsize=(8,8))\n",
        "plt.pie(values, labels = labels,autopct='%.0f%%', shadow  = True,)\n",
        "plt.title('% of Capital Added in Various Sectors')\n",
        "plt.show()"
      ]
    },
    {
      "cell_type": "markdown",
      "id": "90c974c1",
      "metadata": {
        "id": "90c974c1"
      },
      "source": [
        "Though number of comapanies in Healthcare whos Market capital got appriciated are highest, Technology and Consumer\n",
        "discretionary sector companies got actual investment 34% and 30% respectively.That is way higher than Healthcare domain."
      ]
    },
    {
      "cell_type": "markdown",
      "id": "baebaca1",
      "metadata": {
        "id": "baebaca1"
      },
      "source": [
        "### Country wise distribution of companies"
      ]
    },
    {
      "cell_type": "code",
      "execution_count": 14,
      "id": "47f742e3",
      "metadata": {
        "colab": {
          "base_uri": "https://localhost:8080/",
          "height": 843
        },
        "id": "47f742e3",
        "outputId": "e50240ed-6cb8-4434-fa41-2df6536aa9fe"
      },
      "outputs": [
        {
          "output_type": "stream",
          "name": "stdout",
          "text": [
            "Country\n",
            "US             47\n",
            "China          23\n",
            "Netherlands     5\n",
            "Canada          3\n",
            "Switzerland     3\n",
            "South Korea     3\n",
            "Japan           3\n",
            "France          2\n",
            "Singapore       1\n",
            "UK              1\n",
            "UAE             1\n",
            "Sweden          1\n",
            "Argentina       1\n",
            "Australia       1\n",
            "India           1\n",
            "Hong Kong       1\n",
            "Germany         1\n",
            "Denmark         1\n",
            "Ireland         1\n",
            "Name: Company, dtype: int64 \n",
            "\n"
          ]
        },
        {
          "output_type": "execute_result",
          "data": {
            "text/plain": [
              "<matplotlib.axes._subplots.AxesSubplot at 0x7f80fd197c40>"
            ]
          },
          "metadata": {},
          "execution_count": 14
        },
        {
          "output_type": "display_data",
          "data": {
            "text/plain": [
              "<Figure size 1440x648 with 1 Axes>"
            ],
            "image/png": "[encoded data removed]"
          },
          "metadata": {
            "needs_background": "light"
          }
        }
      ],
      "source": [
        "print(df.groupby(by = 'Country')['Company'].count().sort_values(ascending = False),'\\n')\n",
        "\n",
        "plt.figure(figsize=(20, 9))\n",
        "sns.countplot(x='Country', data=df, order=df['Country'].value_counts().index)\n"
      ]
    },
    {
      "cell_type": "markdown",
      "id": "4c22f0ea",
      "metadata": {
        "id": "4c22f0ea"
      },
      "source": [
        "Clearly half of top 100 companies come from US and nearly a quarter of those belong to China.\n",
        "Lets see wheather this story replicate in Market capital added in respective countries."
      ]
    },
    {
      "cell_type": "markdown",
      "id": "51901ef1",
      "metadata": {
        "id": "51901ef1"
      },
      "source": [
        "### Total Capital added in respective countries."
      ]
    },
    {
      "cell_type": "code",
      "execution_count": 15,
      "id": "5f09c860",
      "metadata": {
        "colab": {
          "base_uri": "https://localhost:8080/"
        },
        "id": "5f09c860",
        "outputId": "7ff4f2b8-4472-4b8c-a8a7-1b8f42ff74df"
      },
      "outputs": [
        {
          "output_type": "stream",
          "name": "stdout",
          "text": [
            "        Country  Market cap added\n",
            "0            US            2018.7\n",
            "1         China             509.0\n",
            "2   Netherlands              89.0\n",
            "3        Canada              71.0\n",
            "4         Japan              59.7\n",
            "5   Switzerland              52.9\n",
            "6   South Korea              40.3\n",
            "7       Germany              37.8\n",
            "8     Singapore              31.9\n",
            "9     Hong Kong              20.2\n",
            "10      Denmark              19.8\n",
            "11       France              19.4\n",
            "12    Argentina              18.1\n",
            "13    Australia              14.2\n",
            "14          UAE              12.6\n",
            "15      Ireland              11.5\n",
            "16       Sweden              10.4\n",
            "17        India               9.0\n",
            "18           UK               8.8\n"
          ]
        }
      ],
      "source": [
        "df_country_marketcap  = pd.DataFrame(df.groupby(by = 'Country')['Market cap added'].sum().sort_values(ascending = False))\n",
        "df_country_marketcap = df_country_marketcap.reset_index()\n",
        "print(df_country_marketcap)"
      ]
    },
    {
      "cell_type": "code",
      "execution_count": 16,
      "id": "f4fd3b50",
      "metadata": {
        "colab": {
          "base_uri": "https://localhost:8080/",
          "height": 541
        },
        "id": "f4fd3b50",
        "outputId": "e511a343-0af9-4518-812e-a422b535d56f"
      },
      "outputs": [
        {
          "output_type": "execute_result",
          "data": {
            "text/plain": [
              "<matplotlib.axes._subplots.AxesSubplot at 0x7f80fcc1c520>"
            ]
          },
          "metadata": {},
          "execution_count": 16
        },
        {
          "output_type": "display_data",
          "data": {
            "text/plain": [
              "<Figure size 1152x648 with 1 Axes>"
            ],
            "image/png": "[encoded data removed]"
          },
          "metadata": {
            "needs_background": "light"
          }
        }
      ],
      "source": [
        "plt.figure(figsize = (16,9))\n",
        "sns.barplot(x = 'Country', y = 'Market cap added',data  = df_country_marketcap)"
      ]
    },
    {
      "cell_type": "markdown",
      "id": "9dd82b69",
      "metadata": {
        "id": "9dd82b69"
      },
      "source": [
        "Indeed, the above story repicated in actual capital invested in respective countries. US and Chinese companies market capital appreciared the most and outweigh the rest of the world."
      ]
    },
    {
      "cell_type": "code",
      "execution_count": 17,
      "id": "10a1f0ee",
      "metadata": {
        "colab": {
          "base_uri": "https://localhost:8080/",
          "height": 81
        },
        "id": "10a1f0ee",
        "outputId": "230be8df-a600-4340-a051-32e00df88bad"
      },
      "outputs": [
        {
          "output_type": "execute_result",
          "data": {
            "text/plain": [
              "    S.No              Company Country  Sector  Market Cap Prior  \\\n",
              "88    89  Reliance Industries   India  Energy             125.5   \n",
              "\n",
              "    Market cap ($bn)  Market cap added  Change  \n",
              "88             134.5               9.0     7.2  "
            ],
            "text/html": [
              "\n",
              "  <div id=\"df-bbf18e5e-1b03-451b-910e-2ea3d4d9da20\">\n",
              "    <div class=\"colab-df-container\">\n",
              "      <div>\n",
              "<style scoped>\n",
              "    .dataframe tbody tr th:only-of-type {\n",
              "        vertical-align: middle;\n",
              "    }\n",
              "\n",
              "    .dataframe tbody tr th {\n",
              "        vertical-align: top;\n",
              "    }\n",
              "\n",
              "    .dataframe thead th {\n",
              "        text-align: right;\n",
              "    }\n",
              "</style>\n",
              "<table border=\"1\" class=\"dataframe\">\n",
              "  <thead>\n",
              "    <tr style=\"text-align: right;\">\n",
              "      <th></th>\n",
              "      <th>S.No</th>\n",
              "      <th>Company</th>\n",
              "      <th>Country</th>\n",
              "      <th>Sector</th>\n",
              "      <th>Market Cap Prior</th>\n",
              "      <th>Market cap ($bn)</th>\n",
              "      <th>Market cap added</th>\n",
              "      <th>Change</th>\n",
              "    </tr>\n",
              "  </thead>\n",
              "  <tbody>\n",
              "    <tr>\n",
              "      <th>88</th>\n",
              "      <td>89</td>\n",
              "      <td>Reliance Industries</td>\n",
              "      <td>India</td>\n",
              "      <td>Energy</td>\n",
              "      <td>125.5</td>\n",
              "      <td>134.5</td>\n",
              "      <td>9.0</td>\n",
              "      <td>7.2</td>\n",
              "    </tr>\n",
              "  </tbody>\n",
              "</table>\n",
              "</div>\n",
              "      <button class=\"colab-df-convert\" onclick=\"convertToInteractive('df-bbf18e5e-1b03-451b-910e-2ea3d4d9da20')\"\n",
              "              title=\"Convert this dataframe to an interactive table.\"\n",
              "              style=\"display:none;\">\n",
              "        \n",
              "  <svg xmlns=\"http://www.w3.org/2000/svg\" height=\"24px\"viewBox=\"0 0 24 24\"\n",
              "       width=\"24px\">\n",
              "    <path d=\"M0 0h24v24H0V0z\" fill=\"none\"/>\n",
              "    <path d=\"M18.56 5.44l.94 2.06.94-2.06 2.06-.94-2.06-.94-.94-2.06-.94 2.06-2.06.94zm-11 1L8.5 8.5l.94-2.06 2.06-.94-2.06-.94L8.5 2.5l-.94 2.06-2.06.94zm10 10l.94 2.06.94-2.06 2.06-.94-2.06-.94-.94-2.06-.94 2.06-2.06.94z\"/><path d=\"M17.41 7.96l-1.37-1.37c-.4-.4-.92-.59-1.43-.59-.52 0-1.04.2-1.43.59L10.3 9.45l-7.72 7.72c-.78.78-.78 2.05 0 2.83L4 21.41c.39.39.9.59 1.41.59.51 0 1.02-.2 1.41-.59l7.78-7.78 2.81-2.81c.8-.78.8-2.07 0-2.86zM5.41 20L4 18.59l7.72-7.72 1.47 1.35L5.41 20z\"/>\n",
              "  </svg>\n",
              "      </button>\n",
              "      \n",
              "  <style>\n",
              "    .colab-df-container {\n",
              "      display:flex;\n",
              "      flex-wrap:wrap;\n",
              "      gap: 12px;\n",
              "    }\n",
              "\n",
              "    .colab-df-convert {\n",
              "      background-color: #E8F0FE;\n",
              "      border: none;\n",
              "      border-radius: 50%;\n",
              "      cursor: pointer;\n",
              "      display: none;\n",
              "      fill: #1967D2;\n",
              "      height: 32px;\n",
              "      padding: 0 0 0 0;\n",
              "      width: 32px;\n",
              "    }\n",
              "\n",
              "    .colab-df-convert:hover {\n",
              "      background-color: #E2EBFA;\n",
              "      box-shadow: 0px 1px 2px rgba(60, 64, 67, 0.3), 0px 1px 3px 1px rgba(60, 64, 67, 0.15);\n",
              "      fill: #174EA6;\n",
              "    }\n",
              "\n",
              "    [theme=dark] .colab-df-convert {\n",
              "      background-color: #3B4455;\n",
              "      fill: #D2E3FC;\n",
              "    }\n",
              "\n",
              "    [theme=dark] .colab-df-convert:hover {\n",
              "      background-color: #434B5C;\n",
              "      box-shadow: 0px 1px 3px 1px rgba(0, 0, 0, 0.15);\n",
              "      filter: drop-shadow(0px 1px 2px rgba(0, 0, 0, 0.3));\n",
              "      fill: #FFFFFF;\n",
              "    }\n",
              "  </style>\n",
              "\n",
              "      <script>\n",
              "        const buttonEl =\n",
              "          document.querySelector('#df-bbf18e5e-1b03-451b-910e-2ea3d4d9da20 button.colab-df-convert');\n",
              "        buttonEl.style.display =\n",
              "          google.colab.kernel.accessAllowed ? 'block' : 'none';\n",
              "\n",
              "        async function convertToInteractive(key) {\n",
              "          const element = document.querySelector('#df-bbf18e5e-1b03-451b-910e-2ea3d4d9da20');\n",
              "          const dataTable =\n",
              "            await google.colab.kernel.invokeFunction('convertToInteractive',\n",
              "                                                     [key], {});\n",
              "          if (!dataTable) return;\n",
              "\n",
              "          const docLinkHtml = 'Like what you see? Visit the ' +\n",
              "            '<a target=\"_blank\" href=https://colab.research.google.com/notebooks/data_table.ipynb>data table notebook</a>'\n",
              "            + ' to learn more about interactive tables.';\n",
              "          element.innerHTML = '';\n",
              "          dataTable['output_type'] = 'display_data';\n",
              "          await google.colab.output.renderOutput(dataTable, element);\n",
              "          const docLink = document.createElement('div');\n",
              "          docLink.innerHTML = docLinkHtml;\n",
              "          element.appendChild(docLink);\n",
              "        }\n",
              "      </script>\n",
              "    </div>\n",
              "  </div>\n",
              "  "
            ]
          },
          "metadata": {},
          "execution_count": 17
        }
      ],
      "source": [
        "df[df['Country']=='India']"
      ]
    },
    {
      "cell_type": "markdown",
      "id": "04feca4d",
      "metadata": {
        "id": "04feca4d"
      },
      "source": [
        "Reliance is the only Firm company which come in Top 100 list.\n"
      ]
    },
    {
      "cell_type": "markdown",
      "id": "05cccc78",
      "metadata": {
        "id": "05cccc78"
      },
      "source": [
        "#### Total Capital added in respective countries highest to lowest:"
      ]
    },
    {
      "cell_type": "code",
      "execution_count": 18,
      "id": "15f0d20f",
      "metadata": {
        "colab": {
          "base_uri": "https://localhost:8080/",
          "height": 363
        },
        "id": "15f0d20f",
        "outputId": "89406f5d-a3cb-41fb-a6d9-6afe2d6e8226"
      },
      "outputs": [
        {
          "output_type": "execute_result",
          "data": {
            "text/plain": [
              "       Company  Market cap added\n",
              "0       Amazon             401.1\n",
              "1    Microsoft             269.9\n",
              "2        Apple             219.1\n",
              "3        Tesla             108.4\n",
              "4      Tencent              93.1\n",
              "5     Facebook              85.7\n",
              "6       Nvidia              83.3\n",
              "7     Alphabet              68.1\n",
              "8       PayPal              65.4\n",
              "9  T-Mobile US              59.7"
            ],
            "text/html": [
              "\n",
              "  <div id=\"df-39f48dc4-2e11-41ee-9afb-b44529cd9927\">\n",
              "    <div class=\"colab-df-container\">\n",
              "      <div>\n",
              "<style scoped>\n",
              "    .dataframe tbody tr th:only-of-type {\n",
              "        vertical-align: middle;\n",
              "    }\n",
              "\n",
              "    .dataframe tbody tr th {\n",
              "        vertical-align: top;\n",
              "    }\n",
              "\n",
              "    .dataframe thead th {\n",
              "        text-align: right;\n",
              "    }\n",
              "</style>\n",
              "<table border=\"1\" class=\"dataframe\">\n",
              "  <thead>\n",
              "    <tr style=\"text-align: right;\">\n",
              "      <th></th>\n",
              "      <th>Company</th>\n",
              "      <th>Market cap added</th>\n",
              "    </tr>\n",
              "  </thead>\n",
              "  <tbody>\n",
              "    <tr>\n",
              "      <th>0</th>\n",
              "      <td>Amazon</td>\n",
              "      <td>401.1</td>\n",
              "    </tr>\n",
              "    <tr>\n",
              "      <th>1</th>\n",
              "      <td>Microsoft</td>\n",
              "      <td>269.9</td>\n",
              "    </tr>\n",
              "    <tr>\n",
              "      <th>2</th>\n",
              "      <td>Apple</td>\n",
              "      <td>219.1</td>\n",
              "    </tr>\n",
              "    <tr>\n",
              "      <th>3</th>\n",
              "      <td>Tesla</td>\n",
              "      <td>108.4</td>\n",
              "    </tr>\n",
              "    <tr>\n",
              "      <th>4</th>\n",
              "      <td>Tencent</td>\n",
              "      <td>93.1</td>\n",
              "    </tr>\n",
              "    <tr>\n",
              "      <th>5</th>\n",
              "      <td>Facebook</td>\n",
              "      <td>85.7</td>\n",
              "    </tr>\n",
              "    <tr>\n",
              "      <th>6</th>\n",
              "      <td>Nvidia</td>\n",
              "      <td>83.3</td>\n",
              "    </tr>\n",
              "    <tr>\n",
              "      <th>7</th>\n",
              "      <td>Alphabet</td>\n",
              "      <td>68.1</td>\n",
              "    </tr>\n",
              "    <tr>\n",
              "      <th>8</th>\n",
              "      <td>PayPal</td>\n",
              "      <td>65.4</td>\n",
              "    </tr>\n",
              "    <tr>\n",
              "      <th>9</th>\n",
              "      <td>T-Mobile US</td>\n",
              "      <td>59.7</td>\n",
              "    </tr>\n",
              "  </tbody>\n",
              "</table>\n",
              "</div>\n",
              "      <button class=\"colab-df-convert\" onclick=\"convertToInteractive('df-39f48dc4-2e11-41ee-9afb-b44529cd9927')\"\n",
              "              title=\"Convert this dataframe to an interactive table.\"\n",
              "              style=\"display:none;\">\n",
              "        \n",
              "  <svg xmlns=\"http://www.w3.org/2000/svg\" height=\"24px\"viewBox=\"0 0 24 24\"\n",
              "       width=\"24px\">\n",
              "    <path d=\"M0 0h24v24H0V0z\" fill=\"none\"/>\n",
              "    <path d=\"M18.56 5.44l.94 2.06.94-2.06 2.06-.94-2.06-.94-.94-2.06-.94 2.06-2.06.94zm-11 1L8.5 8.5l.94-2.06 2.06-.94-2.06-.94L8.5 2.5l-.94 2.06-2.06.94zm10 10l.94 2.06.94-2.06 2.06-.94-2.06-.94-.94-2.06-.94 2.06-2.06.94z\"/><path d=\"M17.41 7.96l-1.37-1.37c-.4-.4-.92-.59-1.43-.59-.52 0-1.04.2-1.43.59L10.3 9.45l-7.72 7.72c-.78.78-.78 2.05 0 2.83L4 21.41c.39.39.9.59 1.41.59.51 0 1.02-.2 1.41-.59l7.78-7.78 2.81-2.81c.8-.78.8-2.07 0-2.86zM5.41 20L4 18.59l7.72-7.72 1.47 1.35L5.41 20z\"/>\n",
              "  </svg>\n",
              "      </button>\n",
              "      \n",
              "  <style>\n",
              "    .colab-df-container {\n",
              "      display:flex;\n",
              "      flex-wrap:wrap;\n",
              "      gap: 12px;\n",
              "    }\n",
              "\n",
              "    .colab-df-convert {\n",
              "      background-color: #E8F0FE;\n",
              "      border: none;\n",
              "      border-radius: 50%;\n",
              "      cursor: pointer;\n",
              "      display: none;\n",
              "      fill: #1967D2;\n",
              "      height: 32px;\n",
              "      padding: 0 0 0 0;\n",
              "      width: 32px;\n",
              "    }\n",
              "\n",
              "    .colab-df-convert:hover {\n",
              "      background-color: #E2EBFA;\n",
              "      box-shadow: 0px 1px 2px rgba(60, 64, 67, 0.3), 0px 1px 3px 1px rgba(60, 64, 67, 0.15);\n",
              "      fill: #174EA6;\n",
              "    }\n",
              "\n",
              "    [theme=dark] .colab-df-convert {\n",
              "      background-color: #3B4455;\n",
              "      fill: #D2E3FC;\n",
              "    }\n",
              "\n",
              "    [theme=dark] .colab-df-convert:hover {\n",
              "      background-color: #434B5C;\n",
              "      box-shadow: 0px 1px 3px 1px rgba(0, 0, 0, 0.15);\n",
              "      filter: drop-shadow(0px 1px 2px rgba(0, 0, 0, 0.3));\n",
              "      fill: #FFFFFF;\n",
              "    }\n",
              "  </style>\n",
              "\n",
              "      <script>\n",
              "        const buttonEl =\n",
              "          document.querySelector('#df-39f48dc4-2e11-41ee-9afb-b44529cd9927 button.colab-df-convert');\n",
              "        buttonEl.style.display =\n",
              "          google.colab.kernel.accessAllowed ? 'block' : 'none';\n",
              "\n",
              "        async function convertToInteractive(key) {\n",
              "          const element = document.querySelector('#df-39f48dc4-2e11-41ee-9afb-b44529cd9927');\n",
              "          const dataTable =\n",
              "            await google.colab.kernel.invokeFunction('convertToInteractive',\n",
              "                                                     [key], {});\n",
              "          if (!dataTable) return;\n",
              "\n",
              "          const docLinkHtml = 'Like what you see? Visit the ' +\n",
              "            '<a target=\"_blank\" href=https://colab.research.google.com/notebooks/data_table.ipynb>data table notebook</a>'\n",
              "            + ' to learn more about interactive tables.';\n",
              "          element.innerHTML = '';\n",
              "          dataTable['output_type'] = 'display_data';\n",
              "          await google.colab.output.renderOutput(dataTable, element);\n",
              "          const docLink = document.createElement('div');\n",
              "          docLink.innerHTML = docLinkHtml;\n",
              "          element.appendChild(docLink);\n",
              "        }\n",
              "      </script>\n",
              "    </div>\n",
              "  </div>\n",
              "  "
            ]
          },
          "metadata": {},
          "execution_count": 18
        }
      ],
      "source": [
        "df[['Company','Market cap added']].head(10)"
      ]
    },
    {
      "cell_type": "code",
      "execution_count": 19,
      "id": "0254d898",
      "metadata": {
        "scrolled": false,
        "colab": {
          "base_uri": "https://localhost:8080/",
          "height": 542
        },
        "id": "0254d898",
        "outputId": "f7a202a6-85d7-4d92-cd72-7c9802b1ce4c"
      },
      "outputs": [
        {
          "output_type": "display_data",
          "data": {
            "text/html": [
              "<html>\n",
              "<head><meta charset=\"utf-8\" /></head>\n",
              "<body>\n",
              "    <div>            <script src=\"https://cdnjs.cloudflare.com/ajax/libs/mathjax/2.7.5/MathJax.js?config=TeX-AMS-MML_SVG\"></script><script type=\"text/javascript\">if (window.MathJax) {MathJax.Hub.Config({SVG: {font: \"STIX-Web\"}});}</script>                <script type=\"text/javascript\">window.PlotlyConfig = {MathJaxConfig: 'local'};</script>\n",
              "        <script src=\"https://cdn.plot.ly/plotly-2.8.3.min.js\"></script>                <div id=\"d36c24e4-b056-44d1-8b8b-3fe8de464cea\" class=\"plotly-graph-div\" style=\"height:525px; width:100%;\"></div>            <script type=\"text/javascript\">                                    window.PLOTLYENV=window.PLOTLYENV || {};                                    if (document.getElementById(\"d36c24e4-b056-44d1-8b8b-3fe8de464cea\")) {                    Plotly.newPlot(                        \"d36c24e4-b056-44d1-8b8b-3fe8de464cea\",                        [{\"alignmentgroup\":\"True\",\"hovertemplate\":\"Company=%{x}<br>Market cap added=%{y}<extra></extra>\",\"legendgroup\":\"\",\"marker\":{\"color\":\"#636efa\",\"pattern\":{\"shape\":\"\"}},\"name\":\"\",\"offsetgroup\":\"\",\"orientation\":\"v\",\"showlegend\":false,\"textposition\":\"auto\",\"x\":[\"Amazon\",\"Microsoft\",\"Apple\",\"Tesla\",\"Tencent\",\"Facebook\",\"Nvidia\",\"Alphabet\",\"PayPal\",\"T-Mobile US\",\"Pinduoduo\",\"Netflix\",\"Meituan Dianping\",\"Shopify\",\"Zoom Video\",\"JD.com\",\"Adobe\",\"Audi\",\"AbbVie\",\"Kweichow Moutai\",\"Chugai Pharmaceutical\",\"Alibaba\",\"Sea Group\",\"Home Depot\",\"ASML\",\"Roche\",\"Prosus\",\"ServiceNow\",\"Regeneron Pharmaceuticals\",\"Alibaba Health Information Technology\",\"Samsung Biologics\",\"Novo Nordisk\",\"Salesforce\",\"Adyen\",\"Eli Lilly\",\"Moderna\",\"MercadoLibre\",\"Dexcom\",\"NetEase\",\"Shenzhen Mindray Bio-Medical Electronics\",\"DocuSign\",\"Vertex Pharmaceuticals\",\"Twilio\",\"Square\",\"Contemporary Amperex Technology\",\"American Tower\",\"Prologis\",\"Keyence\",\"Atlassian\",\"Luxshare Precision\",\"Nestl\\u00e9\",\"Danaher\",\"Digital Realty Trust\",\"Datadog\",\"Veeva Systems\",\"International Holdings\",\"Activision Blizzard\",\"Equinix\",\"S&P Global\",\"Advanced Micro Devices\",\"Autodesk\",\"Lonza\",\"Crown Castle International\",\"Jiangsu Hengrui Medicine\",\"Flutter Entertainment\",\"Foshan Haitian Flavouring and Food\",\"Wuliangye Yibin\",\"Daiichi Sankyo\",\"CrowdStrike\",\"SF Holding\",\"ZTO Express\",\"Celltrion\",\"Wayfair\",\"Centene\",\"Herm\\u00e8s International\",\"Lowe's\",\"Spotify\",\"Hansoh Pharmaceutical\",\"Gilead Sciences\",\"Okta\",\"Barrick Gold\",\"Chongqing Zhifei Biological\",\"China Tourism Group Duty Free\",\"Muyuan Foods\",\"TAL Education\",\"RingCentral\",\"Lululemon Athletica\",\"LG Chem\",\"Reliance Industries\",\"Offcn Education Technology\",\"Newmont\",\"Just Eat Takeaway\",\"Unilever\",\"AstraZeneca\",\"L'Or\\u00e9al\",\"Snap\",\"Changchun High & New Technology Industry\",\"Chewy\",\"GSX Techedu\",\"Teladoc Health\"],\"xaxis\":\"x\",\"y\":[401.1,269.9,219.1,108.4,93.1,85.7,83.3,68.1,65.4,59.7,55.2,55.1,53.7,51.5,48.0,44.4,40.1,37.8,37.8,35.6,33.9,32.8,31.9,31.6,27.3,27.1,24.7,23.2,20.2,20.2,20.0,19.8,19.2,19.0,18.8,18.1,18.1,17.2,17.1,17.0,16.4,16.3,16.1,15.7,15.4,15.2,15.1,14.6,14.2,14.2,14.2,14.1,14.0,13.7,13.5,12.6,12.5,12.0,11.9,11.7,11.6,11.6,11.5,11.5,11.5,11.3,11.2,11.2,11.1,11.1,11.0,10.9,10.8,10.8,10.6,10.6,10.4,10.3,10.3,10.2,10.1,10.1,9.5,9.4,9.4,9.4,9.4,9.4,9.0,9.0,9.0,9.0,9.0,8.8,8.8,8.7,8.5,8.3,8.2,8.2],\"yaxis\":\"y\",\"type\":\"bar\"}],                        {\"template\":{\"data\":{\"bar\":[{\"error_x\":{\"color\":\"#2a3f5f\"},\"error_y\":{\"color\":\"#2a3f5f\"},\"marker\":{\"line\":{\"color\":\"#E5ECF6\",\"width\":0.5},\"pattern\":{\"fillmode\":\"overlay\",\"size\":10,\"solidity\":0.2}},\"type\":\"bar\"}],\"barpolar\":[{\"marker\":{\"line\":{\"color\":\"#E5ECF6\",\"width\":0.5},\"pattern\":{\"fillmode\":\"overlay\",\"size\":10,\"solidity\":0.2}},\"type\":\"barpolar\"}],\"carpet\":[{\"aaxis\":{\"endlinecolor\":\"#2a3f5f\",\"gridcolor\":\"white\",\"linecolor\":\"white\",\"minorgridcolor\":\"white\",\"startlinecolor\":\"#2a3f5f\"},\"baxis\":{\"endlinecolor\":\"#2a3f5f\",\"gridcolor\":\"white\",\"linecolor\":\"white\",\"minorgridcolor\":\"white\",\"startlinecolor\":\"#2a3f5f\"},\"type\":\"carpet\"}],\"choropleth\":[{\"colorbar\":{\"outlinewidth\":0,\"ticks\":\"\"},\"type\":\"choropleth\"}],\"contour\":[{\"colorbar\":{\"outlinewidth\":0,\"ticks\":\"\"},\"colorscale\":[[0.0,\"#0d0887\"],[0.1111111111111111,\"#46039f\"],[0.2222222222222222,\"#7201a8\"],[0.3333333333333333,\"#9c179e\"],[0.4444444444444444,\"#bd3786\"],[0.5555555555555556,\"#d8576b\"],[0.6666666666666666,\"#ed7953\"],[0.7777777777777778,\"#fb9f3a\"],[0.8888888888888888,\"#fdca26\"],[1.0,\"#f0f921\"]],\"type\":\"contour\"}],\"contourcarpet\":[{\"colorbar\":{\"outlinewidth\":0,\"ticks\":\"\"},\"type\":\"contourcarpet\"}],\"heatmap\":[{\"colorbar\":{\"outlinewidth\":0,\"ticks\":\"\"},\"colorscale\":[[0.0,\"#0d0887\"],[0.1111111111111111,\"#46039f\"],[0.2222222222222222,\"#7201a8\"],[0.3333333333333333,\"#9c179e\"],[0.4444444444444444,\"#bd3786\"],[0.5555555555555556,\"#d8576b\"],[0.6666666666666666,\"#ed7953\"],[0.7777777777777778,\"#fb9f3a\"],[0.8888888888888888,\"#fdca26\"],[1.0,\"#f0f921\"]],\"type\":\"heatmap\"}],\"heatmapgl\":[{\"colorbar\":{\"outlinewidth\":0,\"ticks\":\"\"},\"colorscale\":[[0.0,\"#0d0887\"],[0.1111111111111111,\"#46039f\"],[0.2222222222222222,\"#7201a8\"],[0.3333333333333333,\"#9c179e\"],[0.4444444444444444,\"#bd3786\"],[0.5555555555555556,\"#d8576b\"],[0.6666666666666666,\"#ed7953\"],[0.7777777777777778,\"#fb9f3a\"],[0.8888888888888888,\"#fdca26\"],[1.0,\"#f0f921\"]],\"type\":\"heatmapgl\"}],\"histogram\":[{\"marker\":{\"pattern\":{\"fillmode\":\"overlay\",\"size\":10,\"solidity\":0.2}},\"type\":\"histogram\"}],\"histogram2d\":[{\"colorbar\":{\"outlinewidth\":0,\"ticks\":\"\"},\"colorscale\":[[0.0,\"#0d0887\"],[0.1111111111111111,\"#46039f\"],[0.2222222222222222,\"#7201a8\"],[0.3333333333333333,\"#9c179e\"],[0.4444444444444444,\"#bd3786\"],[0.5555555555555556,\"#d8576b\"],[0.6666666666666666,\"#ed7953\"],[0.7777777777777778,\"#fb9f3a\"],[0.8888888888888888,\"#fdca26\"],[1.0,\"#f0f921\"]],\"type\":\"histogram2d\"}],\"histogram2dcontour\":[{\"colorbar\":{\"outlinewidth\":0,\"ticks\":\"\"},\"colorscale\":[[0.0,\"#0d0887\"],[0.1111111111111111,\"#46039f\"],[0.2222222222222222,\"#7201a8\"],[0.3333333333333333,\"#9c179e\"],[0.4444444444444444,\"#bd3786\"],[0.5555555555555556,\"#d8576b\"],[0.6666666666666666,\"#ed7953\"],[0.7777777777777778,\"#fb9f3a\"],[0.8888888888888888,\"#fdca26\"],[1.0,\"#f0f921\"]],\"type\":\"histogram2dcontour\"}],\"mesh3d\":[{\"colorbar\":{\"outlinewidth\":0,\"ticks\":\"\"},\"type\":\"mesh3d\"}],\"parcoords\":[{\"line\":{\"colorbar\":{\"outlinewidth\":0,\"ticks\":\"\"}},\"type\":\"parcoords\"}],\"pie\":[{\"automargin\":true,\"type\":\"pie\"}],\"scatter\":[{\"marker\":{\"colorbar\":{\"outlinewidth\":0,\"ticks\":\"\"}},\"type\":\"scatter\"}],\"scatter3d\":[{\"line\":{\"colorbar\":{\"outlinewidth\":0,\"ticks\":\"\"}},\"marker\":{\"colorbar\":{\"outlinewidth\":0,\"ticks\":\"\"}},\"type\":\"scatter3d\"}],\"scattercarpet\":[{\"marker\":{\"colorbar\":{\"outlinewidth\":0,\"ticks\":\"\"}},\"type\":\"scattercarpet\"}],\"scattergeo\":[{\"marker\":{\"colorbar\":{\"outlinewidth\":0,\"ticks\":\"\"}},\"type\":\"scattergeo\"}],\"scattergl\":[{\"marker\":{\"colorbar\":{\"outlinewidth\":0,\"ticks\":\"\"}},\"type\":\"scattergl\"}],\"scattermapbox\":[{\"marker\":{\"colorbar\":{\"outlinewidth\":0,\"ticks\":\"\"}},\"type\":\"scattermapbox\"}],\"scatterpolar\":[{\"marker\":{\"colorbar\":{\"outlinewidth\":0,\"ticks\":\"\"}},\"type\":\"scatterpolar\"}],\"scatterpolargl\":[{\"marker\":{\"colorbar\":{\"outlinewidth\":0,\"ticks\":\"\"}},\"type\":\"scatterpolargl\"}],\"scatterternary\":[{\"marker\":{\"colorbar\":{\"outlinewidth\":0,\"ticks\":\"\"}},\"type\":\"scatterternary\"}],\"surface\":[{\"colorbar\":{\"outlinewidth\":0,\"ticks\":\"\"},\"colorscale\":[[0.0,\"#0d0887\"],[0.1111111111111111,\"#46039f\"],[0.2222222222222222,\"#7201a8\"],[0.3333333333333333,\"#9c179e\"],[0.4444444444444444,\"#bd3786\"],[0.5555555555555556,\"#d8576b\"],[0.6666666666666666,\"#ed7953\"],[0.7777777777777778,\"#fb9f3a\"],[0.8888888888888888,\"#fdca26\"],[1.0,\"#f0f921\"]],\"type\":\"surface\"}],\"table\":[{\"cells\":{\"fill\":{\"color\":\"#EBF0F8\"},\"line\":{\"color\":\"white\"}},\"header\":{\"fill\":{\"color\":\"#C8D4E3\"},\"line\":{\"color\":\"white\"}},\"type\":\"table\"}]},\"layout\":{\"annotationdefaults\":{\"arrowcolor\":\"#2a3f5f\",\"arrowhead\":0,\"arrowwidth\":1},\"autotypenumbers\":\"strict\",\"coloraxis\":{\"colorbar\":{\"outlinewidth\":0,\"ticks\":\"\"}},\"colorscale\":{\"diverging\":[[0,\"#8e0152\"],[0.1,\"#c51b7d\"],[0.2,\"#de77ae\"],[0.3,\"#f1b6da\"],[0.4,\"#fde0ef\"],[0.5,\"#f7f7f7\"],[0.6,\"#e6f5d0\"],[0.7,\"#b8e186\"],[0.8,\"#7fbc41\"],[0.9,\"#4d9221\"],[1,\"#276419\"]],\"sequential\":[[0.0,\"#0d0887\"],[0.1111111111111111,\"#46039f\"],[0.2222222222222222,\"#7201a8\"],[0.3333333333333333,\"#9c179e\"],[0.4444444444444444,\"#bd3786\"],[0.5555555555555556,\"#d8576b\"],[0.6666666666666666,\"#ed7953\"],[0.7777777777777778,\"#fb9f3a\"],[0.8888888888888888,\"#fdca26\"],[1.0,\"#f0f921\"]],\"sequentialminus\":[[0.0,\"#0d0887\"],[0.1111111111111111,\"#46039f\"],[0.2222222222222222,\"#7201a8\"],[0.3333333333333333,\"#9c179e\"],[0.4444444444444444,\"#bd3786\"],[0.5555555555555556,\"#d8576b\"],[0.6666666666666666,\"#ed7953\"],[0.7777777777777778,\"#fb9f3a\"],[0.8888888888888888,\"#fdca26\"],[1.0,\"#f0f921\"]]},\"colorway\":[\"#636efa\",\"#EF553B\",\"#00cc96\",\"#ab63fa\",\"#FFA15A\",\"#19d3f3\",\"#FF6692\",\"#B6E880\",\"#FF97FF\",\"#FECB52\"],\"font\":{\"color\":\"#2a3f5f\"},\"geo\":{\"bgcolor\":\"white\",\"lakecolor\":\"white\",\"landcolor\":\"#E5ECF6\",\"showlakes\":true,\"showland\":true,\"subunitcolor\":\"white\"},\"hoverlabel\":{\"align\":\"left\"},\"hovermode\":\"closest\",\"mapbox\":{\"style\":\"light\"},\"paper_bgcolor\":\"white\",\"plot_bgcolor\":\"#E5ECF6\",\"polar\":{\"angularaxis\":{\"gridcolor\":\"white\",\"linecolor\":\"white\",\"ticks\":\"\"},\"bgcolor\":\"#E5ECF6\",\"radialaxis\":{\"gridcolor\":\"white\",\"linecolor\":\"white\",\"ticks\":\"\"}},\"scene\":{\"xaxis\":{\"backgroundcolor\":\"#E5ECF6\",\"gridcolor\":\"white\",\"gridwidth\":2,\"linecolor\":\"white\",\"showbackground\":true,\"ticks\":\"\",\"zerolinecolor\":\"white\"},\"yaxis\":{\"backgroundcolor\":\"#E5ECF6\",\"gridcolor\":\"white\",\"gridwidth\":2,\"linecolor\":\"white\",\"showbackground\":true,\"ticks\":\"\",\"zerolinecolor\":\"white\"},\"zaxis\":{\"backgroundcolor\":\"#E5ECF6\",\"gridcolor\":\"white\",\"gridwidth\":2,\"linecolor\":\"white\",\"showbackground\":true,\"ticks\":\"\",\"zerolinecolor\":\"white\"}},\"shapedefaults\":{\"line\":{\"color\":\"#2a3f5f\"}},\"ternary\":{\"aaxis\":{\"gridcolor\":\"white\",\"linecolor\":\"white\",\"ticks\":\"\"},\"baxis\":{\"gridcolor\":\"white\",\"linecolor\":\"white\",\"ticks\":\"\"},\"bgcolor\":\"#E5ECF6\",\"caxis\":{\"gridcolor\":\"white\",\"linecolor\":\"white\",\"ticks\":\"\"}},\"title\":{\"x\":0.05},\"xaxis\":{\"automargin\":true,\"gridcolor\":\"white\",\"linecolor\":\"white\",\"ticks\":\"\",\"title\":{\"standoff\":15},\"zerolinecolor\":\"white\",\"zerolinewidth\":2},\"yaxis\":{\"automargin\":true,\"gridcolor\":\"white\",\"linecolor\":\"white\",\"ticks\":\"\",\"title\":{\"standoff\":15},\"zerolinecolor\":\"white\",\"zerolinewidth\":2}}},\"xaxis\":{\"anchor\":\"y\",\"domain\":[0.0,1.0],\"title\":{\"text\":\"Company\"}},\"yaxis\":{\"anchor\":\"x\",\"domain\":[0.0,1.0],\"title\":{\"text\":\"Market cap added\"}},\"legend\":{\"tracegroupgap\":0},\"margin\":{\"t\":60},\"barmode\":\"relative\"},                        {\"responsive\": true}                    ).then(function(){\n",
              "                            \n",
              "var gd = document.getElementById('d36c24e4-b056-44d1-8b8b-3fe8de464cea');\n",
              "var x = new MutationObserver(function (mutations, observer) {{\n",
              "        var display = window.getComputedStyle(gd).display;\n",
              "        if (!display || display === 'none') {{\n",
              "            console.log([gd, 'removed!']);\n",
              "            Plotly.purge(gd);\n",
              "            observer.disconnect();\n",
              "        }}\n",
              "}});\n",
              "\n",
              "// Listen for the removal of the full notebook cells\n",
              "var notebookContainer = gd.closest('#notebook-container');\n",
              "if (notebookContainer) {{\n",
              "    x.observe(notebookContainer, {childList: true});\n",
              "}}\n",
              "\n",
              "// Listen for the clearing of the current output cell\n",
              "var outputEl = gd.closest('.output');\n",
              "if (outputEl) {{\n",
              "    x.observe(outputEl, {childList: true});\n",
              "}}\n",
              "\n",
              "                        })                };                            </script>        </div>\n",
              "</body>\n",
              "</html>"
            ]
          },
          "metadata": {}
        }
      ],
      "source": [
        "px.bar(df, x='Company', y='Market cap added')"
      ]
    },
    {
      "cell_type": "markdown",
      "id": "ea40b6ff",
      "metadata": {
        "id": "ea40b6ff"
      },
      "source": [
        "Amazon a Consumer discretionary seller, Microsoft and Apple (tech companies) are top companies in which highest market capital invested in pandemic period."
      ]
    },
    {
      "cell_type": "markdown",
      "id": "c427478e",
      "metadata": {
        "id": "c427478e"
      },
      "source": [
        "### %capital change vs Countries from highest to lowest:"
      ]
    },
    {
      "cell_type": "code",
      "execution_count": 20,
      "id": "e1b668d3",
      "metadata": {
        "colab": {
          "base_uri": "https://localhost:8080/",
          "height": 363
        },
        "id": "e1b668d3",
        "outputId": "4d8f172f-87f1-4ed7-a051-d0eaf8756604"
      },
      "outputs": [
        {
          "output_type": "execute_result",
          "data": {
            "text/plain": [
              "                                  Company  Change\n",
              "55                 International Holdings   408.7\n",
              "35                                Moderna   277.6\n",
              "14                             Zoom Video   255.1\n",
              "22                              Sea Group   171.1\n",
              "98                            GSX Techedu   160.1\n",
              "91                      Just Eat Takeaway   159.8\n",
              "29  Alibaba Health Information Technology   145.3\n",
              "3                                   Tesla   143.8\n",
              "99                         Teladoc Health   136.0\n",
              "72                                Wayfair   128.1"
            ],
            "text/html": [
              "\n",
              "  <div id=\"df-2f62060d-ea70-42aa-8e39-cd7009823f2d\">\n",
              "    <div class=\"colab-df-container\">\n",
              "      <div>\n",
              "<style scoped>\n",
              "    .dataframe tbody tr th:only-of-type {\n",
              "        vertical-align: middle;\n",
              "    }\n",
              "\n",
              "    .dataframe tbody tr th {\n",
              "        vertical-align: top;\n",
              "    }\n",
              "\n",
              "    .dataframe thead th {\n",
              "        text-align: right;\n",
              "    }\n",
              "</style>\n",
              "<table border=\"1\" class=\"dataframe\">\n",
              "  <thead>\n",
              "    <tr style=\"text-align: right;\">\n",
              "      <th></th>\n",
              "      <th>Company</th>\n",
              "      <th>Change</th>\n",
              "    </tr>\n",
              "  </thead>\n",
              "  <tbody>\n",
              "    <tr>\n",
              "      <th>55</th>\n",
              "      <td>International Holdings</td>\n",
              "      <td>408.7</td>\n",
              "    </tr>\n",
              "    <tr>\n",
              "      <th>35</th>\n",
              "      <td>Moderna</td>\n",
              "      <td>277.6</td>\n",
              "    </tr>\n",
              "    <tr>\n",
              "      <th>14</th>\n",
              "      <td>Zoom Video</td>\n",
              "      <td>255.1</td>\n",
              "    </tr>\n",
              "    <tr>\n",
              "      <th>22</th>\n",
              "      <td>Sea Group</td>\n",
              "      <td>171.1</td>\n",
              "    </tr>\n",
              "    <tr>\n",
              "      <th>98</th>\n",
              "      <td>GSX Techedu</td>\n",
              "      <td>160.1</td>\n",
              "    </tr>\n",
              "    <tr>\n",
              "      <th>91</th>\n",
              "      <td>Just Eat Takeaway</td>\n",
              "      <td>159.8</td>\n",
              "    </tr>\n",
              "    <tr>\n",
              "      <th>29</th>\n",
              "      <td>Alibaba Health Information Technology</td>\n",
              "      <td>145.3</td>\n",
              "    </tr>\n",
              "    <tr>\n",
              "      <th>3</th>\n",
              "      <td>Tesla</td>\n",
              "      <td>143.8</td>\n",
              "    </tr>\n",
              "    <tr>\n",
              "      <th>99</th>\n",
              "      <td>Teladoc Health</td>\n",
              "      <td>136.0</td>\n",
              "    </tr>\n",
              "    <tr>\n",
              "      <th>72</th>\n",
              "      <td>Wayfair</td>\n",
              "      <td>128.1</td>\n",
              "    </tr>\n",
              "  </tbody>\n",
              "</table>\n",
              "</div>\n",
              "      <button class=\"colab-df-convert\" onclick=\"convertToInteractive('df-2f62060d-ea70-42aa-8e39-cd7009823f2d')\"\n",
              "              title=\"Convert this dataframe to an interactive table.\"\n",
              "              style=\"display:none;\">\n",
              "        \n",
              "  <svg xmlns=\"http://www.w3.org/2000/svg\" height=\"24px\"viewBox=\"0 0 24 24\"\n",
              "       width=\"24px\">\n",
              "    <path d=\"M0 0h24v24H0V0z\" fill=\"none\"/>\n",
              "    <path d=\"M18.56 5.44l.94 2.06.94-2.06 2.06-.94-2.06-.94-.94-2.06-.94 2.06-2.06.94zm-11 1L8.5 8.5l.94-2.06 2.06-.94-2.06-.94L8.5 2.5l-.94 2.06-2.06.94zm10 10l.94 2.06.94-2.06 2.06-.94-2.06-.94-.94-2.06-.94 2.06-2.06.94z\"/><path d=\"M17.41 7.96l-1.37-1.37c-.4-.4-.92-.59-1.43-.59-.52 0-1.04.2-1.43.59L10.3 9.45l-7.72 7.72c-.78.78-.78 2.05 0 2.83L4 21.41c.39.39.9.59 1.41.59.51 0 1.02-.2 1.41-.59l7.78-7.78 2.81-2.81c.8-.78.8-2.07 0-2.86zM5.41 20L4 18.59l7.72-7.72 1.47 1.35L5.41 20z\"/>\n",
              "  </svg>\n",
              "      </button>\n",
              "      \n",
              "  <style>\n",
              "    .colab-df-container {\n",
              "      display:flex;\n",
              "      flex-wrap:wrap;\n",
              "      gap: 12px;\n",
              "    }\n",
              "\n",
              "    .colab-df-convert {\n",
              "      background-color: #E8F0FE;\n",
              "      border: none;\n",
              "      border-radius: 50%;\n",
              "      cursor: pointer;\n",
              "      display: none;\n",
              "      fill: #1967D2;\n",
              "      height: 32px;\n",
              "      padding: 0 0 0 0;\n",
              "      width: 32px;\n",
              "    }\n",
              "\n",
              "    .colab-df-convert:hover {\n",
              "      background-color: #E2EBFA;\n",
              "      box-shadow: 0px 1px 2px rgba(60, 64, 67, 0.3), 0px 1px 3px 1px rgba(60, 64, 67, 0.15);\n",
              "      fill: #174EA6;\n",
              "    }\n",
              "\n",
              "    [theme=dark] .colab-df-convert {\n",
              "      background-color: #3B4455;\n",
              "      fill: #D2E3FC;\n",
              "    }\n",
              "\n",
              "    [theme=dark] .colab-df-convert:hover {\n",
              "      background-color: #434B5C;\n",
              "      box-shadow: 0px 1px 3px 1px rgba(0, 0, 0, 0.15);\n",
              "      filter: drop-shadow(0px 1px 2px rgba(0, 0, 0, 0.3));\n",
              "      fill: #FFFFFF;\n",
              "    }\n",
              "  </style>\n",
              "\n",
              "      <script>\n",
              "        const buttonEl =\n",
              "          document.querySelector('#df-2f62060d-ea70-42aa-8e39-cd7009823f2d button.colab-df-convert');\n",
              "        buttonEl.style.display =\n",
              "          google.colab.kernel.accessAllowed ? 'block' : 'none';\n",
              "\n",
              "        async function convertToInteractive(key) {\n",
              "          const element = document.querySelector('#df-2f62060d-ea70-42aa-8e39-cd7009823f2d');\n",
              "          const dataTable =\n",
              "            await google.colab.kernel.invokeFunction('convertToInteractive',\n",
              "                                                     [key], {});\n",
              "          if (!dataTable) return;\n",
              "\n",
              "          const docLinkHtml = 'Like what you see? Visit the ' +\n",
              "            '<a target=\"_blank\" href=https://colab.research.google.com/notebooks/data_table.ipynb>data table notebook</a>'\n",
              "            + ' to learn more about interactive tables.';\n",
              "          element.innerHTML = '';\n",
              "          dataTable['output_type'] = 'display_data';\n",
              "          await google.colab.output.renderOutput(dataTable, element);\n",
              "          const docLink = document.createElement('div');\n",
              "          docLink.innerHTML = docLinkHtml;\n",
              "          element.appendChild(docLink);\n",
              "        }\n",
              "      </script>\n",
              "    </div>\n",
              "  </div>\n",
              "  "
            ]
          },
          "metadata": {},
          "execution_count": 20
        }
      ],
      "source": [
        "df_sort_change = df.sort_values(by = 'Change', ascending  = False)\n",
        "df_sort_change[['Company','Change']].head(10)\n"
      ]
    },
    {
      "cell_type": "code",
      "execution_count": 21,
      "id": "8556365a",
      "metadata": {
        "colab": {
          "base_uri": "https://localhost:8080/",
          "height": 617
        },
        "id": "8556365a",
        "outputId": "45381cb3-b675-4c57-f60e-0f678e233d68"
      },
      "outputs": [
        {
          "output_type": "display_data",
          "data": {
            "text/html": [
              "<html>\n",
              "<head><meta charset=\"utf-8\" /></head>\n",
              "<body>\n",
              "    <div>            <script src=\"https://cdnjs.cloudflare.com/ajax/libs/mathjax/2.7.5/MathJax.js?config=TeX-AMS-MML_SVG\"></script><script type=\"text/javascript\">if (window.MathJax) {MathJax.Hub.Config({SVG: {font: \"STIX-Web\"}});}</script>                <script type=\"text/javascript\">window.PlotlyConfig = {MathJaxConfig: 'local'};</script>\n",
              "        <script src=\"https://cdn.plot.ly/plotly-2.8.3.min.js\"></script>                <div id=\"c89551cc-974c-47ae-9132-5c2c2ad5ef77\" class=\"plotly-graph-div\" style=\"height:600px; width:100%;\"></div>            <script type=\"text/javascript\">                                    window.PLOTLYENV=window.PLOTLYENV || {};                                    if (document.getElementById(\"c89551cc-974c-47ae-9132-5c2c2ad5ef77\")) {                    Plotly.newPlot(                        \"c89551cc-974c-47ae-9132-5c2c2ad5ef77\",                        [{\"alignmentgroup\":\"True\",\"hovertemplate\":\"Company=%{x}<br>Change=%{y}<extra></extra>\",\"legendgroup\":\"International Holdings\",\"marker\":{\"color\":\"#636efa\",\"pattern\":{\"shape\":\"\"}},\"name\":\"International Holdings\",\"offsetgroup\":\"International Holdings\",\"orientation\":\"v\",\"showlegend\":true,\"textposition\":\"auto\",\"x\":[\"International Holdings\"],\"xaxis\":\"x\",\"y\":[408.7],\"yaxis\":\"y\",\"type\":\"bar\"},{\"alignmentgroup\":\"True\",\"hovertemplate\":\"Company=%{x}<br>Change=%{y}<extra></extra>\",\"legendgroup\":\"Moderna\",\"marker\":{\"color\":\"#EF553B\",\"pattern\":{\"shape\":\"\"}},\"name\":\"Moderna\",\"offsetgroup\":\"Moderna\",\"orientation\":\"v\",\"showlegend\":true,\"textposition\":\"auto\",\"x\":[\"Moderna\"],\"xaxis\":\"x\",\"y\":[277.6],\"yaxis\":\"y\",\"type\":\"bar\"},{\"alignmentgroup\":\"True\",\"hovertemplate\":\"Company=%{x}<br>Change=%{y}<extra></extra>\",\"legendgroup\":\"Zoom Video\",\"marker\":{\"color\":\"#00cc96\",\"pattern\":{\"shape\":\"\"}},\"name\":\"Zoom Video\",\"offsetgroup\":\"Zoom Video\",\"orientation\":\"v\",\"showlegend\":true,\"textposition\":\"auto\",\"x\":[\"Zoom Video\"],\"xaxis\":\"x\",\"y\":[255.1],\"yaxis\":\"y\",\"type\":\"bar\"},{\"alignmentgroup\":\"True\",\"hovertemplate\":\"Company=%{x}<br>Change=%{y}<extra></extra>\",\"legendgroup\":\"Sea Group\",\"marker\":{\"color\":\"#ab63fa\",\"pattern\":{\"shape\":\"\"}},\"name\":\"Sea Group\",\"offsetgroup\":\"Sea Group\",\"orientation\":\"v\",\"showlegend\":true,\"textposition\":\"auto\",\"x\":[\"Sea Group\"],\"xaxis\":\"x\",\"y\":[171.1],\"yaxis\":\"y\",\"type\":\"bar\"},{\"alignmentgroup\":\"True\",\"hovertemplate\":\"Company=%{x}<br>Change=%{y}<extra></extra>\",\"legendgroup\":\"GSX Techedu\",\"marker\":{\"color\":\"#FFA15A\",\"pattern\":{\"shape\":\"\"}},\"name\":\"GSX Techedu\",\"offsetgroup\":\"GSX Techedu\",\"orientation\":\"v\",\"showlegend\":true,\"textposition\":\"auto\",\"x\":[\"GSX Techedu\"],\"xaxis\":\"x\",\"y\":[160.1],\"yaxis\":\"y\",\"type\":\"bar\"},{\"alignmentgroup\":\"True\",\"hovertemplate\":\"Company=%{x}<br>Change=%{y}<extra></extra>\",\"legendgroup\":\"Just Eat Takeaway\",\"marker\":{\"color\":\"#19d3f3\",\"pattern\":{\"shape\":\"\"}},\"name\":\"Just Eat Takeaway\",\"offsetgroup\":\"Just Eat Takeaway\",\"orientation\":\"v\",\"showlegend\":true,\"textposition\":\"auto\",\"x\":[\"Just Eat Takeaway\"],\"xaxis\":\"x\",\"y\":[159.8],\"yaxis\":\"y\",\"type\":\"bar\"},{\"alignmentgroup\":\"True\",\"hovertemplate\":\"Company=%{x}<br>Change=%{y}<extra></extra>\",\"legendgroup\":\"Alibaba Health Information Technology\",\"marker\":{\"color\":\"#FF6692\",\"pattern\":{\"shape\":\"\"}},\"name\":\"Alibaba Health Information Technology\",\"offsetgroup\":\"Alibaba Health Information Technology\",\"orientation\":\"v\",\"showlegend\":true,\"textposition\":\"auto\",\"x\":[\"Alibaba Health Information Technology\"],\"xaxis\":\"x\",\"y\":[145.3],\"yaxis\":\"y\",\"type\":\"bar\"},{\"alignmentgroup\":\"True\",\"hovertemplate\":\"Company=%{x}<br>Change=%{y}<extra></extra>\",\"legendgroup\":\"Tesla\",\"marker\":{\"color\":\"#B6E880\",\"pattern\":{\"shape\":\"\"}},\"name\":\"Tesla\",\"offsetgroup\":\"Tesla\",\"orientation\":\"v\",\"showlegend\":true,\"textposition\":\"auto\",\"x\":[\"Tesla\"],\"xaxis\":\"x\",\"y\":[143.8],\"yaxis\":\"y\",\"type\":\"bar\"},{\"alignmentgroup\":\"True\",\"hovertemplate\":\"Company=%{x}<br>Change=%{y}<extra></extra>\",\"legendgroup\":\"Teladoc Health\",\"marker\":{\"color\":\"#FF97FF\",\"pattern\":{\"shape\":\"\"}},\"name\":\"Teladoc Health\",\"offsetgroup\":\"Teladoc Health\",\"orientation\":\"v\",\"showlegend\":true,\"textposition\":\"auto\",\"x\":[\"Teladoc Health\"],\"xaxis\":\"x\",\"y\":[136.0],\"yaxis\":\"y\",\"type\":\"bar\"},{\"alignmentgroup\":\"True\",\"hovertemplate\":\"Company=%{x}<br>Change=%{y}<extra></extra>\",\"legendgroup\":\"Wayfair\",\"marker\":{\"color\":\"#FECB52\",\"pattern\":{\"shape\":\"\"}},\"name\":\"Wayfair\",\"offsetgroup\":\"Wayfair\",\"orientation\":\"v\",\"showlegend\":true,\"textposition\":\"auto\",\"x\":[\"Wayfair\"],\"xaxis\":\"x\",\"y\":[128.1],\"yaxis\":\"y\",\"type\":\"bar\"},{\"alignmentgroup\":\"True\",\"hovertemplate\":\"Company=%{x}<br>Change=%{y}<extra></extra>\",\"legendgroup\":\"Pinduoduo\",\"marker\":{\"color\":\"#636efa\",\"pattern\":{\"shape\":\"\"}},\"name\":\"Pinduoduo\",\"offsetgroup\":\"Pinduoduo\",\"orientation\":\"v\",\"showlegend\":true,\"textposition\":\"auto\",\"x\":[\"Pinduoduo\"],\"xaxis\":\"x\",\"y\":[125.6],\"yaxis\":\"y\",\"type\":\"bar\"},{\"alignmentgroup\":\"True\",\"hovertemplate\":\"Company=%{x}<br>Change=%{y}<extra></extra>\",\"legendgroup\":\"DocuSign\",\"marker\":{\"color\":\"#EF553B\",\"pattern\":{\"shape\":\"\"}},\"name\":\"DocuSign\",\"offsetgroup\":\"DocuSign\",\"orientation\":\"v\",\"showlegend\":true,\"textposition\":\"auto\",\"x\":[\"DocuSign\"],\"xaxis\":\"x\",\"y\":[123.1],\"yaxis\":\"y\",\"type\":\"bar\"},{\"alignmentgroup\":\"True\",\"hovertemplate\":\"Company=%{x}<br>Change=%{y}<extra></extra>\",\"legendgroup\":\"Datadog\",\"marker\":{\"color\":\"#00cc96\",\"pattern\":{\"shape\":\"\"}},\"name\":\"Datadog\",\"offsetgroup\":\"Datadog\",\"orientation\":\"v\",\"showlegend\":true,\"textposition\":\"auto\",\"x\":[\"Datadog\"],\"xaxis\":\"x\",\"y\":[122.4],\"yaxis\":\"y\",\"type\":\"bar\"},{\"alignmentgroup\":\"True\",\"hovertemplate\":\"Company=%{x}<br>Change=%{y}<extra></extra>\",\"legendgroup\":\"Flutter Entertainment\",\"marker\":{\"color\":\"#ab63fa\",\"pattern\":{\"shape\":\"\"}},\"name\":\"Flutter Entertainment\",\"offsetgroup\":\"Flutter Entertainment\",\"orientation\":\"v\",\"showlegend\":true,\"textposition\":\"auto\",\"x\":[\"Flutter Entertainment\"],\"xaxis\":\"x\",\"y\":[121.6],\"yaxis\":\"y\",\"type\":\"bar\"},{\"alignmentgroup\":\"True\",\"hovertemplate\":\"Company=%{x}<br>Change=%{y}<extra></extra>\",\"legendgroup\":\"Twilio\",\"marker\":{\"color\":\"#FFA15A\",\"pattern\":{\"shape\":\"\"}},\"name\":\"Twilio\",\"offsetgroup\":\"Twilio\",\"orientation\":\"v\",\"showlegend\":true,\"textposition\":\"auto\",\"x\":[\"Twilio\"],\"xaxis\":\"x\",\"y\":[119.5],\"yaxis\":\"y\",\"type\":\"bar\"},{\"alignmentgroup\":\"True\",\"hovertemplate\":\"Company=%{x}<br>Change=%{y}<extra></extra>\",\"legendgroup\":\"Shopify\",\"marker\":{\"color\":\"#19d3f3\",\"pattern\":{\"shape\":\"\"}},\"name\":\"Shopify\",\"offsetgroup\":\"Shopify\",\"orientation\":\"v\",\"showlegend\":true,\"textposition\":\"auto\",\"x\":[\"Shopify\"],\"xaxis\":\"x\",\"y\":[111.7],\"yaxis\":\"y\",\"type\":\"bar\"},{\"alignmentgroup\":\"True\",\"hovertemplate\":\"Company=%{x}<br>Change=%{y}<extra></extra>\",\"legendgroup\":\"CrowdStrike\",\"marker\":{\"color\":\"#FF6692\",\"pattern\":{\"shape\":\"\"}},\"name\":\"CrowdStrike\",\"offsetgroup\":\"CrowdStrike\",\"orientation\":\"v\",\"showlegend\":true,\"textposition\":\"auto\",\"x\":[\"CrowdStrike\"],\"xaxis\":\"x\",\"y\":[108.0],\"yaxis\":\"y\",\"type\":\"bar\"},{\"alignmentgroup\":\"True\",\"hovertemplate\":\"Company=%{x}<br>Change=%{y}<extra></extra>\",\"legendgroup\":\"Audi\",\"marker\":{\"color\":\"#B6E880\",\"pattern\":{\"shape\":\"\"}},\"name\":\"Audi\",\"offsetgroup\":\"Audi\",\"orientation\":\"v\",\"showlegend\":true,\"textposition\":\"auto\",\"x\":[\"Audi\"],\"xaxis\":\"x\",\"y\":[98.4],\"yaxis\":\"y\",\"type\":\"bar\"},{\"alignmentgroup\":\"True\",\"hovertemplate\":\"Company=%{x}<br>Change=%{y}<extra></extra>\",\"legendgroup\":\"T-Mobile US\",\"marker\":{\"color\":\"#FF97FF\",\"pattern\":{\"shape\":\"\"}},\"name\":\"T-Mobile US\",\"offsetgroup\":\"T-Mobile US\",\"orientation\":\"v\",\"showlegend\":true,\"textposition\":\"auto\",\"x\":[\"T-Mobile US\"],\"xaxis\":\"x\",\"y\":[89.0],\"yaxis\":\"y\",\"type\":\"bar\"},{\"alignmentgroup\":\"True\",\"hovertemplate\":\"Company=%{x}<br>Change=%{y}<extra></extra>\",\"legendgroup\":\"Chongqing Zhifei Biological\",\"marker\":{\"color\":\"#FECB52\",\"pattern\":{\"shape\":\"\"}},\"name\":\"Chongqing Zhifei Biological\",\"offsetgroup\":\"Chongqing Zhifei Biological\",\"orientation\":\"v\",\"showlegend\":true,\"textposition\":\"auto\",\"x\":[\"Chongqing Zhifei Biological\"],\"xaxis\":\"x\",\"y\":[88.3],\"yaxis\":\"y\",\"type\":\"bar\"},{\"alignmentgroup\":\"True\",\"hovertemplate\":\"Company=%{x}<br>Change=%{y}<extra></extra>\",\"legendgroup\":\"JD.com\",\"marker\":{\"color\":\"#636efa\",\"pattern\":{\"shape\":\"\"}},\"name\":\"JD.com\",\"offsetgroup\":\"JD.com\",\"orientation\":\"v\",\"showlegend\":true,\"textposition\":\"auto\",\"x\":[\"JD.com\"],\"xaxis\":\"x\",\"y\":[86.3],\"yaxis\":\"y\",\"type\":\"bar\"},{\"alignmentgroup\":\"True\",\"hovertemplate\":\"Company=%{x}<br>Change=%{y}<extra></extra>\",\"legendgroup\":\"Dexcom\",\"marker\":{\"color\":\"#EF553B\",\"pattern\":{\"shape\":\"\"}},\"name\":\"Dexcom\",\"offsetgroup\":\"Dexcom\",\"orientation\":\"v\",\"showlegend\":true,\"textposition\":\"auto\",\"x\":[\"Dexcom\"],\"xaxis\":\"x\",\"y\":[86.0],\"yaxis\":\"y\",\"type\":\"bar\"},{\"alignmentgroup\":\"True\",\"hovertemplate\":\"Company=%{x}<br>Change=%{y}<extra></extra>\",\"legendgroup\":\"Samsung Biologics\",\"marker\":{\"color\":\"#00cc96\",\"pattern\":{\"shape\":\"\"}},\"name\":\"Samsung Biologics\",\"offsetgroup\":\"Samsung Biologics\",\"orientation\":\"v\",\"showlegend\":true,\"textposition\":\"auto\",\"x\":[\"Samsung Biologics\"],\"xaxis\":\"x\",\"y\":[80.4],\"yaxis\":\"y\",\"type\":\"bar\"},{\"alignmentgroup\":\"True\",\"hovertemplate\":\"Company=%{x}<br>Change=%{y}<extra></extra>\",\"legendgroup\":\"Adyen\",\"marker\":{\"color\":\"#ab63fa\",\"pattern\":{\"shape\":\"\"}},\"name\":\"Adyen\",\"offsetgroup\":\"Adyen\",\"orientation\":\"v\",\"showlegend\":true,\"textposition\":\"auto\",\"x\":[\"Adyen\"],\"xaxis\":\"x\",\"y\":[77.9],\"yaxis\":\"y\",\"type\":\"bar\"},{\"alignmentgroup\":\"True\",\"hovertemplate\":\"Company=%{x}<br>Change=%{y}<extra></extra>\",\"legendgroup\":\"Okta\",\"marker\":{\"color\":\"#FFA15A\",\"pattern\":{\"shape\":\"\"}},\"name\":\"Okta\",\"offsetgroup\":\"Okta\",\"orientation\":\"v\",\"showlegend\":true,\"textposition\":\"auto\",\"x\":[\"Okta\"],\"xaxis\":\"x\",\"y\":[73.2],\"yaxis\":\"y\",\"type\":\"bar\"},{\"alignmentgroup\":\"True\",\"hovertemplate\":\"Company=%{x}<br>Change=%{y}<extra></extra>\",\"legendgroup\":\"Chewy\",\"marker\":{\"color\":\"#19d3f3\",\"pattern\":{\"shape\":\"\"}},\"name\":\"Chewy\",\"offsetgroup\":\"Chewy\",\"orientation\":\"v\",\"showlegend\":true,\"textposition\":\"auto\",\"x\":[\"Chewy\"],\"xaxis\":\"x\",\"y\":[72.2],\"yaxis\":\"y\",\"type\":\"bar\"},{\"alignmentgroup\":\"True\",\"hovertemplate\":\"Company=%{x}<br>Change=%{y}<extra></extra>\",\"legendgroup\":\"Meituan Dianping\",\"marker\":{\"color\":\"#FF6692\",\"pattern\":{\"shape\":\"\"}},\"name\":\"Meituan Dianping\",\"offsetgroup\":\"Meituan Dianping\",\"orientation\":\"v\",\"showlegend\":true,\"textposition\":\"auto\",\"x\":[\"Meituan Dianping\"],\"xaxis\":\"x\",\"y\":[70.6],\"yaxis\":\"y\",\"type\":\"bar\"},{\"alignmentgroup\":\"True\",\"hovertemplate\":\"Company=%{x}<br>Change=%{y}<extra></extra>\",\"legendgroup\":\"Chugai Pharmaceutical\",\"marker\":{\"color\":\"#B6E880\",\"pattern\":{\"shape\":\"\"}},\"name\":\"Chugai Pharmaceutical\",\"offsetgroup\":\"Chugai Pharmaceutical\",\"orientation\":\"v\",\"showlegend\":true,\"textposition\":\"auto\",\"x\":[\"Chugai Pharmaceutical\"],\"xaxis\":\"x\",\"y\":[66.9],\"yaxis\":\"y\",\"type\":\"bar\"},{\"alignmentgroup\":\"True\",\"hovertemplate\":\"Company=%{x}<br>Change=%{y}<extra></extra>\",\"legendgroup\":\"Changchun High & New Technology Industry\",\"marker\":{\"color\":\"#FF97FF\",\"pattern\":{\"shape\":\"\"}},\"name\":\"Changchun High & New Technology Industry\",\"offsetgroup\":\"Changchun High & New Technology Industry\",\"orientation\":\"v\",\"showlegend\":true,\"textposition\":\"auto\",\"x\":[\"Changchun High & New Technology Industry\"],\"xaxis\":\"x\",\"y\":[65.2],\"yaxis\":\"y\",\"type\":\"bar\"},{\"alignmentgroup\":\"True\",\"hovertemplate\":\"Company=%{x}<br>Change=%{y}<extra></extra>\",\"legendgroup\":\"RingCentral\",\"marker\":{\"color\":\"#FECB52\",\"pattern\":{\"shape\":\"\"}},\"name\":\"RingCentral\",\"offsetgroup\":\"RingCentral\",\"orientation\":\"v\",\"showlegend\":true,\"textposition\":\"auto\",\"x\":[\"RingCentral\"],\"xaxis\":\"x\",\"y\":[65.0],\"yaxis\":\"y\",\"type\":\"bar\"},{\"alignmentgroup\":\"True\",\"hovertemplate\":\"Company=%{x}<br>Change=%{y}<extra></extra>\",\"legendgroup\":\"Veeva Systems\",\"marker\":{\"color\":\"#636efa\",\"pattern\":{\"shape\":\"\"}},\"name\":\"Veeva Systems\",\"offsetgroup\":\"Veeva Systems\",\"orientation\":\"v\",\"showlegend\":true,\"textposition\":\"auto\",\"x\":[\"Veeva Systems\"],\"xaxis\":\"x\",\"y\":[64.5],\"yaxis\":\"y\",\"type\":\"bar\"},{\"alignmentgroup\":\"True\",\"hovertemplate\":\"Company=%{x}<br>Change=%{y}<extra></extra>\",\"legendgroup\":\"MercadoLibre\",\"marker\":{\"color\":\"#EF553B\",\"pattern\":{\"shape\":\"\"}},\"name\":\"MercadoLibre\",\"offsetgroup\":\"MercadoLibre\",\"orientation\":\"v\",\"showlegend\":true,\"textposition\":\"auto\",\"x\":[\"MercadoLibre\"],\"xaxis\":\"x\",\"y\":[63.6],\"yaxis\":\"y\",\"type\":\"bar\"},{\"alignmentgroup\":\"True\",\"hovertemplate\":\"Company=%{x}<br>Change=%{y}<extra></extra>\",\"legendgroup\":\"ZTO Express\",\"marker\":{\"color\":\"#00cc96\",\"pattern\":{\"shape\":\"\"}},\"name\":\"ZTO Express\",\"offsetgroup\":\"ZTO Express\",\"orientation\":\"v\",\"showlegend\":true,\"textposition\":\"auto\",\"x\":[\"ZTO Express\"],\"xaxis\":\"x\",\"y\":[60.1],\"yaxis\":\"y\",\"type\":\"bar\"},{\"alignmentgroup\":\"True\",\"hovertemplate\":\"Company=%{x}<br>Change=%{y}<extra></extra>\",\"legendgroup\":\"Square\",\"marker\":{\"color\":\"#ab63fa\",\"pattern\":{\"shape\":\"\"}},\"name\":\"Square\",\"offsetgroup\":\"Square\",\"orientation\":\"v\",\"showlegend\":true,\"textposition\":\"auto\",\"x\":[\"Square\"],\"xaxis\":\"x\",\"y\":[58.6],\"yaxis\":\"y\",\"type\":\"bar\"},{\"alignmentgroup\":\"True\",\"hovertemplate\":\"Company=%{x}<br>Change=%{y}<extra></extra>\",\"legendgroup\":\"Nvidia\",\"marker\":{\"color\":\"#FFA15A\",\"pattern\":{\"shape\":\"\"}},\"name\":\"Nvidia\",\"offsetgroup\":\"Nvidia\",\"orientation\":\"v\",\"showlegend\":true,\"textposition\":\"auto\",\"x\":[\"Nvidia\"],\"xaxis\":\"x\",\"y\":[57.8],\"yaxis\":\"y\",\"type\":\"bar\"},{\"alignmentgroup\":\"True\",\"hovertemplate\":\"Company=%{x}<br>Change=%{y}<extra></extra>\",\"legendgroup\":\"Offcn Education Technology\",\"marker\":{\"color\":\"#19d3f3\",\"pattern\":{\"shape\":\"\"}},\"name\":\"Offcn Education Technology\",\"offsetgroup\":\"Offcn Education Technology\",\"orientation\":\"v\",\"showlegend\":true,\"textposition\":\"auto\",\"x\":[\"Offcn Education Technology\"],\"xaxis\":\"x\",\"y\":[57.1],\"yaxis\":\"y\",\"type\":\"bar\"},{\"alignmentgroup\":\"True\",\"hovertemplate\":\"Company=%{x}<br>Change=%{y}<extra></extra>\",\"legendgroup\":\"Digital Realty Trust\",\"marker\":{\"color\":\"#FF6692\",\"pattern\":{\"shape\":\"\"}},\"name\":\"Digital Realty Trust\",\"offsetgroup\":\"Digital Realty Trust\",\"orientation\":\"v\",\"showlegend\":true,\"textposition\":\"auto\",\"x\":[\"Digital Realty Trust\"],\"xaxis\":\"x\",\"y\":[56.2],\"yaxis\":\"y\",\"type\":\"bar\"},{\"alignmentgroup\":\"True\",\"hovertemplate\":\"Company=%{x}<br>Change=%{y}<extra></extra>\",\"legendgroup\":\"Hansoh Pharmaceutical\",\"marker\":{\"color\":\"#B6E880\",\"pattern\":{\"shape\":\"\"}},\"name\":\"Hansoh Pharmaceutical\",\"offsetgroup\":\"Hansoh Pharmaceutical\",\"orientation\":\"v\",\"showlegend\":true,\"textposition\":\"auto\",\"x\":[\"Hansoh Pharmaceutical\"],\"xaxis\":\"x\",\"y\":[53.8],\"yaxis\":\"y\",\"type\":\"bar\"},{\"alignmentgroup\":\"True\",\"hovertemplate\":\"Company=%{x}<br>Change=%{y}<extra></extra>\",\"legendgroup\":\"Shenzhen Mindray Bio-Medical Electronics\",\"marker\":{\"color\":\"#FF97FF\",\"pattern\":{\"shape\":\"\"}},\"name\":\"Shenzhen Mindray Bio-Medical Electronics\",\"offsetgroup\":\"Shenzhen Mindray Bio-Medical Electronics\",\"orientation\":\"v\",\"showlegend\":true,\"textposition\":\"auto\",\"x\":[\"Shenzhen Mindray Bio-Medical Electronics\"],\"xaxis\":\"x\",\"y\":[53.7],\"yaxis\":\"y\",\"type\":\"bar\"},{\"alignmentgroup\":\"True\",\"hovertemplate\":\"Company=%{x}<br>Change=%{y}<extra></extra>\",\"legendgroup\":\"Celltrion\",\"marker\":{\"color\":\"#FECB52\",\"pattern\":{\"shape\":\"\"}},\"name\":\"Celltrion\",\"offsetgroup\":\"Celltrion\",\"orientation\":\"v\",\"showlegend\":true,\"textposition\":\"auto\",\"x\":[\"Celltrion\"],\"xaxis\":\"x\",\"y\":[51.8],\"yaxis\":\"y\",\"type\":\"bar\"},{\"alignmentgroup\":\"True\",\"hovertemplate\":\"Company=%{x}<br>Change=%{y}<extra></extra>\",\"legendgroup\":\"PayPal\",\"marker\":{\"color\":\"#636efa\",\"pattern\":{\"shape\":\"\"}},\"name\":\"PayPal\",\"offsetgroup\":\"PayPal\",\"orientation\":\"v\",\"showlegend\":true,\"textposition\":\"auto\",\"x\":[\"PayPal\"],\"xaxis\":\"x\",\"y\":[51.5],\"yaxis\":\"y\",\"type\":\"bar\"},{\"alignmentgroup\":\"True\",\"hovertemplate\":\"Company=%{x}<br>Change=%{y}<extra></extra>\",\"legendgroup\":\"Luxshare Precision\",\"marker\":{\"color\":\"#EF553B\",\"pattern\":{\"shape\":\"\"}},\"name\":\"Luxshare Precision\",\"offsetgroup\":\"Luxshare Precision\",\"orientation\":\"v\",\"showlegend\":true,\"textposition\":\"auto\",\"x\":[\"Luxshare Precision\"],\"xaxis\":\"x\",\"y\":[50.7],\"yaxis\":\"y\",\"type\":\"bar\"},{\"alignmentgroup\":\"True\",\"hovertemplate\":\"Company=%{x}<br>Change=%{y}<extra></extra>\",\"legendgroup\":\"Regeneron Pharmaceuticals\",\"marker\":{\"color\":\"#00cc96\",\"pattern\":{\"shape\":\"\"}},\"name\":\"Regeneron Pharmaceuticals\",\"offsetgroup\":\"Regeneron Pharmaceuticals\",\"orientation\":\"v\",\"showlegend\":true,\"textposition\":\"auto\",\"x\":[\"Regeneron Pharmaceuticals\"],\"xaxis\":\"x\",\"y\":[49.2],\"yaxis\":\"y\",\"type\":\"bar\"},{\"alignmentgroup\":\"True\",\"hovertemplate\":\"Company=%{x}<br>Change=%{y}<extra></extra>\",\"legendgroup\":\"Atlassian\",\"marker\":{\"color\":\"#ab63fa\",\"pattern\":{\"shape\":\"\"}},\"name\":\"Atlassian\",\"offsetgroup\":\"Atlassian\",\"orientation\":\"v\",\"showlegend\":true,\"textposition\":\"auto\",\"x\":[\"Atlassian\"],\"xaxis\":\"x\",\"y\":[48.5],\"yaxis\":\"y\",\"type\":\"bar\"},{\"alignmentgroup\":\"True\",\"hovertemplate\":\"Company=%{x}<br>Change=%{y}<extra></extra>\",\"legendgroup\":\"SF Holding\",\"marker\":{\"color\":\"#FFA15A\",\"pattern\":{\"shape\":\"\"}},\"name\":\"SF Holding\",\"offsetgroup\":\"SF Holding\",\"orientation\":\"v\",\"showlegend\":true,\"textposition\":\"auto\",\"x\":[\"SF Holding\"],\"xaxis\":\"x\",\"y\":[46.8],\"yaxis\":\"y\",\"type\":\"bar\"},{\"alignmentgroup\":\"True\",\"hovertemplate\":\"Company=%{x}<br>Change=%{y}<extra></extra>\",\"legendgroup\":\"LG Chem\",\"marker\":{\"color\":\"#19d3f3\",\"pattern\":{\"shape\":\"\"}},\"name\":\"LG Chem\",\"offsetgroup\":\"LG Chem\",\"orientation\":\"v\",\"showlegend\":true,\"textposition\":\"auto\",\"x\":[\"LG Chem\"],\"xaxis\":\"x\",\"y\":[46.4],\"yaxis\":\"y\",\"type\":\"bar\"},{\"alignmentgroup\":\"True\",\"hovertemplate\":\"Company=%{x}<br>Change=%{y}<extra></extra>\",\"legendgroup\":\"Contemporary Amperex Technology\",\"marker\":{\"color\":\"#FF6692\",\"pattern\":{\"shape\":\"\"}},\"name\":\"Contemporary Amperex Technology\",\"offsetgroup\":\"Contemporary Amperex Technology\",\"orientation\":\"v\",\"showlegend\":true,\"textposition\":\"auto\",\"x\":[\"Contemporary Amperex Technology\"],\"xaxis\":\"x\",\"y\":[45.7],\"yaxis\":\"y\",\"type\":\"bar\"},{\"alignmentgroup\":\"True\",\"hovertemplate\":\"Company=%{x}<br>Change=%{y}<extra></extra>\",\"legendgroup\":\"Amazon\",\"marker\":{\"color\":\"#B6E880\",\"pattern\":{\"shape\":\"\"}},\"name\":\"Amazon\",\"offsetgroup\":\"Amazon\",\"orientation\":\"v\",\"showlegend\":true,\"textposition\":\"auto\",\"x\":[\"Amazon\"],\"xaxis\":\"x\",\"y\":[43.8],\"yaxis\":\"y\",\"type\":\"bar\"},{\"alignmentgroup\":\"True\",\"hovertemplate\":\"Company=%{x}<br>Change=%{y}<extra></extra>\",\"legendgroup\":\"NetEase\",\"marker\":{\"color\":\"#FF97FF\",\"pattern\":{\"shape\":\"\"}},\"name\":\"NetEase\",\"offsetgroup\":\"NetEase\",\"orientation\":\"v\",\"showlegend\":true,\"textposition\":\"auto\",\"x\":[\"NetEase\"],\"xaxis\":\"x\",\"y\":[43.5],\"yaxis\":\"y\",\"type\":\"bar\"},{\"alignmentgroup\":\"True\",\"hovertemplate\":\"Company=%{x}<br>Change=%{y}<extra></extra>\",\"legendgroup\":\"ServiceNow\",\"marker\":{\"color\":\"#FECB52\",\"pattern\":{\"shape\":\"\"}},\"name\":\"ServiceNow\",\"offsetgroup\":\"ServiceNow\",\"orientation\":\"v\",\"showlegend\":true,\"textposition\":\"auto\",\"x\":[\"ServiceNow\"],\"xaxis\":\"x\",\"y\":[43.5],\"yaxis\":\"y\",\"type\":\"bar\"},{\"alignmentgroup\":\"True\",\"hovertemplate\":\"Company=%{x}<br>Change=%{y}<extra></extra>\",\"legendgroup\":\"Lonza\",\"marker\":{\"color\":\"#636efa\",\"pattern\":{\"shape\":\"\"}},\"name\":\"Lonza\",\"offsetgroup\":\"Lonza\",\"orientation\":\"v\",\"showlegend\":true,\"textposition\":\"auto\",\"x\":[\"Lonza\"],\"xaxis\":\"x\",\"y\":[42.7],\"yaxis\":\"y\",\"type\":\"bar\"},{\"alignmentgroup\":\"True\",\"hovertemplate\":\"Company=%{x}<br>Change=%{y}<extra></extra>\",\"legendgroup\":\"Centene\",\"marker\":{\"color\":\"#EF553B\",\"pattern\":{\"shape\":\"\"}},\"name\":\"Centene\",\"offsetgroup\":\"Centene\",\"orientation\":\"v\",\"showlegend\":true,\"textposition\":\"auto\",\"x\":[\"Centene\"],\"xaxis\":\"x\",\"y\":[41.4],\"yaxis\":\"y\",\"type\":\"bar\"},{\"alignmentgroup\":\"True\",\"hovertemplate\":\"Company=%{x}<br>Change=%{y}<extra></extra>\",\"legendgroup\":\"Netflix\",\"marker\":{\"color\":\"#00cc96\",\"pattern\":{\"shape\":\"\"}},\"name\":\"Netflix\",\"offsetgroup\":\"Netflix\",\"orientation\":\"v\",\"showlegend\":true,\"textposition\":\"auto\",\"x\":[\"Netflix\"],\"xaxis\":\"x\",\"y\":[38.9],\"yaxis\":\"y\",\"type\":\"bar\"},{\"alignmentgroup\":\"True\",\"hovertemplate\":\"Company=%{x}<br>Change=%{y}<extra></extra>\",\"legendgroup\":\"Spotify\",\"marker\":{\"color\":\"#ab63fa\",\"pattern\":{\"shape\":\"\"}},\"name\":\"Spotify\",\"offsetgroup\":\"Spotify\",\"orientation\":\"v\",\"showlegend\":true,\"textposition\":\"auto\",\"x\":[\"Spotify\"],\"xaxis\":\"x\",\"y\":[38.8],\"yaxis\":\"y\",\"type\":\"bar\"},{\"alignmentgroup\":\"True\",\"hovertemplate\":\"Company=%{x}<br>Change=%{y}<extra></extra>\",\"legendgroup\":\"Snap\",\"marker\":{\"color\":\"#FFA15A\",\"pattern\":{\"shape\":\"\"}},\"name\":\"Snap\",\"offsetgroup\":\"Snap\",\"orientation\":\"v\",\"showlegend\":true,\"textposition\":\"auto\",\"x\":[\"Snap\"],\"xaxis\":\"x\",\"y\":[38.0],\"yaxis\":\"y\",\"type\":\"bar\"},{\"alignmentgroup\":\"True\",\"hovertemplate\":\"Company=%{x}<br>Change=%{y}<extra></extra>\",\"legendgroup\":\"China Tourism Group Duty Free\",\"marker\":{\"color\":\"#19d3f3\",\"pattern\":{\"shape\":\"\"}},\"name\":\"China Tourism Group Duty Free\",\"offsetgroup\":\"China Tourism Group Duty Free\",\"orientation\":\"v\",\"showlegend\":true,\"textposition\":\"auto\",\"x\":[\"China Tourism Group Duty Free\"],\"xaxis\":\"x\",\"y\":[37.9],\"yaxis\":\"y\",\"type\":\"bar\"},{\"alignmentgroup\":\"True\",\"hovertemplate\":\"Company=%{x}<br>Change=%{y}<extra></extra>\",\"legendgroup\":\"Muyuan Foods\",\"marker\":{\"color\":\"#FF6692\",\"pattern\":{\"shape\":\"\"}},\"name\":\"Muyuan Foods\",\"offsetgroup\":\"Muyuan Foods\",\"orientation\":\"v\",\"showlegend\":true,\"textposition\":\"auto\",\"x\":[\"Muyuan Foods\"],\"xaxis\":\"x\",\"y\":[34.3],\"yaxis\":\"y\",\"type\":\"bar\"},{\"alignmentgroup\":\"True\",\"hovertemplate\":\"Company=%{x}<br>Change=%{y}<extra></extra>\",\"legendgroup\":\"TAL Education\",\"marker\":{\"color\":\"#B6E880\",\"pattern\":{\"shape\":\"\"}},\"name\":\"TAL Education\",\"offsetgroup\":\"TAL Education\",\"orientation\":\"v\",\"showlegend\":true,\"textposition\":\"auto\",\"x\":[\"TAL Education\"],\"xaxis\":\"x\",\"y\":[33.1],\"yaxis\":\"y\",\"type\":\"bar\"},{\"alignmentgroup\":\"True\",\"hovertemplate\":\"Company=%{x}<br>Change=%{y}<extra></extra>\",\"legendgroup\":\"Lululemon Athletica\",\"marker\":{\"color\":\"#FF97FF\",\"pattern\":{\"shape\":\"\"}},\"name\":\"Lululemon Athletica\",\"offsetgroup\":\"Lululemon Athletica\",\"orientation\":\"v\",\"showlegend\":true,\"textposition\":\"auto\",\"x\":[\"Lululemon Athletica\"],\"xaxis\":\"x\",\"y\":[31.0],\"yaxis\":\"y\",\"type\":\"bar\"},{\"alignmentgroup\":\"True\",\"hovertemplate\":\"Company=%{x}<br>Change=%{y}<extra></extra>\",\"legendgroup\":\"Barrick Gold\",\"marker\":{\"color\":\"#FECB52\",\"pattern\":{\"shape\":\"\"}},\"name\":\"Barrick Gold\",\"offsetgroup\":\"Barrick Gold\",\"orientation\":\"v\",\"showlegend\":true,\"textposition\":\"auto\",\"x\":[\"Barrick Gold\"],\"xaxis\":\"x\",\"y\":[30.7],\"yaxis\":\"y\",\"type\":\"bar\"},{\"alignmentgroup\":\"True\",\"hovertemplate\":\"Company=%{x}<br>Change=%{y}<extra></extra>\",\"legendgroup\":\"Vertex Pharmaceuticals\",\"marker\":{\"color\":\"#636efa\",\"pattern\":{\"shape\":\"\"}},\"name\":\"Vertex Pharmaceuticals\",\"offsetgroup\":\"Vertex Pharmaceuticals\",\"orientation\":\"v\",\"showlegend\":true,\"textposition\":\"auto\",\"x\":[\"Vertex Pharmaceuticals\"],\"xaxis\":\"x\",\"y\":[29.0],\"yaxis\":\"y\",\"type\":\"bar\"},{\"alignmentgroup\":\"True\",\"hovertemplate\":\"Company=%{x}<br>Change=%{y}<extra></extra>\",\"legendgroup\":\"AbbVie\",\"marker\":{\"color\":\"#EF553B\",\"pattern\":{\"shape\":\"\"}},\"name\":\"AbbVie\",\"offsetgroup\":\"AbbVie\",\"orientation\":\"v\",\"showlegend\":true,\"textposition\":\"auto\",\"x\":[\"AbbVie\"],\"xaxis\":\"x\",\"y\":[28.9],\"yaxis\":\"y\",\"type\":\"bar\"},{\"alignmentgroup\":\"True\",\"hovertemplate\":\"Company=%{x}<br>Change=%{y}<extra></extra>\",\"legendgroup\":\"Autodesk\",\"marker\":{\"color\":\"#00cc96\",\"pattern\":{\"shape\":\"\"}},\"name\":\"Autodesk\",\"offsetgroup\":\"Autodesk\",\"orientation\":\"v\",\"showlegend\":true,\"textposition\":\"auto\",\"x\":[\"Autodesk\"],\"xaxis\":\"x\",\"y\":[28.7],\"yaxis\":\"y\",\"type\":\"bar\"},{\"alignmentgroup\":\"True\",\"hovertemplate\":\"Company=%{x}<br>Change=%{y}<extra></extra>\",\"legendgroup\":\"Activision Blizzard\",\"marker\":{\"color\":\"#ab63fa\",\"pattern\":{\"shape\":\"\"}},\"name\":\"Activision Blizzard\",\"offsetgroup\":\"Activision Blizzard\",\"orientation\":\"v\",\"showlegend\":true,\"textposition\":\"auto\",\"x\":[\"Activision Blizzard\"],\"xaxis\":\"x\",\"y\":[27.5],\"yaxis\":\"y\",\"type\":\"bar\"},{\"alignmentgroup\":\"True\",\"hovertemplate\":\"Company=%{x}<br>Change=%{y}<extra></extra>\",\"legendgroup\":\"Foshan Haitian Flavouring and Food\",\"marker\":{\"color\":\"#FFA15A\",\"pattern\":{\"shape\":\"\"}},\"name\":\"Foshan Haitian Flavouring and Food\",\"offsetgroup\":\"Foshan Haitian Flavouring and Food\",\"orientation\":\"v\",\"showlegend\":true,\"textposition\":\"auto\",\"x\":[\"Foshan Haitian Flavouring and Food\"],\"xaxis\":\"x\",\"y\":[27.0],\"yaxis\":\"y\",\"type\":\"bar\"},{\"alignmentgroup\":\"True\",\"hovertemplate\":\"Company=%{x}<br>Change=%{y}<extra></extra>\",\"legendgroup\":\"Prologis\",\"marker\":{\"color\":\"#19d3f3\",\"pattern\":{\"shape\":\"\"}},\"name\":\"Prologis\",\"offsetgroup\":\"Prologis\",\"orientation\":\"v\",\"showlegend\":true,\"textposition\":\"auto\",\"x\":[\"Prologis\"],\"xaxis\":\"x\",\"y\":[26.8],\"yaxis\":\"y\",\"type\":\"bar\"},{\"alignmentgroup\":\"True\",\"hovertemplate\":\"Company=%{x}<br>Change=%{y}<extra></extra>\",\"legendgroup\":\"Daiichi Sankyo\",\"marker\":{\"color\":\"#FF6692\",\"pattern\":{\"shape\":\"\"}},\"name\":\"Daiichi Sankyo\",\"offsetgroup\":\"Daiichi Sankyo\",\"orientation\":\"v\",\"showlegend\":true,\"textposition\":\"auto\",\"x\":[\"Daiichi Sankyo\"],\"xaxis\":\"x\",\"y\":[25.9],\"yaxis\":\"y\",\"type\":\"bar\"},{\"alignmentgroup\":\"True\",\"hovertemplate\":\"Company=%{x}<br>Change=%{y}<extra></extra>\",\"legendgroup\":\"Adobe\",\"marker\":{\"color\":\"#B6E880\",\"pattern\":{\"shape\":\"\"}},\"name\":\"Adobe\",\"offsetgroup\":\"Adobe\",\"orientation\":\"v\",\"showlegend\":true,\"textposition\":\"auto\",\"x\":[\"Adobe\"],\"xaxis\":\"x\",\"y\":[25.2],\"yaxis\":\"y\",\"type\":\"bar\"},{\"alignmentgroup\":\"True\",\"hovertemplate\":\"Company=%{x}<br>Change=%{y}<extra></extra>\",\"legendgroup\":\"Newmont\",\"marker\":{\"color\":\"#FF97FF\",\"pattern\":{\"shape\":\"\"}},\"name\":\"Newmont\",\"offsetgroup\":\"Newmont\",\"orientation\":\"v\",\"showlegend\":true,\"textposition\":\"auto\",\"x\":[\"Newmont\"],\"xaxis\":\"x\",\"y\":[25.2],\"yaxis\":\"y\",\"type\":\"bar\"},{\"alignmentgroup\":\"True\",\"hovertemplate\":\"Company=%{x}<br>Change=%{y}<extra></extra>\",\"legendgroup\":\"Equinix\",\"marker\":{\"color\":\"#FECB52\",\"pattern\":{\"shape\":\"\"}},\"name\":\"Equinix\",\"offsetgroup\":\"Equinix\",\"orientation\":\"v\",\"showlegend\":true,\"textposition\":\"auto\",\"x\":[\"Equinix\"],\"xaxis\":\"x\",\"y\":[24.1],\"yaxis\":\"y\",\"type\":\"bar\"},{\"alignmentgroup\":\"True\",\"hovertemplate\":\"Company=%{x}<br>Change=%{y}<extra></extra>\",\"legendgroup\":\"Microsoft\",\"marker\":{\"color\":\"#636efa\",\"pattern\":{\"shape\":\"\"}},\"name\":\"Microsoft\",\"offsetgroup\":\"Microsoft\",\"orientation\":\"v\",\"showlegend\":true,\"textposition\":\"auto\",\"x\":[\"Microsoft\"],\"xaxis\":\"x\",\"y\":[22.4],\"yaxis\":\"y\",\"type\":\"bar\"},{\"alignmentgroup\":\"True\",\"hovertemplate\":\"Company=%{x}<br>Change=%{y}<extra></extra>\",\"legendgroup\":\"Advanced Micro Devices\",\"marker\":{\"color\":\"#EF553B\",\"pattern\":{\"shape\":\"\"}},\"name\":\"Advanced Micro Devices\",\"offsetgroup\":\"Advanced Micro Devices\",\"orientation\":\"v\",\"showlegend\":true,\"textposition\":\"auto\",\"x\":[\"Advanced Micro Devices\"],\"xaxis\":\"x\",\"y\":[22.4],\"yaxis\":\"y\",\"type\":\"bar\"},{\"alignmentgroup\":\"True\",\"hovertemplate\":\"Company=%{x}<br>Change=%{y}<extra></extra>\",\"legendgroup\":\"ASML\",\"marker\":{\"color\":\"#00cc96\",\"pattern\":{\"shape\":\"\"}},\"name\":\"ASML\",\"offsetgroup\":\"ASML\",\"orientation\":\"v\",\"showlegend\":true,\"textposition\":\"auto\",\"x\":[\"ASML\"],\"xaxis\":\"x\",\"y\":[22.1],\"yaxis\":\"y\",\"type\":\"bar\"},{\"alignmentgroup\":\"True\",\"hovertemplate\":\"Company=%{x}<br>Change=%{y}<extra></extra>\",\"legendgroup\":\"Jiangsu Hengrui Medicine\",\"marker\":{\"color\":\"#ab63fa\",\"pattern\":{\"shape\":\"\"}},\"name\":\"Jiangsu Hengrui Medicine\",\"offsetgroup\":\"Jiangsu Hengrui Medicine\",\"orientation\":\"v\",\"showlegend\":true,\"textposition\":\"auto\",\"x\":[\"Jiangsu Hengrui Medicine\"],\"xaxis\":\"x\",\"y\":[20.8],\"yaxis\":\"y\",\"type\":\"bar\"},{\"alignmentgroup\":\"True\",\"hovertemplate\":\"Company=%{x}<br>Change=%{y}<extra></extra>\",\"legendgroup\":\"Prosus\",\"marker\":{\"color\":\"#FFA15A\",\"pattern\":{\"shape\":\"\"}},\"name\":\"Prosus\",\"offsetgroup\":\"Prosus\",\"orientation\":\"v\",\"showlegend\":true,\"textposition\":\"auto\",\"x\":[\"Prosus\"],\"xaxis\":\"x\",\"y\":[20.4],\"yaxis\":\"y\",\"type\":\"bar\"},{\"alignmentgroup\":\"True\",\"hovertemplate\":\"Company=%{x}<br>Change=%{y}<extra></extra>\",\"legendgroup\":\"Tencent\",\"marker\":{\"color\":\"#19d3f3\",\"pattern\":{\"shape\":\"\"}},\"name\":\"Tencent\",\"offsetgroup\":\"Tencent\",\"orientation\":\"v\",\"showlegend\":true,\"textposition\":\"auto\",\"x\":[\"Tencent\"],\"xaxis\":\"x\",\"y\":[20.3],\"yaxis\":\"y\",\"type\":\"bar\"},{\"alignmentgroup\":\"True\",\"hovertemplate\":\"Company=%{x}<br>Change=%{y}<extra></extra>\",\"legendgroup\":\"Crown Castle International\",\"marker\":{\"color\":\"#FF6692\",\"pattern\":{\"shape\":\"\"}},\"name\":\"Crown Castle International\",\"offsetgroup\":\"Crown Castle International\",\"orientation\":\"v\",\"showlegend\":true,\"textposition\":\"auto\",\"x\":[\"Crown Castle International\"],\"xaxis\":\"x\",\"y\":[19.5],\"yaxis\":\"y\",\"type\":\"bar\"},{\"alignmentgroup\":\"True\",\"hovertemplate\":\"Company=%{x}<br>Change=%{y}<extra></extra>\",\"legendgroup\":\"S&P Global\",\"marker\":{\"color\":\"#B6E880\",\"pattern\":{\"shape\":\"\"}},\"name\":\"S&P Global\",\"offsetgroup\":\"S&P Global\",\"orientation\":\"v\",\"showlegend\":true,\"textposition\":\"auto\",\"x\":[\"S&P Global\"],\"xaxis\":\"x\",\"y\":[17.8],\"yaxis\":\"y\",\"type\":\"bar\"},{\"alignmentgroup\":\"True\",\"hovertemplate\":\"Company=%{x}<br>Change=%{y}<extra></extra>\",\"legendgroup\":\"Keyence\",\"marker\":{\"color\":\"#FF97FF\",\"pattern\":{\"shape\":\"\"}},\"name\":\"Keyence\",\"offsetgroup\":\"Keyence\",\"orientation\":\"v\",\"showlegend\":true,\"textposition\":\"auto\",\"x\":[\"Keyence\"],\"xaxis\":\"x\",\"y\":[17.1],\"yaxis\":\"y\",\"type\":\"bar\"},{\"alignmentgroup\":\"True\",\"hovertemplate\":\"Company=%{x}<br>Change=%{y}<extra></extra>\",\"legendgroup\":\"Apple\",\"marker\":{\"color\":\"#FECB52\",\"pattern\":{\"shape\":\"\"}},\"name\":\"Apple\",\"offsetgroup\":\"Apple\",\"orientation\":\"v\",\"showlegend\":true,\"textposition\":\"auto\",\"x\":[\"Apple\"],\"xaxis\":\"x\",\"y\":[16.8],\"yaxis\":\"y\",\"type\":\"bar\"},{\"alignmentgroup\":\"True\",\"hovertemplate\":\"Company=%{x}<br>Change=%{y}<extra></extra>\",\"legendgroup\":\"Kweichow Moutai\",\"marker\":{\"color\":\"#636efa\",\"pattern\":{\"shape\":\"\"}},\"name\":\"Kweichow Moutai\",\"offsetgroup\":\"Kweichow Moutai\",\"orientation\":\"v\",\"showlegend\":true,\"textposition\":\"auto\",\"x\":[\"Kweichow Moutai\"],\"xaxis\":\"x\",\"y\":[16.7],\"yaxis\":\"y\",\"type\":\"bar\"},{\"alignmentgroup\":\"True\",\"hovertemplate\":\"Company=%{x}<br>Change=%{y}<extra></extra>\",\"legendgroup\":\"Wuliangye Yibin\",\"marker\":{\"color\":\"#EF553B\",\"pattern\":{\"shape\":\"\"}},\"name\":\"Wuliangye Yibin\",\"offsetgroup\":\"Wuliangye Yibin\",\"orientation\":\"v\",\"showlegend\":true,\"textposition\":\"auto\",\"x\":[\"Wuliangye Yibin\"],\"xaxis\":\"x\",\"y\":[15.1],\"yaxis\":\"y\",\"type\":\"bar\"},{\"alignmentgroup\":\"True\",\"hovertemplate\":\"Company=%{x}<br>Change=%{y}<extra></extra>\",\"legendgroup\":\"American Tower\",\"marker\":{\"color\":\"#00cc96\",\"pattern\":{\"shape\":\"\"}},\"name\":\"American Tower\",\"offsetgroup\":\"American Tower\",\"orientation\":\"v\",\"showlegend\":true,\"textposition\":\"auto\",\"x\":[\"American Tower\"],\"xaxis\":\"x\",\"y\":[15.0],\"yaxis\":\"y\",\"type\":\"bar\"},{\"alignmentgroup\":\"True\",\"hovertemplate\":\"Company=%{x}<br>Change=%{y}<extra></extra>\",\"legendgroup\":\"Eli Lilly\",\"marker\":{\"color\":\"#ab63fa\",\"pattern\":{\"shape\":\"\"}},\"name\":\"Eli Lilly\",\"offsetgroup\":\"Eli Lilly\",\"orientation\":\"v\",\"showlegend\":true,\"textposition\":\"auto\",\"x\":[\"Eli Lilly\"],\"xaxis\":\"x\",\"y\":[14.9],\"yaxis\":\"y\",\"type\":\"bar\"},{\"alignmentgroup\":\"True\",\"hovertemplate\":\"Company=%{x}<br>Change=%{y}<extra></extra>\",\"legendgroup\":\"Facebook\",\"marker\":{\"color\":\"#FFA15A\",\"pattern\":{\"shape\":\"\"}},\"name\":\"Facebook\",\"offsetgroup\":\"Facebook\",\"orientation\":\"v\",\"showlegend\":true,\"textposition\":\"auto\",\"x\":[\"Facebook\"],\"xaxis\":\"x\",\"y\":[14.6],\"yaxis\":\"y\",\"type\":\"bar\"},{\"alignmentgroup\":\"True\",\"hovertemplate\":\"Company=%{x}<br>Change=%{y}<extra></extra>\",\"legendgroup\":\"Novo Nordisk\",\"marker\":{\"color\":\"#19d3f3\",\"pattern\":{\"shape\":\"\"}},\"name\":\"Novo Nordisk\",\"offsetgroup\":\"Novo Nordisk\",\"orientation\":\"v\",\"showlegend\":true,\"textposition\":\"auto\",\"x\":[\"Novo Nordisk\"],\"xaxis\":\"x\",\"y\":[14.5],\"yaxis\":\"y\",\"type\":\"bar\"},{\"alignmentgroup\":\"True\",\"hovertemplate\":\"Company=%{x}<br>Change=%{y}<extra></extra>\",\"legendgroup\":\"Herm\\u00e8s International\",\"marker\":{\"color\":\"#FF6692\",\"pattern\":{\"shape\":\"\"}},\"name\":\"Herm\\u00e8s International\",\"offsetgroup\":\"Herm\\u00e8s International\",\"orientation\":\"v\",\"showlegend\":true,\"textposition\":\"auto\",\"x\":[\"Herm\\u00e8s International\"],\"xaxis\":\"x\",\"y\":[13.7],\"yaxis\":\"y\",\"type\":\"bar\"},{\"alignmentgroup\":\"True\",\"hovertemplate\":\"Company=%{x}<br>Change=%{y}<extra></extra>\",\"legendgroup\":\"Home Depot\",\"marker\":{\"color\":\"#B6E880\",\"pattern\":{\"shape\":\"\"}},\"name\":\"Home Depot\",\"offsetgroup\":\"Home Depot\",\"orientation\":\"v\",\"showlegend\":true,\"textposition\":\"auto\",\"x\":[\"Home Depot\"],\"xaxis\":\"x\",\"y\":[13.3],\"yaxis\":\"y\",\"type\":\"bar\"},{\"alignmentgroup\":\"True\",\"hovertemplate\":\"Company=%{x}<br>Change=%{y}<extra></extra>\",\"legendgroup\":\"Salesforce\",\"marker\":{\"color\":\"#FF97FF\",\"pattern\":{\"shape\":\"\"}},\"name\":\"Salesforce\",\"offsetgroup\":\"Salesforce\",\"orientation\":\"v\",\"showlegend\":true,\"textposition\":\"auto\",\"x\":[\"Salesforce\"],\"xaxis\":\"x\",\"y\":[13.3],\"yaxis\":\"y\",\"type\":\"bar\"},{\"alignmentgroup\":\"True\",\"hovertemplate\":\"Company=%{x}<br>Change=%{y}<extra></extra>\",\"legendgroup\":\"Danaher\",\"marker\":{\"color\":\"#FECB52\",\"pattern\":{\"shape\":\"\"}},\"name\":\"Danaher\",\"offsetgroup\":\"Danaher\",\"orientation\":\"v\",\"showlegend\":true,\"textposition\":\"auto\",\"x\":[\"Danaher\"],\"xaxis\":\"x\",\"y\":[12.8],\"yaxis\":\"y\",\"type\":\"bar\"},{\"alignmentgroup\":\"True\",\"hovertemplate\":\"Company=%{x}<br>Change=%{y}<extra></extra>\",\"legendgroup\":\"Gilead Sciences\",\"marker\":{\"color\":\"#636efa\",\"pattern\":{\"shape\":\"\"}},\"name\":\"Gilead Sciences\",\"offsetgroup\":\"Gilead Sciences\",\"orientation\":\"v\",\"showlegend\":true,\"textposition\":\"auto\",\"x\":[\"Gilead Sciences\"],\"xaxis\":\"x\",\"y\":[12.5],\"yaxis\":\"y\",\"type\":\"bar\"},{\"alignmentgroup\":\"True\",\"hovertemplate\":\"Company=%{x}<br>Change=%{y}<extra></extra>\",\"legendgroup\":\"Lowe's\",\"marker\":{\"color\":\"#EF553B\",\"pattern\":{\"shape\":\"\"}},\"name\":\"Lowe's\",\"offsetgroup\":\"Lowe's\",\"orientation\":\"v\",\"showlegend\":true,\"textposition\":\"auto\",\"x\":[\"Lowe's\"],\"xaxis\":\"x\",\"y\":[11.6],\"yaxis\":\"y\",\"type\":\"bar\"},{\"alignmentgroup\":\"True\",\"hovertemplate\":\"Company=%{x}<br>Change=%{y}<extra></extra>\",\"legendgroup\":\"Roche\",\"marker\":{\"color\":\"#00cc96\",\"pattern\":{\"shape\":\"\"}},\"name\":\"Roche\",\"offsetgroup\":\"Roche\",\"orientation\":\"v\",\"showlegend\":true,\"textposition\":\"auto\",\"x\":[\"Roche\"],\"xaxis\":\"x\",\"y\":[9.8],\"yaxis\":\"y\",\"type\":\"bar\"},{\"alignmentgroup\":\"True\",\"hovertemplate\":\"Company=%{x}<br>Change=%{y}<extra></extra>\",\"legendgroup\":\"Alphabet\",\"marker\":{\"color\":\"#ab63fa\",\"pattern\":{\"shape\":\"\"}},\"name\":\"Alphabet\",\"offsetgroup\":\"Alphabet\",\"orientation\":\"v\",\"showlegend\":true,\"textposition\":\"auto\",\"x\":[\"Alphabet\"],\"xaxis\":\"x\",\"y\":[7.4],\"yaxis\":\"y\",\"type\":\"bar\"},{\"alignmentgroup\":\"True\",\"hovertemplate\":\"Company=%{x}<br>Change=%{y}<extra></extra>\",\"legendgroup\":\"Reliance Industries\",\"marker\":{\"color\":\"#FFA15A\",\"pattern\":{\"shape\":\"\"}},\"name\":\"Reliance Industries\",\"offsetgroup\":\"Reliance Industries\",\"orientation\":\"v\",\"showlegend\":true,\"textposition\":\"auto\",\"x\":[\"Reliance Industries\"],\"xaxis\":\"x\",\"y\":[7.2],\"yaxis\":\"y\",\"type\":\"bar\"},{\"alignmentgroup\":\"True\",\"hovertemplate\":\"Company=%{x}<br>Change=%{y}<extra></extra>\",\"legendgroup\":\"AstraZeneca\",\"marker\":{\"color\":\"#19d3f3\",\"pattern\":{\"shape\":\"\"}},\"name\":\"AstraZeneca\",\"offsetgroup\":\"AstraZeneca\",\"orientation\":\"v\",\"showlegend\":true,\"textposition\":\"auto\",\"x\":[\"AstraZeneca\"],\"xaxis\":\"x\",\"y\":[6.6],\"yaxis\":\"y\",\"type\":\"bar\"},{\"alignmentgroup\":\"True\",\"hovertemplate\":\"Company=%{x}<br>Change=%{y}<extra></extra>\",\"legendgroup\":\"Unilever\",\"marker\":{\"color\":\"#FF6692\",\"pattern\":{\"shape\":\"\"}},\"name\":\"Unilever\",\"offsetgroup\":\"Unilever\",\"orientation\":\"v\",\"showlegend\":true,\"textposition\":\"auto\",\"x\":[\"Unilever\"],\"xaxis\":\"x\",\"y\":[6.5],\"yaxis\":\"y\",\"type\":\"bar\"},{\"alignmentgroup\":\"True\",\"hovertemplate\":\"Company=%{x}<br>Change=%{y}<extra></extra>\",\"legendgroup\":\"Alibaba\",\"marker\":{\"color\":\"#B6E880\",\"pattern\":{\"shape\":\"\"}},\"name\":\"Alibaba\",\"offsetgroup\":\"Alibaba\",\"orientation\":\"v\",\"showlegend\":true,\"textposition\":\"auto\",\"x\":[\"Alibaba\"],\"xaxis\":\"x\",\"y\":[5.8],\"yaxis\":\"y\",\"type\":\"bar\"},{\"alignmentgroup\":\"True\",\"hovertemplate\":\"Company=%{x}<br>Change=%{y}<extra></extra>\",\"legendgroup\":\"L'Or\\u00e9al\",\"marker\":{\"color\":\"#FF97FF\",\"pattern\":{\"shape\":\"\"}},\"name\":\"L'Or\\u00e9al\",\"offsetgroup\":\"L'Or\\u00e9al\",\"orientation\":\"v\",\"showlegend\":true,\"textposition\":\"auto\",\"x\":[\"L'Or\\u00e9al\"],\"xaxis\":\"x\",\"y\":[5.3],\"yaxis\":\"y\",\"type\":\"bar\"},{\"alignmentgroup\":\"True\",\"hovertemplate\":\"Company=%{x}<br>Change=%{y}<extra></extra>\",\"legendgroup\":\"Nestl\\u00e9\",\"marker\":{\"color\":\"#FECB52\",\"pattern\":{\"shape\":\"\"}},\"name\":\"Nestl\\u00e9\",\"offsetgroup\":\"Nestl\\u00e9\",\"orientation\":\"v\",\"showlegend\":true,\"textposition\":\"auto\",\"x\":[\"Nestl\\u00e9\"],\"xaxis\":\"x\",\"y\":[4.5],\"yaxis\":\"y\",\"type\":\"bar\"}],                        {\"template\":{\"data\":{\"bar\":[{\"error_x\":{\"color\":\"#2a3f5f\"},\"error_y\":{\"color\":\"#2a3f5f\"},\"marker\":{\"line\":{\"color\":\"#E5ECF6\",\"width\":0.5},\"pattern\":{\"fillmode\":\"overlay\",\"size\":10,\"solidity\":0.2}},\"type\":\"bar\"}],\"barpolar\":[{\"marker\":{\"line\":{\"color\":\"#E5ECF6\",\"width\":0.5},\"pattern\":{\"fillmode\":\"overlay\",\"size\":10,\"solidity\":0.2}},\"type\":\"barpolar\"}],\"carpet\":[{\"aaxis\":{\"endlinecolor\":\"#2a3f5f\",\"gridcolor\":\"white\",\"linecolor\":\"white\",\"minorgridcolor\":\"white\",\"startlinecolor\":\"#2a3f5f\"},\"baxis\":{\"endlinecolor\":\"#2a3f5f\",\"gridcolor\":\"white\",\"linecolor\":\"white\",\"minorgridcolor\":\"white\",\"startlinecolor\":\"#2a3f5f\"},\"type\":\"carpet\"}],\"choropleth\":[{\"colorbar\":{\"outlinewidth\":0,\"ticks\":\"\"},\"type\":\"choropleth\"}],\"contour\":[{\"colorbar\":{\"outlinewidth\":0,\"ticks\":\"\"},\"colorscale\":[[0.0,\"#0d0887\"],[0.1111111111111111,\"#46039f\"],[0.2222222222222222,\"#7201a8\"],[0.3333333333333333,\"#9c179e\"],[0.4444444444444444,\"#bd3786\"],[0.5555555555555556,\"#d8576b\"],[0.6666666666666666,\"#ed7953\"],[0.7777777777777778,\"#fb9f3a\"],[0.8888888888888888,\"#fdca26\"],[1.0,\"#f0f921\"]],\"type\":\"contour\"}],\"contourcarpet\":[{\"colorbar\":{\"outlinewidth\":0,\"ticks\":\"\"},\"type\":\"contourcarpet\"}],\"heatmap\":[{\"colorbar\":{\"outlinewidth\":0,\"ticks\":\"\"},\"colorscale\":[[0.0,\"#0d0887\"],[0.1111111111111111,\"#46039f\"],[0.2222222222222222,\"#7201a8\"],[0.3333333333333333,\"#9c179e\"],[0.4444444444444444,\"#bd3786\"],[0.5555555555555556,\"#d8576b\"],[0.6666666666666666,\"#ed7953\"],[0.7777777777777778,\"#fb9f3a\"],[0.8888888888888888,\"#fdca26\"],[1.0,\"#f0f921\"]],\"type\":\"heatmap\"}],\"heatmapgl\":[{\"colorbar\":{\"outlinewidth\":0,\"ticks\":\"\"},\"colorscale\":[[0.0,\"#0d0887\"],[0.1111111111111111,\"#46039f\"],[0.2222222222222222,\"#7201a8\"],[0.3333333333333333,\"#9c179e\"],[0.4444444444444444,\"#bd3786\"],[0.5555555555555556,\"#d8576b\"],[0.6666666666666666,\"#ed7953\"],[0.7777777777777778,\"#fb9f3a\"],[0.8888888888888888,\"#fdca26\"],[1.0,\"#f0f921\"]],\"type\":\"heatmapgl\"}],\"histogram\":[{\"marker\":{\"pattern\":{\"fillmode\":\"overlay\",\"size\":10,\"solidity\":0.2}},\"type\":\"histogram\"}],\"histogram2d\":[{\"colorbar\":{\"outlinewidth\":0,\"ticks\":\"\"},\"colorscale\":[[0.0,\"#0d0887\"],[0.1111111111111111,\"#46039f\"],[0.2222222222222222,\"#7201a8\"],[0.3333333333333333,\"#9c179e\"],[0.4444444444444444,\"#bd3786\"],[0.5555555555555556,\"#d8576b\"],[0.6666666666666666,\"#ed7953\"],[0.7777777777777778,\"#fb9f3a\"],[0.8888888888888888,\"#fdca26\"],[1.0,\"#f0f921\"]],\"type\":\"histogram2d\"}],\"histogram2dcontour\":[{\"colorbar\":{\"outlinewidth\":0,\"ticks\":\"\"},\"colorscale\":[[0.0,\"#0d0887\"],[0.1111111111111111,\"#46039f\"],[0.2222222222222222,\"#7201a8\"],[0.3333333333333333,\"#9c179e\"],[0.4444444444444444,\"#bd3786\"],[0.5555555555555556,\"#d8576b\"],[0.6666666666666666,\"#ed7953\"],[0.7777777777777778,\"#fb9f3a\"],[0.8888888888888888,\"#fdca26\"],[1.0,\"#f0f921\"]],\"type\":\"histogram2dcontour\"}],\"mesh3d\":[{\"colorbar\":{\"outlinewidth\":0,\"ticks\":\"\"},\"type\":\"mesh3d\"}],\"parcoords\":[{\"line\":{\"colorbar\":{\"outlinewidth\":0,\"ticks\":\"\"}},\"type\":\"parcoords\"}],\"pie\":[{\"automargin\":true,\"type\":\"pie\"}],\"scatter\":[{\"marker\":{\"colorbar\":{\"outlinewidth\":0,\"ticks\":\"\"}},\"type\":\"scatter\"}],\"scatter3d\":[{\"line\":{\"colorbar\":{\"outlinewidth\":0,\"ticks\":\"\"}},\"marker\":{\"colorbar\":{\"outlinewidth\":0,\"ticks\":\"\"}},\"type\":\"scatter3d\"}],\"scattercarpet\":[{\"marker\":{\"colorbar\":{\"outlinewidth\":0,\"ticks\":\"\"}},\"type\":\"scattercarpet\"}],\"scattergeo\":[{\"marker\":{\"colorbar\":{\"outlinewidth\":0,\"ticks\":\"\"}},\"type\":\"scattergeo\"}],\"scattergl\":[{\"marker\":{\"colorbar\":{\"outlinewidth\":0,\"ticks\":\"\"}},\"type\":\"scattergl\"}],\"scattermapbox\":[{\"marker\":{\"colorbar\":{\"outlinewidth\":0,\"ticks\":\"\"}},\"type\":\"scattermapbox\"}],\"scatterpolar\":[{\"marker\":{\"colorbar\":{\"outlinewidth\":0,\"ticks\":\"\"}},\"type\":\"scatterpolar\"}],\"scatterpolargl\":[{\"marker\":{\"colorbar\":{\"outlinewidth\":0,\"ticks\":\"\"}},\"type\":\"scatterpolargl\"}],\"scatterternary\":[{\"marker\":{\"colorbar\":{\"outlinewidth\":0,\"ticks\":\"\"}},\"type\":\"scatterternary\"}],\"surface\":[{\"colorbar\":{\"outlinewidth\":0,\"ticks\":\"\"},\"colorscale\":[[0.0,\"#0d0887\"],[0.1111111111111111,\"#46039f\"],[0.2222222222222222,\"#7201a8\"],[0.3333333333333333,\"#9c179e\"],[0.4444444444444444,\"#bd3786\"],[0.5555555555555556,\"#d8576b\"],[0.6666666666666666,\"#ed7953\"],[0.7777777777777778,\"#fb9f3a\"],[0.8888888888888888,\"#fdca26\"],[1.0,\"#f0f921\"]],\"type\":\"surface\"}],\"table\":[{\"cells\":{\"fill\":{\"color\":\"#EBF0F8\"},\"line\":{\"color\":\"white\"}},\"header\":{\"fill\":{\"color\":\"#C8D4E3\"},\"line\":{\"color\":\"white\"}},\"type\":\"table\"}]},\"layout\":{\"annotationdefaults\":{\"arrowcolor\":\"#2a3f5f\",\"arrowhead\":0,\"arrowwidth\":1},\"autotypenumbers\":\"strict\",\"coloraxis\":{\"colorbar\":{\"outlinewidth\":0,\"ticks\":\"\"}},\"colorscale\":{\"diverging\":[[0,\"#8e0152\"],[0.1,\"#c51b7d\"],[0.2,\"#de77ae\"],[0.3,\"#f1b6da\"],[0.4,\"#fde0ef\"],[0.5,\"#f7f7f7\"],[0.6,\"#e6f5d0\"],[0.7,\"#b8e186\"],[0.8,\"#7fbc41\"],[0.9,\"#4d9221\"],[1,\"#276419\"]],\"sequential\":[[0.0,\"#0d0887\"],[0.1111111111111111,\"#46039f\"],[0.2222222222222222,\"#7201a8\"],[0.3333333333333333,\"#9c179e\"],[0.4444444444444444,\"#bd3786\"],[0.5555555555555556,\"#d8576b\"],[0.6666666666666666,\"#ed7953\"],[0.7777777777777778,\"#fb9f3a\"],[0.8888888888888888,\"#fdca26\"],[1.0,\"#f0f921\"]],\"sequentialminus\":[[0.0,\"#0d0887\"],[0.1111111111111111,\"#46039f\"],[0.2222222222222222,\"#7201a8\"],[0.3333333333333333,\"#9c179e\"],[0.4444444444444444,\"#bd3786\"],[0.5555555555555556,\"#d8576b\"],[0.6666666666666666,\"#ed7953\"],[0.7777777777777778,\"#fb9f3a\"],[0.8888888888888888,\"#fdca26\"],[1.0,\"#f0f921\"]]},\"colorway\":[\"#636efa\",\"#EF553B\",\"#00cc96\",\"#ab63fa\",\"#FFA15A\",\"#19d3f3\",\"#FF6692\",\"#B6E880\",\"#FF97FF\",\"#FECB52\"],\"font\":{\"color\":\"#2a3f5f\"},\"geo\":{\"bgcolor\":\"white\",\"lakecolor\":\"white\",\"landcolor\":\"#E5ECF6\",\"showlakes\":true,\"showland\":true,\"subunitcolor\":\"white\"},\"hoverlabel\":{\"align\":\"left\"},\"hovermode\":\"closest\",\"mapbox\":{\"style\":\"light\"},\"paper_bgcolor\":\"white\",\"plot_bgcolor\":\"#E5ECF6\",\"polar\":{\"angularaxis\":{\"gridcolor\":\"white\",\"linecolor\":\"white\",\"ticks\":\"\"},\"bgcolor\":\"#E5ECF6\",\"radialaxis\":{\"gridcolor\":\"white\",\"linecolor\":\"white\",\"ticks\":\"\"}},\"scene\":{\"xaxis\":{\"backgroundcolor\":\"#E5ECF6\",\"gridcolor\":\"white\",\"gridwidth\":2,\"linecolor\":\"white\",\"showbackground\":true,\"ticks\":\"\",\"zerolinecolor\":\"white\"},\"yaxis\":{\"backgroundcolor\":\"#E5ECF6\",\"gridcolor\":\"white\",\"gridwidth\":2,\"linecolor\":\"white\",\"showbackground\":true,\"ticks\":\"\",\"zerolinecolor\":\"white\"},\"zaxis\":{\"backgroundcolor\":\"#E5ECF6\",\"gridcolor\":\"white\",\"gridwidth\":2,\"linecolor\":\"white\",\"showbackground\":true,\"ticks\":\"\",\"zerolinecolor\":\"white\"}},\"shapedefaults\":{\"line\":{\"color\":\"#2a3f5f\"}},\"ternary\":{\"aaxis\":{\"gridcolor\":\"white\",\"linecolor\":\"white\",\"ticks\":\"\"},\"baxis\":{\"gridcolor\":\"white\",\"linecolor\":\"white\",\"ticks\":\"\"},\"bgcolor\":\"#E5ECF6\",\"caxis\":{\"gridcolor\":\"white\",\"linecolor\":\"white\",\"ticks\":\"\"}},\"title\":{\"x\":0.05},\"xaxis\":{\"automargin\":true,\"gridcolor\":\"white\",\"linecolor\":\"white\",\"ticks\":\"\",\"title\":{\"standoff\":15},\"zerolinecolor\":\"white\",\"zerolinewidth\":2},\"yaxis\":{\"automargin\":true,\"gridcolor\":\"white\",\"linecolor\":\"white\",\"ticks\":\"\",\"title\":{\"standoff\":15},\"zerolinecolor\":\"white\",\"zerolinewidth\":2}}},\"xaxis\":{\"anchor\":\"y\",\"domain\":[0.0,1.0],\"title\":{\"text\":\"Company\"},\"categoryorder\":\"array\",\"categoryarray\":[\"International Holdings\",\"Moderna\",\"Zoom Video\",\"Sea Group\",\"GSX Techedu\",\"Just Eat Takeaway\",\"Alibaba Health Information Technology\",\"Tesla\",\"Teladoc Health\",\"Wayfair\",\"Pinduoduo\",\"DocuSign\",\"Datadog\",\"Flutter Entertainment\",\"Twilio\",\"Shopify\",\"CrowdStrike\",\"Audi\",\"T-Mobile US\",\"Chongqing Zhifei Biological\",\"JD.com\",\"Dexcom\",\"Samsung Biologics\",\"Adyen\",\"Okta\",\"Chewy\",\"Meituan Dianping\",\"Chugai Pharmaceutical\",\"Changchun High & New Technology Industry\",\"RingCentral\",\"Veeva Systems\",\"MercadoLibre\",\"ZTO Express\",\"Square\",\"Nvidia\",\"Offcn Education Technology\",\"Digital Realty Trust\",\"Hansoh Pharmaceutical\",\"Shenzhen Mindray Bio-Medical Electronics\",\"Celltrion\",\"PayPal\",\"Luxshare Precision\",\"Regeneron Pharmaceuticals\",\"Atlassian\",\"SF Holding\",\"LG Chem\",\"Contemporary Amperex Technology\",\"Amazon\",\"NetEase\",\"ServiceNow\",\"Lonza\",\"Centene\",\"Netflix\",\"Spotify\",\"Snap\",\"China Tourism Group Duty Free\",\"Muyuan Foods\",\"TAL Education\",\"Lululemon Athletica\",\"Barrick Gold\",\"Vertex Pharmaceuticals\",\"AbbVie\",\"Autodesk\",\"Activision Blizzard\",\"Foshan Haitian Flavouring and Food\",\"Prologis\",\"Daiichi Sankyo\",\"Adobe\",\"Newmont\",\"Equinix\",\"Microsoft\",\"Advanced Micro Devices\",\"ASML\",\"Jiangsu Hengrui Medicine\",\"Prosus\",\"Tencent\",\"Crown Castle International\",\"S&P Global\",\"Keyence\",\"Apple\",\"Kweichow Moutai\",\"Wuliangye Yibin\",\"American Tower\",\"Eli Lilly\",\"Facebook\",\"Novo Nordisk\",\"Herm\\u00e8s International\",\"Home Depot\",\"Salesforce\",\"Danaher\",\"Gilead Sciences\",\"Lowe's\",\"Roche\",\"Alphabet\",\"Reliance Industries\",\"AstraZeneca\",\"Unilever\",\"Alibaba\",\"L'Or\\u00e9al\",\"Nestl\\u00e9\"]},\"yaxis\":{\"anchor\":\"x\",\"domain\":[0.0,1.0],\"title\":{\"text\":\"Change\"}},\"legend\":{\"title\":{\"text\":\"Company\"},\"tracegroupgap\":0},\"margin\":{\"t\":60},\"barmode\":\"relative\",\"height\":600},                        {\"responsive\": true}                    ).then(function(){\n",
              "                            \n",
              "var gd = document.getElementById('c89551cc-974c-47ae-9132-5c2c2ad5ef77');\n",
              "var x = new MutationObserver(function (mutations, observer) {{\n",
              "        var display = window.getComputedStyle(gd).display;\n",
              "        if (!display || display === 'none') {{\n",
              "            console.log([gd, 'removed!']);\n",
              "            Plotly.purge(gd);\n",
              "            observer.disconnect();\n",
              "        }}\n",
              "}});\n",
              "\n",
              "// Listen for the removal of the full notebook cells\n",
              "var notebookContainer = gd.closest('#notebook-container');\n",
              "if (notebookContainer) {{\n",
              "    x.observe(notebookContainer, {childList: true});\n",
              "}}\n",
              "\n",
              "// Listen for the clearing of the current output cell\n",
              "var outputEl = gd.closest('.output');\n",
              "if (outputEl) {{\n",
              "    x.observe(outputEl, {childList: true});\n",
              "}}\n",
              "\n",
              "                        })                };                            </script>        </div>\n",
              "</body>\n",
              "</html>"
            ]
          },
          "metadata": {}
        }
      ],
      "source": [
        "px.bar(df_sort_change, x='Company', y='Change',height=600,color  ='Company')"
      ]
    },
    {
      "cell_type": "markdown",
      "id": "f782e831",
      "metadata": {
        "id": "f782e831"
      },
      "source": [
        "% change in capital happened in totally different and diverse sectors from Finance,Healthcare and tech, which is \n",
        "contradictory of our initial assumption."
      ]
    },
    {
      "cell_type": "code",
      "execution_count": 22,
      "id": "25ff9080",
      "metadata": {
        "colab": {
          "base_uri": "https://localhost:8080/",
          "height": 617
        },
        "id": "25ff9080",
        "outputId": "b4a60805-175e-4d67-ff13-c0f733c17587"
      },
      "outputs": [
        {
          "output_type": "display_data",
          "data": {
            "text/html": [
              "<html>\n",
              "<head><meta charset=\"utf-8\" /></head>\n",
              "<body>\n",
              "    <div>            <script src=\"https://cdnjs.cloudflare.com/ajax/libs/mathjax/2.7.5/MathJax.js?config=TeX-AMS-MML_SVG\"></script><script type=\"text/javascript\">if (window.MathJax) {MathJax.Hub.Config({SVG: {font: \"STIX-Web\"}});}</script>                <script type=\"text/javascript\">window.PlotlyConfig = {MathJaxConfig: 'local'};</script>\n",
              "        <script src=\"https://cdn.plot.ly/plotly-2.8.3.min.js\"></script>                <div id=\"c41fef75-c5cf-43f6-838c-07dd5c6ba9eb\" class=\"plotly-graph-div\" style=\"height:600px; width:100%;\"></div>            <script type=\"text/javascript\">                                    window.PLOTLYENV=window.PLOTLYENV || {};                                    if (document.getElementById(\"c41fef75-c5cf-43f6-838c-07dd5c6ba9eb\")) {                    Plotly.newPlot(                        \"c41fef75-c5cf-43f6-838c-07dd5c6ba9eb\",                        [{\"alignmentgroup\":\"True\",\"hovertemplate\":\"Company=%{x}<br>value=%{y}<extra></extra>\",\"legendgroup\":\"Amazon\",\"marker\":{\"color\":\"#636efa\",\"pattern\":{\"shape\":\"\"}},\"name\":\"Amazon\",\"offsetgroup\":\"Amazon\",\"orientation\":\"v\",\"showlegend\":true,\"textposition\":\"auto\",\"x\":[\"Amazon\",\"Amazon\"],\"xaxis\":\"x\",\"y\":[916.1999999999999,401.1],\"yaxis\":\"y\",\"type\":\"bar\"},{\"alignmentgroup\":\"True\",\"hovertemplate\":\"Company=%{x}<br>value=%{y}<extra></extra>\",\"legendgroup\":\"Microsoft\",\"marker\":{\"color\":\"#EF553B\",\"pattern\":{\"shape\":\"\"}},\"name\":\"Microsoft\",\"offsetgroup\":\"Microsoft\",\"orientation\":\"v\",\"showlegend\":true,\"textposition\":\"auto\",\"x\":[\"Microsoft\",\"Microsoft\"],\"xaxis\":\"x\",\"y\":[1203.1,269.9],\"yaxis\":\"y\",\"type\":\"bar\"},{\"alignmentgroup\":\"True\",\"hovertemplate\":\"Company=%{x}<br>value=%{y}<extra></extra>\",\"legendgroup\":\"Apple\",\"marker\":{\"color\":\"#00cc96\",\"pattern\":{\"shape\":\"\"}},\"name\":\"Apple\",\"offsetgroup\":\"Apple\",\"orientation\":\"v\",\"showlegend\":true,\"textposition\":\"auto\",\"x\":[\"Apple\",\"Apple\"],\"xaxis\":\"x\",\"y\":[1304.8000000000002,219.1],\"yaxis\":\"y\",\"type\":\"bar\"},{\"alignmentgroup\":\"True\",\"hovertemplate\":\"Company=%{x}<br>value=%{y}<extra></extra>\",\"legendgroup\":\"Tesla\",\"marker\":{\"color\":\"#ab63fa\",\"pattern\":{\"shape\":\"\"}},\"name\":\"Tesla\",\"offsetgroup\":\"Tesla\",\"orientation\":\"v\",\"showlegend\":true,\"textposition\":\"auto\",\"x\":[\"Tesla\",\"Tesla\"],\"xaxis\":\"x\",\"y\":[75.4,108.4],\"yaxis\":\"y\",\"type\":\"bar\"},{\"alignmentgroup\":\"True\",\"hovertemplate\":\"Company=%{x}<br>value=%{y}<extra></extra>\",\"legendgroup\":\"Tencent\",\"marker\":{\"color\":\"#FFA15A\",\"pattern\":{\"shape\":\"\"}},\"name\":\"Tencent\",\"offsetgroup\":\"Tencent\",\"orientation\":\"v\",\"showlegend\":true,\"textposition\":\"auto\",\"x\":[\"Tencent\",\"Tencent\"],\"xaxis\":\"x\",\"y\":[457.79999999999995,93.1],\"yaxis\":\"y\",\"type\":\"bar\"},{\"alignmentgroup\":\"True\",\"hovertemplate\":\"Company=%{x}<br>value=%{y}<extra></extra>\",\"legendgroup\":\"Facebook\",\"marker\":{\"color\":\"#19d3f3\",\"pattern\":{\"shape\":\"\"}},\"name\":\"Facebook\",\"offsetgroup\":\"Facebook\",\"orientation\":\"v\",\"showlegend\":true,\"textposition\":\"auto\",\"x\":[\"Facebook\",\"Facebook\"],\"xaxis\":\"x\",\"y\":[585.3,85.7],\"yaxis\":\"y\",\"type\":\"bar\"},{\"alignmentgroup\":\"True\",\"hovertemplate\":\"Company=%{x}<br>value=%{y}<extra></extra>\",\"legendgroup\":\"Nvidia\",\"marker\":{\"color\":\"#FF6692\",\"pattern\":{\"shape\":\"\"}},\"name\":\"Nvidia\",\"offsetgroup\":\"Nvidia\",\"orientation\":\"v\",\"showlegend\":true,\"textposition\":\"auto\",\"x\":[\"Nvidia\",\"Nvidia\"],\"xaxis\":\"x\",\"y\":[144.0,83.3],\"yaxis\":\"y\",\"type\":\"bar\"},{\"alignmentgroup\":\"True\",\"hovertemplate\":\"Company=%{x}<br>value=%{y}<extra></extra>\",\"legendgroup\":\"Alphabet\",\"marker\":{\"color\":\"#B6E880\",\"pattern\":{\"shape\":\"\"}},\"name\":\"Alphabet\",\"offsetgroup\":\"Alphabet\",\"orientation\":\"v\",\"showlegend\":true,\"textposition\":\"auto\",\"x\":[\"Alphabet\",\"Alphabet\"],\"xaxis\":\"x\",\"y\":[923.0,68.1],\"yaxis\":\"y\",\"type\":\"bar\"},{\"alignmentgroup\":\"True\",\"hovertemplate\":\"Company=%{x}<br>value=%{y}<extra></extra>\",\"legendgroup\":\"PayPal\",\"marker\":{\"color\":\"#FF97FF\",\"pattern\":{\"shape\":\"\"}},\"name\":\"PayPal\",\"offsetgroup\":\"PayPal\",\"orientation\":\"v\",\"showlegend\":true,\"textposition\":\"auto\",\"x\":[\"PayPal\",\"PayPal\"],\"xaxis\":\"x\",\"y\":[127.0,65.4],\"yaxis\":\"y\",\"type\":\"bar\"},{\"alignmentgroup\":\"True\",\"hovertemplate\":\"Company=%{x}<br>value=%{y}<extra></extra>\",\"legendgroup\":\"T-Mobile US\",\"marker\":{\"color\":\"#FECB52\",\"pattern\":{\"shape\":\"\"}},\"name\":\"T-Mobile US\",\"offsetgroup\":\"T-Mobile US\",\"orientation\":\"v\",\"showlegend\":true,\"textposition\":\"auto\",\"x\":[\"T-Mobile US\",\"T-Mobile US\"],\"xaxis\":\"x\",\"y\":[67.1,59.7],\"yaxis\":\"y\",\"type\":\"bar\"},{\"alignmentgroup\":\"True\",\"hovertemplate\":\"Company=%{x}<br>value=%{y}<extra></extra>\",\"legendgroup\":\"Pinduoduo\",\"marker\":{\"color\":\"#636efa\",\"pattern\":{\"shape\":\"\"}},\"name\":\"Pinduoduo\",\"offsetgroup\":\"Pinduoduo\",\"orientation\":\"v\",\"showlegend\":true,\"textposition\":\"auto\",\"x\":[\"Pinduoduo\",\"Pinduoduo\"],\"xaxis\":\"x\",\"y\":[44.0,55.2],\"yaxis\":\"y\",\"type\":\"bar\"},{\"alignmentgroup\":\"True\",\"hovertemplate\":\"Company=%{x}<br>value=%{y}<extra></extra>\",\"legendgroup\":\"Netflix\",\"marker\":{\"color\":\"#EF553B\",\"pattern\":{\"shape\":\"\"}},\"name\":\"Netflix\",\"offsetgroup\":\"Netflix\",\"orientation\":\"v\",\"showlegend\":true,\"textposition\":\"auto\",\"x\":[\"Netflix\",\"Netflix\"],\"xaxis\":\"x\",\"y\":[141.8,55.1],\"yaxis\":\"y\",\"type\":\"bar\"},{\"alignmentgroup\":\"True\",\"hovertemplate\":\"Company=%{x}<br>value=%{y}<extra></extra>\",\"legendgroup\":\"Meituan Dianping\",\"marker\":{\"color\":\"#00cc96\",\"pattern\":{\"shape\":\"\"}},\"name\":\"Meituan Dianping\",\"offsetgroup\":\"Meituan Dianping\",\"orientation\":\"v\",\"showlegend\":true,\"textposition\":\"auto\",\"x\":[\"Meituan Dianping\",\"Meituan Dianping\"],\"xaxis\":\"x\",\"y\":[75.89999999999999,53.7],\"yaxis\":\"y\",\"type\":\"bar\"},{\"alignmentgroup\":\"True\",\"hovertemplate\":\"Company=%{x}<br>value=%{y}<extra></extra>\",\"legendgroup\":\"Shopify\",\"marker\":{\"color\":\"#ab63fa\",\"pattern\":{\"shape\":\"\"}},\"name\":\"Shopify\",\"offsetgroup\":\"Shopify\",\"orientation\":\"v\",\"showlegend\":true,\"textposition\":\"auto\",\"x\":[\"Shopify\",\"Shopify\"],\"xaxis\":\"x\",\"y\":[46.099999999999994,51.5],\"yaxis\":\"y\",\"type\":\"bar\"},{\"alignmentgroup\":\"True\",\"hovertemplate\":\"Company=%{x}<br>value=%{y}<extra></extra>\",\"legendgroup\":\"Zoom Video\",\"marker\":{\"color\":\"#FFA15A\",\"pattern\":{\"shape\":\"\"}},\"name\":\"Zoom Video\",\"offsetgroup\":\"Zoom Video\",\"orientation\":\"v\",\"showlegend\":true,\"textposition\":\"auto\",\"x\":[\"Zoom Video\",\"Zoom Video\"],\"xaxis\":\"x\",\"y\":[18.799999999999997,48.0],\"yaxis\":\"y\",\"type\":\"bar\"},{\"alignmentgroup\":\"True\",\"hovertemplate\":\"Company=%{x}<br>value=%{y}<extra></extra>\",\"legendgroup\":\"JD.com\",\"marker\":{\"color\":\"#19d3f3\",\"pattern\":{\"shape\":\"\"}},\"name\":\"JD.com\",\"offsetgroup\":\"JD.com\",\"orientation\":\"v\",\"showlegend\":true,\"textposition\":\"auto\",\"x\":[\"JD.com\",\"JD.com\"],\"xaxis\":\"x\",\"y\":[51.4,44.4],\"yaxis\":\"y\",\"type\":\"bar\"},{\"alignmentgroup\":\"True\",\"hovertemplate\":\"Company=%{x}<br>value=%{y}<extra></extra>\",\"legendgroup\":\"Adobe\",\"marker\":{\"color\":\"#FF6692\",\"pattern\":{\"shape\":\"\"}},\"name\":\"Adobe\",\"offsetgroup\":\"Adobe\",\"orientation\":\"v\",\"showlegend\":true,\"textposition\":\"auto\",\"x\":[\"Adobe\",\"Adobe\"],\"xaxis\":\"x\",\"y\":[159.1,40.1],\"yaxis\":\"y\",\"type\":\"bar\"},{\"alignmentgroup\":\"True\",\"hovertemplate\":\"Company=%{x}<br>value=%{y}<extra></extra>\",\"legendgroup\":\"Audi\",\"marker\":{\"color\":\"#B6E880\",\"pattern\":{\"shape\":\"\"}},\"name\":\"Audi\",\"offsetgroup\":\"Audi\",\"orientation\":\"v\",\"showlegend\":true,\"textposition\":\"auto\",\"x\":[\"Audi\",\"Audi\"],\"xaxis\":\"x\",\"y\":[38.5,37.8],\"yaxis\":\"y\",\"type\":\"bar\"},{\"alignmentgroup\":\"True\",\"hovertemplate\":\"Company=%{x}<br>value=%{y}<extra></extra>\",\"legendgroup\":\"AbbVie\",\"marker\":{\"color\":\"#FF97FF\",\"pattern\":{\"shape\":\"\"}},\"name\":\"AbbVie\",\"offsetgroup\":\"AbbVie\",\"orientation\":\"v\",\"showlegend\":true,\"textposition\":\"auto\",\"x\":[\"AbbVie\",\"AbbVie\"],\"xaxis\":\"x\",\"y\":[130.89999999999998,37.8],\"yaxis\":\"y\",\"type\":\"bar\"},{\"alignmentgroup\":\"True\",\"hovertemplate\":\"Company=%{x}<br>value=%{y}<extra></extra>\",\"legendgroup\":\"Kweichow Moutai\",\"marker\":{\"color\":\"#FECB52\",\"pattern\":{\"shape\":\"\"}},\"name\":\"Kweichow Moutai\",\"offsetgroup\":\"Kweichow Moutai\",\"orientation\":\"v\",\"showlegend\":true,\"textposition\":\"auto\",\"x\":[\"Kweichow Moutai\",\"Kweichow Moutai\"],\"xaxis\":\"x\",\"y\":[213.5,35.6],\"yaxis\":\"y\",\"type\":\"bar\"},{\"alignmentgroup\":\"True\",\"hovertemplate\":\"Company=%{x}<br>value=%{y}<extra></extra>\",\"legendgroup\":\"Chugai Pharmaceutical\",\"marker\":{\"color\":\"#636efa\",\"pattern\":{\"shape\":\"\"}},\"name\":\"Chugai Pharmaceutical\",\"offsetgroup\":\"Chugai Pharmaceutical\",\"orientation\":\"v\",\"showlegend\":true,\"textposition\":\"auto\",\"x\":[\"Chugai Pharmaceutical\",\"Chugai Pharmaceutical\"],\"xaxis\":\"x\",\"y\":[50.800000000000004,33.9],\"yaxis\":\"y\",\"type\":\"bar\"},{\"alignmentgroup\":\"True\",\"hovertemplate\":\"Company=%{x}<br>value=%{y}<extra></extra>\",\"legendgroup\":\"Alibaba\",\"marker\":{\"color\":\"#EF553B\",\"pattern\":{\"shape\":\"\"}},\"name\":\"Alibaba\",\"offsetgroup\":\"Alibaba\",\"orientation\":\"v\",\"showlegend\":true,\"textposition\":\"auto\",\"x\":[\"Alibaba\",\"Alibaba\"],\"xaxis\":\"x\",\"y\":[569.0,32.8],\"yaxis\":\"y\",\"type\":\"bar\"},{\"alignmentgroup\":\"True\",\"hovertemplate\":\"Company=%{x}<br>value=%{y}<extra></extra>\",\"legendgroup\":\"Sea Group\",\"marker\":{\"color\":\"#00cc96\",\"pattern\":{\"shape\":\"\"}},\"name\":\"Sea Group\",\"offsetgroup\":\"Sea Group\",\"orientation\":\"v\",\"showlegend\":true,\"textposition\":\"auto\",\"x\":[\"Sea Group\",\"Sea Group\"],\"xaxis\":\"x\",\"y\":[18.6,31.9],\"yaxis\":\"y\",\"type\":\"bar\"},{\"alignmentgroup\":\"True\",\"hovertemplate\":\"Company=%{x}<br>value=%{y}<extra></extra>\",\"legendgroup\":\"Home Depot\",\"marker\":{\"color\":\"#ab63fa\",\"pattern\":{\"shape\":\"\"}},\"name\":\"Home Depot\",\"offsetgroup\":\"Home Depot\",\"orientation\":\"v\",\"showlegend\":true,\"textposition\":\"auto\",\"x\":[\"Home Depot\",\"Home Depot\"],\"xaxis\":\"x\",\"y\":[238.20000000000002,31.6],\"yaxis\":\"y\",\"type\":\"bar\"},{\"alignmentgroup\":\"True\",\"hovertemplate\":\"Company=%{x}<br>value=%{y}<extra></extra>\",\"legendgroup\":\"ASML\",\"marker\":{\"color\":\"#FFA15A\",\"pattern\":{\"shape\":\"\"}},\"name\":\"ASML\",\"offsetgroup\":\"ASML\",\"orientation\":\"v\",\"showlegend\":true,\"textposition\":\"auto\",\"x\":[\"ASML\",\"ASML\"],\"xaxis\":\"x\",\"y\":[123.7,27.3],\"yaxis\":\"y\",\"type\":\"bar\"},{\"alignmentgroup\":\"True\",\"hovertemplate\":\"Company=%{x}<br>value=%{y}<extra></extra>\",\"legendgroup\":\"Roche\",\"marker\":{\"color\":\"#19d3f3\",\"pattern\":{\"shape\":\"\"}},\"name\":\"Roche\",\"offsetgroup\":\"Roche\",\"orientation\":\"v\",\"showlegend\":true,\"textposition\":\"auto\",\"x\":[\"Roche\",\"Roche\"],\"xaxis\":\"x\",\"y\":[276.59999999999997,27.1],\"yaxis\":\"y\",\"type\":\"bar\"},{\"alignmentgroup\":\"True\",\"hovertemplate\":\"Company=%{x}<br>value=%{y}<extra></extra>\",\"legendgroup\":\"Prosus\",\"marker\":{\"color\":\"#FF6692\",\"pattern\":{\"shape\":\"\"}},\"name\":\"Prosus\",\"offsetgroup\":\"Prosus\",\"orientation\":\"v\",\"showlegend\":true,\"textposition\":\"auto\",\"x\":[\"Prosus\",\"Prosus\"],\"xaxis\":\"x\",\"y\":[120.99999999999999,24.7],\"yaxis\":\"y\",\"type\":\"bar\"},{\"alignmentgroup\":\"True\",\"hovertemplate\":\"Company=%{x}<br>value=%{y}<extra></extra>\",\"legendgroup\":\"ServiceNow\",\"marker\":{\"color\":\"#B6E880\",\"pattern\":{\"shape\":\"\"}},\"name\":\"ServiceNow\",\"offsetgroup\":\"ServiceNow\",\"orientation\":\"v\",\"showlegend\":true,\"textposition\":\"auto\",\"x\":[\"ServiceNow\",\"ServiceNow\"],\"xaxis\":\"x\",\"y\":[53.2,23.2],\"yaxis\":\"y\",\"type\":\"bar\"},{\"alignmentgroup\":\"True\",\"hovertemplate\":\"Company=%{x}<br>value=%{y}<extra></extra>\",\"legendgroup\":\"Regeneron Pharmaceuticals\",\"marker\":{\"color\":\"#FF97FF\",\"pattern\":{\"shape\":\"\"}},\"name\":\"Regeneron Pharmaceuticals\",\"offsetgroup\":\"Regeneron Pharmaceuticals\",\"orientation\":\"v\",\"showlegend\":true,\"textposition\":\"auto\",\"x\":[\"Regeneron Pharmaceuticals\",\"Regeneron Pharmaceuticals\"],\"xaxis\":\"x\",\"y\":[41.0,20.2],\"yaxis\":\"y\",\"type\":\"bar\"},{\"alignmentgroup\":\"True\",\"hovertemplate\":\"Company=%{x}<br>value=%{y}<extra></extra>\",\"legendgroup\":\"Alibaba Health Information Technology\",\"marker\":{\"color\":\"#FECB52\",\"pattern\":{\"shape\":\"\"}},\"name\":\"Alibaba Health Information Technology\",\"offsetgroup\":\"Alibaba Health Information Technology\",\"orientation\":\"v\",\"showlegend\":true,\"textposition\":\"auto\",\"x\":[\"Alibaba Health Information Technology\",\"Alibaba Health Information Technology\"],\"xaxis\":\"x\",\"y\":[13.900000000000002,20.2],\"yaxis\":\"y\",\"type\":\"bar\"},{\"alignmentgroup\":\"True\",\"hovertemplate\":\"Company=%{x}<br>value=%{y}<extra></extra>\",\"legendgroup\":\"Samsung Biologics\",\"marker\":{\"color\":\"#636efa\",\"pattern\":{\"shape\":\"\"}},\"name\":\"Samsung Biologics\",\"offsetgroup\":\"Samsung Biologics\",\"orientation\":\"v\",\"showlegend\":true,\"textposition\":\"auto\",\"x\":[\"Samsung Biologics\",\"Samsung Biologics\"],\"xaxis\":\"x\",\"y\":[24.9,20.0],\"yaxis\":\"y\",\"type\":\"bar\"},{\"alignmentgroup\":\"True\",\"hovertemplate\":\"Company=%{x}<br>value=%{y}<extra></extra>\",\"legendgroup\":\"Novo Nordisk\",\"marker\":{\"color\":\"#EF553B\",\"pattern\":{\"shape\":\"\"}},\"name\":\"Novo Nordisk\",\"offsetgroup\":\"Novo Nordisk\",\"orientation\":\"v\",\"showlegend\":true,\"textposition\":\"auto\",\"x\":[\"Novo Nordisk\",\"Novo Nordisk\"],\"xaxis\":\"x\",\"y\":[136.5,19.8],\"yaxis\":\"y\",\"type\":\"bar\"},{\"alignmentgroup\":\"True\",\"hovertemplate\":\"Company=%{x}<br>value=%{y}<extra></extra>\",\"legendgroup\":\"Salesforce\",\"marker\":{\"color\":\"#00cc96\",\"pattern\":{\"shape\":\"\"}},\"name\":\"Salesforce\",\"offsetgroup\":\"Salesforce\",\"orientation\":\"v\",\"showlegend\":true,\"textposition\":\"auto\",\"x\":[\"Salesforce\",\"Salesforce\"],\"xaxis\":\"x\",\"y\":[144.20000000000002,19.2],\"yaxis\":\"y\",\"type\":\"bar\"},{\"alignmentgroup\":\"True\",\"hovertemplate\":\"Company=%{x}<br>value=%{y}<extra></extra>\",\"legendgroup\":\"Adyen\",\"marker\":{\"color\":\"#ab63fa\",\"pattern\":{\"shape\":\"\"}},\"name\":\"Adyen\",\"offsetgroup\":\"Adyen\",\"orientation\":\"v\",\"showlegend\":true,\"textposition\":\"auto\",\"x\":[\"Adyen\",\"Adyen\"],\"xaxis\":\"x\",\"y\":[24.4,19.0],\"yaxis\":\"y\",\"type\":\"bar\"},{\"alignmentgroup\":\"True\",\"hovertemplate\":\"Company=%{x}<br>value=%{y}<extra></extra>\",\"legendgroup\":\"Eli Lilly\",\"marker\":{\"color\":\"#FFA15A\",\"pattern\":{\"shape\":\"\"}},\"name\":\"Eli Lilly\",\"offsetgroup\":\"Eli Lilly\",\"orientation\":\"v\",\"showlegend\":true,\"textposition\":\"auto\",\"x\":[\"Eli Lilly\",\"Eli Lilly\"],\"xaxis\":\"x\",\"y\":[126.2,18.8],\"yaxis\":\"y\",\"type\":\"bar\"},{\"alignmentgroup\":\"True\",\"hovertemplate\":\"Company=%{x}<br>value=%{y}<extra></extra>\",\"legendgroup\":\"Moderna\",\"marker\":{\"color\":\"#19d3f3\",\"pattern\":{\"shape\":\"\"}},\"name\":\"Moderna\",\"offsetgroup\":\"Moderna\",\"orientation\":\"v\",\"showlegend\":true,\"textposition\":\"auto\",\"x\":[\"Moderna\",\"Moderna\"],\"xaxis\":\"x\",\"y\":[6.5,18.1],\"yaxis\":\"y\",\"type\":\"bar\"},{\"alignmentgroup\":\"True\",\"hovertemplate\":\"Company=%{x}<br>value=%{y}<extra></extra>\",\"legendgroup\":\"MercadoLibre\",\"marker\":{\"color\":\"#FF6692\",\"pattern\":{\"shape\":\"\"}},\"name\":\"MercadoLibre\",\"offsetgroup\":\"MercadoLibre\",\"orientation\":\"v\",\"showlegend\":true,\"textposition\":\"auto\",\"x\":[\"MercadoLibre\",\"MercadoLibre\"],\"xaxis\":\"x\",\"y\":[28.4,18.1],\"yaxis\":\"y\",\"type\":\"bar\"},{\"alignmentgroup\":\"True\",\"hovertemplate\":\"Company=%{x}<br>value=%{y}<extra></extra>\",\"legendgroup\":\"Dexcom\",\"marker\":{\"color\":\"#B6E880\",\"pattern\":{\"shape\":\"\"}},\"name\":\"Dexcom\",\"offsetgroup\":\"Dexcom\",\"orientation\":\"v\",\"showlegend\":true,\"textposition\":\"auto\",\"x\":[\"Dexcom\",\"Dexcom\"],\"xaxis\":\"x\",\"y\":[20.000000000000004,17.2],\"yaxis\":\"y\",\"type\":\"bar\"},{\"alignmentgroup\":\"True\",\"hovertemplate\":\"Company=%{x}<br>value=%{y}<extra></extra>\",\"legendgroup\":\"NetEase\",\"marker\":{\"color\":\"#FF97FF\",\"pattern\":{\"shape\":\"\"}},\"name\":\"NetEase\",\"offsetgroup\":\"NetEase\",\"orientation\":\"v\",\"showlegend\":true,\"textposition\":\"auto\",\"x\":[\"NetEase\",\"NetEase\"],\"xaxis\":\"x\",\"y\":[39.199999999999996,17.1],\"yaxis\":\"y\",\"type\":\"bar\"},{\"alignmentgroup\":\"True\",\"hovertemplate\":\"Company=%{x}<br>value=%{y}<extra></extra>\",\"legendgroup\":\"Shenzhen Mindray Bio-Medical Electronics\",\"marker\":{\"color\":\"#FECB52\",\"pattern\":{\"shape\":\"\"}},\"name\":\"Shenzhen Mindray Bio-Medical Electronics\",\"offsetgroup\":\"Shenzhen Mindray Bio-Medical Electronics\",\"orientation\":\"v\",\"showlegend\":true,\"textposition\":\"auto\",\"x\":[\"Shenzhen Mindray Bio-Medical Electronics\",\"Shenzhen Mindray Bio-Medical Electronics\"],\"xaxis\":\"x\",\"y\":[31.799999999999997,17.0],\"yaxis\":\"y\",\"type\":\"bar\"},{\"alignmentgroup\":\"True\",\"hovertemplate\":\"Company=%{x}<br>value=%{y}<extra></extra>\",\"legendgroup\":\"DocuSign\",\"marker\":{\"color\":\"#636efa\",\"pattern\":{\"shape\":\"\"}},\"name\":\"DocuSign\",\"offsetgroup\":\"DocuSign\",\"orientation\":\"v\",\"showlegend\":true,\"textposition\":\"auto\",\"x\":[\"DocuSign\",\"DocuSign\"],\"xaxis\":\"x\",\"y\":[13.3,16.4],\"yaxis\":\"y\",\"type\":\"bar\"},{\"alignmentgroup\":\"True\",\"hovertemplate\":\"Company=%{x}<br>value=%{y}<extra></extra>\",\"legendgroup\":\"Vertex Pharmaceuticals\",\"marker\":{\"color\":\"#EF553B\",\"pattern\":{\"shape\":\"\"}},\"name\":\"Vertex Pharmaceuticals\",\"offsetgroup\":\"Vertex Pharmaceuticals\",\"orientation\":\"v\",\"showlegend\":true,\"textposition\":\"auto\",\"x\":[\"Vertex Pharmaceuticals\",\"Vertex Pharmaceuticals\"],\"xaxis\":\"x\",\"y\":[56.3,16.3],\"yaxis\":\"y\",\"type\":\"bar\"},{\"alignmentgroup\":\"True\",\"hovertemplate\":\"Company=%{x}<br>value=%{y}<extra></extra>\",\"legendgroup\":\"Twilio\",\"marker\":{\"color\":\"#00cc96\",\"pattern\":{\"shape\":\"\"}},\"name\":\"Twilio\",\"offsetgroup\":\"Twilio\",\"orientation\":\"v\",\"showlegend\":true,\"textposition\":\"auto\",\"x\":[\"Twilio\",\"Twilio\"],\"xaxis\":\"x\",\"y\":[13.5,16.1],\"yaxis\":\"y\",\"type\":\"bar\"},{\"alignmentgroup\":\"True\",\"hovertemplate\":\"Company=%{x}<br>value=%{y}<extra></extra>\",\"legendgroup\":\"Square\",\"marker\":{\"color\":\"#ab63fa\",\"pattern\":{\"shape\":\"\"}},\"name\":\"Square\",\"offsetgroup\":\"Square\",\"orientation\":\"v\",\"showlegend\":true,\"textposition\":\"auto\",\"x\":[\"Square\",\"Square\"],\"xaxis\":\"x\",\"y\":[26.900000000000002,15.7],\"yaxis\":\"y\",\"type\":\"bar\"},{\"alignmentgroup\":\"True\",\"hovertemplate\":\"Company=%{x}<br>value=%{y}<extra></extra>\",\"legendgroup\":\"Contemporary Amperex Technology\",\"marker\":{\"color\":\"#FFA15A\",\"pattern\":{\"shape\":\"\"}},\"name\":\"Contemporary Amperex Technology\",\"offsetgroup\":\"Contemporary Amperex Technology\",\"orientation\":\"v\",\"showlegend\":true,\"textposition\":\"auto\",\"x\":[\"Contemporary Amperex Technology\",\"Contemporary Amperex Technology\"],\"xaxis\":\"x\",\"y\":[33.800000000000004,15.4],\"yaxis\":\"y\",\"type\":\"bar\"},{\"alignmentgroup\":\"True\",\"hovertemplate\":\"Company=%{x}<br>value=%{y}<extra></extra>\",\"legendgroup\":\"American Tower\",\"marker\":{\"color\":\"#19d3f3\",\"pattern\":{\"shape\":\"\"}},\"name\":\"American Tower\",\"offsetgroup\":\"American Tower\",\"orientation\":\"v\",\"showlegend\":true,\"textposition\":\"auto\",\"x\":[\"American Tower\",\"American Tower\"],\"xaxis\":\"x\",\"y\":[101.8,15.2],\"yaxis\":\"y\",\"type\":\"bar\"},{\"alignmentgroup\":\"True\",\"hovertemplate\":\"Company=%{x}<br>value=%{y}<extra></extra>\",\"legendgroup\":\"Prologis\",\"marker\":{\"color\":\"#FF6692\",\"pattern\":{\"shape\":\"\"}},\"name\":\"Prologis\",\"offsetgroup\":\"Prologis\",\"orientation\":\"v\",\"showlegend\":true,\"textposition\":\"auto\",\"x\":[\"Prologis\",\"Prologis\"],\"xaxis\":\"x\",\"y\":[56.300000000000004,15.1],\"yaxis\":\"y\",\"type\":\"bar\"},{\"alignmentgroup\":\"True\",\"hovertemplate\":\"Company=%{x}<br>value=%{y}<extra></extra>\",\"legendgroup\":\"Keyence\",\"marker\":{\"color\":\"#B6E880\",\"pattern\":{\"shape\":\"\"}},\"name\":\"Keyence\",\"offsetgroup\":\"Keyence\",\"orientation\":\"v\",\"showlegend\":true,\"textposition\":\"auto\",\"x\":[\"Keyence\",\"Keyence\"],\"xaxis\":\"x\",\"y\":[85.9,14.6],\"yaxis\":\"y\",\"type\":\"bar\"},{\"alignmentgroup\":\"True\",\"hovertemplate\":\"Company=%{x}<br>value=%{y}<extra></extra>\",\"legendgroup\":\"Luxshare Precision\",\"marker\":{\"color\":\"#FF97FF\",\"pattern\":{\"shape\":\"\"}},\"name\":\"Luxshare Precision\",\"offsetgroup\":\"Luxshare Precision\",\"orientation\":\"v\",\"showlegend\":true,\"textposition\":\"auto\",\"x\":[\"Luxshare Precision\",\"Luxshare Precision\"],\"xaxis\":\"x\",\"y\":[28.099999999999998,14.2],\"yaxis\":\"y\",\"type\":\"bar\"},{\"alignmentgroup\":\"True\",\"hovertemplate\":\"Company=%{x}<br>value=%{y}<extra></extra>\",\"legendgroup\":\"Nestl\\u00e9\",\"marker\":{\"color\":\"#FECB52\",\"pattern\":{\"shape\":\"\"}},\"name\":\"Nestl\\u00e9\",\"offsetgroup\":\"Nestl\\u00e9\",\"orientation\":\"v\",\"showlegend\":true,\"textposition\":\"auto\",\"x\":[\"Nestl\\u00e9\",\"Nestl\\u00e9\"],\"xaxis\":\"x\",\"y\":[312.5,14.2],\"yaxis\":\"y\",\"type\":\"bar\"},{\"alignmentgroup\":\"True\",\"hovertemplate\":\"Company=%{x}<br>value=%{y}<extra></extra>\",\"legendgroup\":\"Atlassian\",\"marker\":{\"color\":\"#636efa\",\"pattern\":{\"shape\":\"\"}},\"name\":\"Atlassian\",\"offsetgroup\":\"Atlassian\",\"orientation\":\"v\",\"showlegend\":true,\"textposition\":\"auto\",\"x\":[\"Atlassian\",\"Atlassian\"],\"xaxis\":\"x\",\"y\":[29.400000000000002,14.2],\"yaxis\":\"y\",\"type\":\"bar\"},{\"alignmentgroup\":\"True\",\"hovertemplate\":\"Company=%{x}<br>value=%{y}<extra></extra>\",\"legendgroup\":\"Danaher\",\"marker\":{\"color\":\"#EF553B\",\"pattern\":{\"shape\":\"\"}},\"name\":\"Danaher\",\"offsetgroup\":\"Danaher\",\"orientation\":\"v\",\"showlegend\":true,\"textposition\":\"auto\",\"x\":[\"Danaher\",\"Danaher\"],\"xaxis\":\"x\",\"y\":[110.60000000000001,14.1],\"yaxis\":\"y\",\"type\":\"bar\"},{\"alignmentgroup\":\"True\",\"hovertemplate\":\"Company=%{x}<br>value=%{y}<extra></extra>\",\"legendgroup\":\"Digital Realty Trust\",\"marker\":{\"color\":\"#00cc96\",\"pattern\":{\"shape\":\"\"}},\"name\":\"Digital Realty Trust\",\"offsetgroup\":\"Digital Realty Trust\",\"orientation\":\"v\",\"showlegend\":true,\"textposition\":\"auto\",\"x\":[\"Digital Realty Trust\",\"Digital Realty Trust\"],\"xaxis\":\"x\",\"y\":[25.0,14.0],\"yaxis\":\"y\",\"type\":\"bar\"},{\"alignmentgroup\":\"True\",\"hovertemplate\":\"Company=%{x}<br>value=%{y}<extra></extra>\",\"legendgroup\":\"Datadog\",\"marker\":{\"color\":\"#ab63fa\",\"pattern\":{\"shape\":\"\"}},\"name\":\"Datadog\",\"offsetgroup\":\"Datadog\",\"orientation\":\"v\",\"showlegend\":true,\"textposition\":\"auto\",\"x\":[\"Datadog\",\"Datadog\"],\"xaxis\":\"x\",\"y\":[11.2,13.7],\"yaxis\":\"y\",\"type\":\"bar\"},{\"alignmentgroup\":\"True\",\"hovertemplate\":\"Company=%{x}<br>value=%{y}<extra></extra>\",\"legendgroup\":\"Veeva Systems\",\"marker\":{\"color\":\"#FFA15A\",\"pattern\":{\"shape\":\"\"}},\"name\":\"Veeva Systems\",\"offsetgroup\":\"Veeva Systems\",\"orientation\":\"v\",\"showlegend\":true,\"textposition\":\"auto\",\"x\":[\"Veeva Systems\",\"Veeva Systems\"],\"xaxis\":\"x\",\"y\":[20.9,13.5],\"yaxis\":\"y\",\"type\":\"bar\"},{\"alignmentgroup\":\"True\",\"hovertemplate\":\"Company=%{x}<br>value=%{y}<extra></extra>\",\"legendgroup\":\"International Holdings\",\"marker\":{\"color\":\"#19d3f3\",\"pattern\":{\"shape\":\"\"}},\"name\":\"International Holdings\",\"offsetgroup\":\"International Holdings\",\"orientation\":\"v\",\"showlegend\":true,\"textposition\":\"auto\",\"x\":[\"International Holdings\",\"International Holdings\"],\"xaxis\":\"x\",\"y\":[3.0,12.6],\"yaxis\":\"y\",\"type\":\"bar\"},{\"alignmentgroup\":\"True\",\"hovertemplate\":\"Company=%{x}<br>value=%{y}<extra></extra>\",\"legendgroup\":\"Activision Blizzard\",\"marker\":{\"color\":\"#FF6692\",\"pattern\":{\"shape\":\"\"}},\"name\":\"Activision Blizzard\",\"offsetgroup\":\"Activision Blizzard\",\"orientation\":\"v\",\"showlegend\":true,\"textposition\":\"auto\",\"x\":[\"Activision Blizzard\",\"Activision Blizzard\"],\"xaxis\":\"x\",\"y\":[45.7,12.5],\"yaxis\":\"y\",\"type\":\"bar\"},{\"alignmentgroup\":\"True\",\"hovertemplate\":\"Company=%{x}<br>value=%{y}<extra></extra>\",\"legendgroup\":\"Equinix\",\"marker\":{\"color\":\"#B6E880\",\"pattern\":{\"shape\":\"\"}},\"name\":\"Equinix\",\"offsetgroup\":\"Equinix\",\"orientation\":\"v\",\"showlegend\":true,\"textposition\":\"auto\",\"x\":[\"Equinix\",\"Equinix\"],\"xaxis\":\"x\",\"y\":[49.8,12.0],\"yaxis\":\"y\",\"type\":\"bar\"},{\"alignmentgroup\":\"True\",\"hovertemplate\":\"Company=%{x}<br>value=%{y}<extra></extra>\",\"legendgroup\":\"S&P Global\",\"marker\":{\"color\":\"#FF97FF\",\"pattern\":{\"shape\":\"\"}},\"name\":\"S&P Global\",\"offsetgroup\":\"S&P Global\",\"orientation\":\"v\",\"showlegend\":true,\"textposition\":\"auto\",\"x\":[\"S&P Global\",\"S&P Global\"],\"xaxis\":\"x\",\"y\":[66.69999999999999,11.9],\"yaxis\":\"y\",\"type\":\"bar\"},{\"alignmentgroup\":\"True\",\"hovertemplate\":\"Company=%{x}<br>value=%{y}<extra></extra>\",\"legendgroup\":\"Advanced Micro Devices\",\"marker\":{\"color\":\"#FECB52\",\"pattern\":{\"shape\":\"\"}},\"name\":\"Advanced Micro Devices\",\"offsetgroup\":\"Advanced Micro Devices\",\"orientation\":\"v\",\"showlegend\":true,\"textposition\":\"auto\",\"x\":[\"Advanced Micro Devices\",\"Advanced Micro Devices\"],\"xaxis\":\"x\",\"y\":[52.2,11.7],\"yaxis\":\"y\",\"type\":\"bar\"},{\"alignmentgroup\":\"True\",\"hovertemplate\":\"Company=%{x}<br>value=%{y}<extra></extra>\",\"legendgroup\":\"Autodesk\",\"marker\":{\"color\":\"#636efa\",\"pattern\":{\"shape\":\"\"}},\"name\":\"Autodesk\",\"offsetgroup\":\"Autodesk\",\"orientation\":\"v\",\"showlegend\":true,\"textposition\":\"auto\",\"x\":[\"Autodesk\",\"Autodesk\"],\"xaxis\":\"x\",\"y\":[40.4,11.6],\"yaxis\":\"y\",\"type\":\"bar\"},{\"alignmentgroup\":\"True\",\"hovertemplate\":\"Company=%{x}<br>value=%{y}<extra></extra>\",\"legendgroup\":\"Lonza\",\"marker\":{\"color\":\"#EF553B\",\"pattern\":{\"shape\":\"\"}},\"name\":\"Lonza\",\"offsetgroup\":\"Lonza\",\"orientation\":\"v\",\"showlegend\":true,\"textposition\":\"auto\",\"x\":[\"Lonza\",\"Lonza\"],\"xaxis\":\"x\",\"y\":[27.0,11.6],\"yaxis\":\"y\",\"type\":\"bar\"},{\"alignmentgroup\":\"True\",\"hovertemplate\":\"Company=%{x}<br>value=%{y}<extra></extra>\",\"legendgroup\":\"Flutter Entertainment\",\"marker\":{\"color\":\"#00cc96\",\"pattern\":{\"shape\":\"\"}},\"name\":\"Flutter Entertainment\",\"offsetgroup\":\"Flutter Entertainment\",\"orientation\":\"v\",\"showlegend\":true,\"textposition\":\"auto\",\"x\":[\"Flutter Entertainment\",\"Flutter Entertainment\"],\"xaxis\":\"x\",\"y\":[9.5,11.5],\"yaxis\":\"y\",\"type\":\"bar\"},{\"alignmentgroup\":\"True\",\"hovertemplate\":\"Company=%{x}<br>value=%{y}<extra></extra>\",\"legendgroup\":\"Crown Castle International\",\"marker\":{\"color\":\"#ab63fa\",\"pattern\":{\"shape\":\"\"}},\"name\":\"Crown Castle International\",\"offsetgroup\":\"Crown Castle International\",\"orientation\":\"v\",\"showlegend\":true,\"textposition\":\"auto\",\"x\":[\"Crown Castle International\",\"Crown Castle International\"],\"xaxis\":\"x\",\"y\":[59.099999999999994,11.5],\"yaxis\":\"y\",\"type\":\"bar\"},{\"alignmentgroup\":\"True\",\"hovertemplate\":\"Company=%{x}<br>value=%{y}<extra></extra>\",\"legendgroup\":\"Jiangsu Hengrui Medicine\",\"marker\":{\"color\":\"#FFA15A\",\"pattern\":{\"shape\":\"\"}},\"name\":\"Jiangsu Hengrui Medicine\",\"offsetgroup\":\"Jiangsu Hengrui Medicine\",\"orientation\":\"v\",\"showlegend\":true,\"textposition\":\"auto\",\"x\":[\"Jiangsu Hengrui Medicine\",\"Jiangsu Hengrui Medicine\"],\"xaxis\":\"x\",\"y\":[55.400000000000006,11.5],\"yaxis\":\"y\",\"type\":\"bar\"},{\"alignmentgroup\":\"True\",\"hovertemplate\":\"Company=%{x}<br>value=%{y}<extra></extra>\",\"legendgroup\":\"Foshan Haitian Flavouring and Food\",\"marker\":{\"color\":\"#19d3f3\",\"pattern\":{\"shape\":\"\"}},\"name\":\"Foshan Haitian Flavouring and Food\",\"offsetgroup\":\"Foshan Haitian Flavouring and Food\",\"orientation\":\"v\",\"showlegend\":true,\"textposition\":\"auto\",\"x\":[\"Foshan Haitian Flavouring and Food\",\"Foshan Haitian Flavouring and Food\"],\"xaxis\":\"x\",\"y\":[41.7,11.3],\"yaxis\":\"y\",\"type\":\"bar\"},{\"alignmentgroup\":\"True\",\"hovertemplate\":\"Company=%{x}<br>value=%{y}<extra></extra>\",\"legendgroup\":\"Wuliangye Yibin\",\"marker\":{\"color\":\"#FF6692\",\"pattern\":{\"shape\":\"\"}},\"name\":\"Wuliangye Yibin\",\"offsetgroup\":\"Wuliangye Yibin\",\"orientation\":\"v\",\"showlegend\":true,\"textposition\":\"auto\",\"x\":[\"Wuliangye Yibin\",\"Wuliangye Yibin\"],\"xaxis\":\"x\",\"y\":[74.2,11.2],\"yaxis\":\"y\",\"type\":\"bar\"},{\"alignmentgroup\":\"True\",\"hovertemplate\":\"Company=%{x}<br>value=%{y}<extra></extra>\",\"legendgroup\":\"Daiichi Sankyo\",\"marker\":{\"color\":\"#B6E880\",\"pattern\":{\"shape\":\"\"}},\"name\":\"Daiichi Sankyo\",\"offsetgroup\":\"Daiichi Sankyo\",\"orientation\":\"v\",\"showlegend\":true,\"textposition\":\"auto\",\"x\":[\"Daiichi Sankyo\",\"Daiichi Sankyo\"],\"xaxis\":\"x\",\"y\":[43.099999999999994,11.2],\"yaxis\":\"y\",\"type\":\"bar\"},{\"alignmentgroup\":\"True\",\"hovertemplate\":\"Company=%{x}<br>value=%{y}<extra></extra>\",\"legendgroup\":\"CrowdStrike\",\"marker\":{\"color\":\"#FF97FF\",\"pattern\":{\"shape\":\"\"}},\"name\":\"CrowdStrike\",\"offsetgroup\":\"CrowdStrike\",\"orientation\":\"v\",\"showlegend\":true,\"textposition\":\"auto\",\"x\":[\"CrowdStrike\",\"CrowdStrike\"],\"xaxis\":\"x\",\"y\":[10.200000000000001,11.1],\"yaxis\":\"y\",\"type\":\"bar\"},{\"alignmentgroup\":\"True\",\"hovertemplate\":\"Company=%{x}<br>value=%{y}<extra></extra>\",\"legendgroup\":\"SF Holding\",\"marker\":{\"color\":\"#FECB52\",\"pattern\":{\"shape\":\"\"}},\"name\":\"SF Holding\",\"offsetgroup\":\"SF Holding\",\"orientation\":\"v\",\"showlegend\":true,\"textposition\":\"auto\",\"x\":[\"SF Holding\",\"SF Holding\"],\"xaxis\":\"x\",\"y\":[23.5,11.1],\"yaxis\":\"y\",\"type\":\"bar\"},{\"alignmentgroup\":\"True\",\"hovertemplate\":\"Company=%{x}<br>value=%{y}<extra></extra>\",\"legendgroup\":\"ZTO Express\",\"marker\":{\"color\":\"#636efa\",\"pattern\":{\"shape\":\"\"}},\"name\":\"ZTO Express\",\"offsetgroup\":\"ZTO Express\",\"orientation\":\"v\",\"showlegend\":true,\"textposition\":\"auto\",\"x\":[\"ZTO Express\",\"ZTO Express\"],\"xaxis\":\"x\",\"y\":[18.2,11.0],\"yaxis\":\"y\",\"type\":\"bar\"},{\"alignmentgroup\":\"True\",\"hovertemplate\":\"Company=%{x}<br>value=%{y}<extra></extra>\",\"legendgroup\":\"Celltrion\",\"marker\":{\"color\":\"#EF553B\",\"pattern\":{\"shape\":\"\"}},\"name\":\"Celltrion\",\"offsetgroup\":\"Celltrion\",\"orientation\":\"v\",\"showlegend\":true,\"textposition\":\"auto\",\"x\":[\"Celltrion\",\"Celltrion\"],\"xaxis\":\"x\",\"y\":[21.0,10.9],\"yaxis\":\"y\",\"type\":\"bar\"},{\"alignmentgroup\":\"True\",\"hovertemplate\":\"Company=%{x}<br>value=%{y}<extra></extra>\",\"legendgroup\":\"Wayfair\",\"marker\":{\"color\":\"#00cc96\",\"pattern\":{\"shape\":\"\"}},\"name\":\"Wayfair\",\"offsetgroup\":\"Wayfair\",\"orientation\":\"v\",\"showlegend\":true,\"textposition\":\"auto\",\"x\":[\"Wayfair\",\"Wayfair\"],\"xaxis\":\"x\",\"y\":[8.399999999999999,10.8],\"yaxis\":\"y\",\"type\":\"bar\"},{\"alignmentgroup\":\"True\",\"hovertemplate\":\"Company=%{x}<br>value=%{y}<extra></extra>\",\"legendgroup\":\"Centene\",\"marker\":{\"color\":\"#ab63fa\",\"pattern\":{\"shape\":\"\"}},\"name\":\"Centene\",\"offsetgroup\":\"Centene\",\"orientation\":\"v\",\"showlegend\":true,\"textposition\":\"auto\",\"x\":[\"Centene\",\"Centene\"],\"xaxis\":\"x\",\"y\":[25.999999999999996,10.8],\"yaxis\":\"y\",\"type\":\"bar\"},{\"alignmentgroup\":\"True\",\"hovertemplate\":\"Company=%{x}<br>value=%{y}<extra></extra>\",\"legendgroup\":\"Lowe's\",\"marker\":{\"color\":\"#FFA15A\",\"pattern\":{\"shape\":\"\"}},\"name\":\"Lowe's\",\"offsetgroup\":\"Lowe's\",\"orientation\":\"v\",\"showlegend\":true,\"textposition\":\"auto\",\"x\":[\"Lowe's\",\"Lowe's\"],\"xaxis\":\"x\",\"y\":[91.80000000000001,10.6],\"yaxis\":\"y\",\"type\":\"bar\"},{\"alignmentgroup\":\"True\",\"hovertemplate\":\"Company=%{x}<br>value=%{y}<extra></extra>\",\"legendgroup\":\"Herm\\u00e8s International\",\"marker\":{\"color\":\"#19d3f3\",\"pattern\":{\"shape\":\"\"}},\"name\":\"Herm\\u00e8s International\",\"offsetgroup\":\"Herm\\u00e8s International\",\"orientation\":\"v\",\"showlegend\":true,\"textposition\":\"auto\",\"x\":[\"Herm\\u00e8s International\",\"Herm\\u00e8s International\"],\"xaxis\":\"x\",\"y\":[77.60000000000001,10.6],\"yaxis\":\"y\",\"type\":\"bar\"},{\"alignmentgroup\":\"True\",\"hovertemplate\":\"Company=%{x}<br>value=%{y}<extra></extra>\",\"legendgroup\":\"Spotify\",\"marker\":{\"color\":\"#FF6692\",\"pattern\":{\"shape\":\"\"}},\"name\":\"Spotify\",\"offsetgroup\":\"Spotify\",\"orientation\":\"v\",\"showlegend\":true,\"textposition\":\"auto\",\"x\":[\"Spotify\",\"Spotify\"],\"xaxis\":\"x\",\"y\":[26.800000000000004,10.4],\"yaxis\":\"y\",\"type\":\"bar\"},{\"alignmentgroup\":\"True\",\"hovertemplate\":\"Company=%{x}<br>value=%{y}<extra></extra>\",\"legendgroup\":\"Hansoh Pharmaceutical\",\"marker\":{\"color\":\"#B6E880\",\"pattern\":{\"shape\":\"\"}},\"name\":\"Hansoh Pharmaceutical\",\"offsetgroup\":\"Hansoh Pharmaceutical\",\"orientation\":\"v\",\"showlegend\":true,\"textposition\":\"auto\",\"x\":[\"Hansoh Pharmaceutical\",\"Hansoh Pharmaceutical\"],\"xaxis\":\"x\",\"y\":[19.3,10.3],\"yaxis\":\"y\",\"type\":\"bar\"},{\"alignmentgroup\":\"True\",\"hovertemplate\":\"Company=%{x}<br>value=%{y}<extra></extra>\",\"legendgroup\":\"Gilead Sciences\",\"marker\":{\"color\":\"#FF97FF\",\"pattern\":{\"shape\":\"\"}},\"name\":\"Gilead Sciences\",\"offsetgroup\":\"Gilead Sciences\",\"orientation\":\"v\",\"showlegend\":true,\"textposition\":\"auto\",\"x\":[\"Gilead Sciences\",\"Gilead Sciences\"],\"xaxis\":\"x\",\"y\":[82.2,10.3],\"yaxis\":\"y\",\"type\":\"bar\"},{\"alignmentgroup\":\"True\",\"hovertemplate\":\"Company=%{x}<br>value=%{y}<extra></extra>\",\"legendgroup\":\"Okta\",\"marker\":{\"color\":\"#FECB52\",\"pattern\":{\"shape\":\"\"}},\"name\":\"Okta\",\"offsetgroup\":\"Okta\",\"orientation\":\"v\",\"showlegend\":true,\"textposition\":\"auto\",\"x\":[\"Okta\",\"Okta\"],\"xaxis\":\"x\",\"y\":[14.0,10.2],\"yaxis\":\"y\",\"type\":\"bar\"},{\"alignmentgroup\":\"True\",\"hovertemplate\":\"Company=%{x}<br>value=%{y}<extra></extra>\",\"legendgroup\":\"Barrick Gold\",\"marker\":{\"color\":\"#636efa\",\"pattern\":{\"shape\":\"\"}},\"name\":\"Barrick Gold\",\"offsetgroup\":\"Barrick Gold\",\"orientation\":\"v\",\"showlegend\":true,\"textposition\":\"auto\",\"x\":[\"Barrick Gold\",\"Barrick Gold\"],\"xaxis\":\"x\",\"y\":[33.0,10.1],\"yaxis\":\"y\",\"type\":\"bar\"},{\"alignmentgroup\":\"True\",\"hovertemplate\":\"Company=%{x}<br>value=%{y}<extra></extra>\",\"legendgroup\":\"Chongqing Zhifei Biological\",\"marker\":{\"color\":\"#EF553B\",\"pattern\":{\"shape\":\"\"}},\"name\":\"Chongqing Zhifei Biological\",\"offsetgroup\":\"Chongqing Zhifei Biological\",\"orientation\":\"v\",\"showlegend\":true,\"textposition\":\"auto\",\"x\":[\"Chongqing Zhifei Biological\",\"Chongqing Zhifei Biological\"],\"xaxis\":\"x\",\"y\":[11.4,10.1],\"yaxis\":\"y\",\"type\":\"bar\"},{\"alignmentgroup\":\"True\",\"hovertemplate\":\"Company=%{x}<br>value=%{y}<extra></extra>\",\"legendgroup\":\"China Tourism Group Duty Free\",\"marker\":{\"color\":\"#00cc96\",\"pattern\":{\"shape\":\"\"}},\"name\":\"China Tourism Group Duty Free\",\"offsetgroup\":\"China Tourism Group Duty Free\",\"orientation\":\"v\",\"showlegend\":true,\"textposition\":\"auto\",\"x\":[\"China Tourism Group Duty Free\",\"China Tourism Group Duty Free\"],\"xaxis\":\"x\",\"y\":[24.9,9.5],\"yaxis\":\"y\",\"type\":\"bar\"},{\"alignmentgroup\":\"True\",\"hovertemplate\":\"Company=%{x}<br>value=%{y}<extra></extra>\",\"legendgroup\":\"RingCentral\",\"marker\":{\"color\":\"#ab63fa\",\"pattern\":{\"shape\":\"\"}},\"name\":\"RingCentral\",\"offsetgroup\":\"RingCentral\",\"orientation\":\"v\",\"showlegend\":true,\"textposition\":\"auto\",\"x\":[\"RingCentral\",\"RingCentral\"],\"xaxis\":\"x\",\"y\":[14.6,9.4],\"yaxis\":\"y\",\"type\":\"bar\"},{\"alignmentgroup\":\"True\",\"hovertemplate\":\"Company=%{x}<br>value=%{y}<extra></extra>\",\"legendgroup\":\"Lululemon Athletica\",\"marker\":{\"color\":\"#FFA15A\",\"pattern\":{\"shape\":\"\"}},\"name\":\"Lululemon Athletica\",\"offsetgroup\":\"Lululemon Athletica\",\"orientation\":\"v\",\"showlegend\":true,\"textposition\":\"auto\",\"x\":[\"Lululemon Athletica\",\"Lululemon Athletica\"],\"xaxis\":\"x\",\"y\":[30.1,9.4],\"yaxis\":\"y\",\"type\":\"bar\"},{\"alignmentgroup\":\"True\",\"hovertemplate\":\"Company=%{x}<br>value=%{y}<extra></extra>\",\"legendgroup\":\"LG Chem\",\"marker\":{\"color\":\"#19d3f3\",\"pattern\":{\"shape\":\"\"}},\"name\":\"LG Chem\",\"offsetgroup\":\"LG Chem\",\"orientation\":\"v\",\"showlegend\":true,\"textposition\":\"auto\",\"x\":[\"LG Chem\",\"LG Chem\"],\"xaxis\":\"x\",\"y\":[20.1,9.4],\"yaxis\":\"y\",\"type\":\"bar\"},{\"alignmentgroup\":\"True\",\"hovertemplate\":\"Company=%{x}<br>value=%{y}<extra></extra>\",\"legendgroup\":\"TAL Education\",\"marker\":{\"color\":\"#FF6692\",\"pattern\":{\"shape\":\"\"}},\"name\":\"TAL Education\",\"offsetgroup\":\"TAL Education\",\"orientation\":\"v\",\"showlegend\":true,\"textposition\":\"auto\",\"x\":[\"TAL Education\",\"TAL Education\"],\"xaxis\":\"x\",\"y\":[28.6,9.4],\"yaxis\":\"y\",\"type\":\"bar\"},{\"alignmentgroup\":\"True\",\"hovertemplate\":\"Company=%{x}<br>value=%{y}<extra></extra>\",\"legendgroup\":\"Muyuan Foods\",\"marker\":{\"color\":\"#B6E880\",\"pattern\":{\"shape\":\"\"}},\"name\":\"Muyuan Foods\",\"offsetgroup\":\"Muyuan Foods\",\"orientation\":\"v\",\"showlegend\":true,\"textposition\":\"auto\",\"x\":[\"Muyuan Foods\",\"Muyuan Foods\"],\"xaxis\":\"x\",\"y\":[27.6,9.4],\"yaxis\":\"y\",\"type\":\"bar\"},{\"alignmentgroup\":\"True\",\"hovertemplate\":\"Company=%{x}<br>value=%{y}<extra></extra>\",\"legendgroup\":\"Reliance Industries\",\"marker\":{\"color\":\"#FF97FF\",\"pattern\":{\"shape\":\"\"}},\"name\":\"Reliance Industries\",\"offsetgroup\":\"Reliance Industries\",\"orientation\":\"v\",\"showlegend\":true,\"textposition\":\"auto\",\"x\":[\"Reliance Industries\",\"Reliance Industries\"],\"xaxis\":\"x\",\"y\":[125.5,9.0],\"yaxis\":\"y\",\"type\":\"bar\"},{\"alignmentgroup\":\"True\",\"hovertemplate\":\"Company=%{x}<br>value=%{y}<extra></extra>\",\"legendgroup\":\"Offcn Education Technology\",\"marker\":{\"color\":\"#FECB52\",\"pattern\":{\"shape\":\"\"}},\"name\":\"Offcn Education Technology\",\"offsetgroup\":\"Offcn Education Technology\",\"orientation\":\"v\",\"showlegend\":true,\"textposition\":\"auto\",\"x\":[\"Offcn Education Technology\",\"Offcn Education Technology\"],\"xaxis\":\"x\",\"y\":[15.899999999999999,9.0],\"yaxis\":\"y\",\"type\":\"bar\"},{\"alignmentgroup\":\"True\",\"hovertemplate\":\"Company=%{x}<br>value=%{y}<extra></extra>\",\"legendgroup\":\"Newmont\",\"marker\":{\"color\":\"#636efa\",\"pattern\":{\"shape\":\"\"}},\"name\":\"Newmont\",\"offsetgroup\":\"Newmont\",\"orientation\":\"v\",\"showlegend\":true,\"textposition\":\"auto\",\"x\":[\"Newmont\",\"Newmont\"],\"xaxis\":\"x\",\"y\":[35.6,9.0],\"yaxis\":\"y\",\"type\":\"bar\"},{\"alignmentgroup\":\"True\",\"hovertemplate\":\"Company=%{x}<br>value=%{y}<extra></extra>\",\"legendgroup\":\"Just Eat Takeaway\",\"marker\":{\"color\":\"#EF553B\",\"pattern\":{\"shape\":\"\"}},\"name\":\"Just Eat Takeaway\",\"offsetgroup\":\"Just Eat Takeaway\",\"orientation\":\"v\",\"showlegend\":true,\"textposition\":\"auto\",\"x\":[\"Just Eat Takeaway\",\"Just Eat Takeaway\"],\"xaxis\":\"x\",\"y\":[5.6,9.0],\"yaxis\":\"y\",\"type\":\"bar\"},{\"alignmentgroup\":\"True\",\"hovertemplate\":\"Company=%{x}<br>value=%{y}<extra></extra>\",\"legendgroup\":\"Unilever\",\"marker\":{\"color\":\"#00cc96\",\"pattern\":{\"shape\":\"\"}},\"name\":\"Unilever\",\"offsetgroup\":\"Unilever\",\"orientation\":\"v\",\"showlegend\":true,\"textposition\":\"auto\",\"x\":[\"Unilever\",\"Unilever\"],\"xaxis\":\"x\",\"y\":[137.2,9.0],\"yaxis\":\"y\",\"type\":\"bar\"},{\"alignmentgroup\":\"True\",\"hovertemplate\":\"Company=%{x}<br>value=%{y}<extra></extra>\",\"legendgroup\":\"AstraZeneca\",\"marker\":{\"color\":\"#ab63fa\",\"pattern\":{\"shape\":\"\"}},\"name\":\"AstraZeneca\",\"offsetgroup\":\"AstraZeneca\",\"orientation\":\"v\",\"showlegend\":true,\"textposition\":\"auto\",\"x\":[\"AstraZeneca\",\"AstraZeneca\"],\"xaxis\":\"x\",\"y\":[132.39999999999998,8.8],\"yaxis\":\"y\",\"type\":\"bar\"},{\"alignmentgroup\":\"True\",\"hovertemplate\":\"Company=%{x}<br>value=%{y}<extra></extra>\",\"legendgroup\":\"L'Or\\u00e9al\",\"marker\":{\"color\":\"#FFA15A\",\"pattern\":{\"shape\":\"\"}},\"name\":\"L'Or\\u00e9al\",\"offsetgroup\":\"L'Or\\u00e9al\",\"orientation\":\"v\",\"showlegend\":true,\"textposition\":\"auto\",\"x\":[\"L'Or\\u00e9al\",\"L'Or\\u00e9al\"],\"xaxis\":\"x\",\"y\":[164.6,8.8],\"yaxis\":\"y\",\"type\":\"bar\"},{\"alignmentgroup\":\"True\",\"hovertemplate\":\"Company=%{x}<br>value=%{y}<extra></extra>\",\"legendgroup\":\"Snap\",\"marker\":{\"color\":\"#19d3f3\",\"pattern\":{\"shape\":\"\"}},\"name\":\"Snap\",\"offsetgroup\":\"Snap\",\"orientation\":\"v\",\"showlegend\":true,\"textposition\":\"auto\",\"x\":[\"Snap\",\"Snap\"],\"xaxis\":\"x\",\"y\":[22.8,8.7],\"yaxis\":\"y\",\"type\":\"bar\"},{\"alignmentgroup\":\"True\",\"hovertemplate\":\"Company=%{x}<br>value=%{y}<extra></extra>\",\"legendgroup\":\"Changchun High & New Technology Industry\",\"marker\":{\"color\":\"#FF6692\",\"pattern\":{\"shape\":\"\"}},\"name\":\"Changchun High & New Technology Industry\",\"offsetgroup\":\"Changchun High & New Technology Industry\",\"orientation\":\"v\",\"showlegend\":true,\"textposition\":\"auto\",\"x\":[\"Changchun High & New Technology Industry\",\"Changchun High & New Technology Industry\"],\"xaxis\":\"x\",\"y\":[13.0,8.5],\"yaxis\":\"y\",\"type\":\"bar\"},{\"alignmentgroup\":\"True\",\"hovertemplate\":\"Company=%{x}<br>value=%{y}<extra></extra>\",\"legendgroup\":\"Chewy\",\"marker\":{\"color\":\"#B6E880\",\"pattern\":{\"shape\":\"\"}},\"name\":\"Chewy\",\"offsetgroup\":\"Chewy\",\"orientation\":\"v\",\"showlegend\":true,\"textposition\":\"auto\",\"x\":[\"Chewy\",\"Chewy\"],\"xaxis\":\"x\",\"y\":[11.599999999999998,8.3],\"yaxis\":\"y\",\"type\":\"bar\"},{\"alignmentgroup\":\"True\",\"hovertemplate\":\"Company=%{x}<br>value=%{y}<extra></extra>\",\"legendgroup\":\"GSX Techedu\",\"marker\":{\"color\":\"#FF97FF\",\"pattern\":{\"shape\":\"\"}},\"name\":\"GSX Techedu\",\"offsetgroup\":\"GSX Techedu\",\"orientation\":\"v\",\"showlegend\":true,\"textposition\":\"auto\",\"x\":[\"GSX Techedu\",\"GSX Techedu\"],\"xaxis\":\"x\",\"y\":[5.200000000000001,8.2],\"yaxis\":\"y\",\"type\":\"bar\"},{\"alignmentgroup\":\"True\",\"hovertemplate\":\"Company=%{x}<br>value=%{y}<extra></extra>\",\"legendgroup\":\"Teladoc Health\",\"marker\":{\"color\":\"#FECB52\",\"pattern\":{\"shape\":\"\"}},\"name\":\"Teladoc Health\",\"offsetgroup\":\"Teladoc Health\",\"orientation\":\"v\",\"showlegend\":true,\"textposition\":\"auto\",\"x\":[\"Teladoc Health\",\"Teladoc Health\"],\"xaxis\":\"x\",\"y\":[6.100000000000001,8.2],\"yaxis\":\"y\",\"type\":\"bar\"}],                        {\"template\":{\"data\":{\"bar\":[{\"error_x\":{\"color\":\"#2a3f5f\"},\"error_y\":{\"color\":\"#2a3f5f\"},\"marker\":{\"line\":{\"color\":\"#E5ECF6\",\"width\":0.5},\"pattern\":{\"fillmode\":\"overlay\",\"size\":10,\"solidity\":0.2}},\"type\":\"bar\"}],\"barpolar\":[{\"marker\":{\"line\":{\"color\":\"#E5ECF6\",\"width\":0.5},\"pattern\":{\"fillmode\":\"overlay\",\"size\":10,\"solidity\":0.2}},\"type\":\"barpolar\"}],\"carpet\":[{\"aaxis\":{\"endlinecolor\":\"#2a3f5f\",\"gridcolor\":\"white\",\"linecolor\":\"white\",\"minorgridcolor\":\"white\",\"startlinecolor\":\"#2a3f5f\"},\"baxis\":{\"endlinecolor\":\"#2a3f5f\",\"gridcolor\":\"white\",\"linecolor\":\"white\",\"minorgridcolor\":\"white\",\"startlinecolor\":\"#2a3f5f\"},\"type\":\"carpet\"}],\"choropleth\":[{\"colorbar\":{\"outlinewidth\":0,\"ticks\":\"\"},\"type\":\"choropleth\"}],\"contour\":[{\"colorbar\":{\"outlinewidth\":0,\"ticks\":\"\"},\"colorscale\":[[0.0,\"#0d0887\"],[0.1111111111111111,\"#46039f\"],[0.2222222222222222,\"#7201a8\"],[0.3333333333333333,\"#9c179e\"],[0.4444444444444444,\"#bd3786\"],[0.5555555555555556,\"#d8576b\"],[0.6666666666666666,\"#ed7953\"],[0.7777777777777778,\"#fb9f3a\"],[0.8888888888888888,\"#fdca26\"],[1.0,\"#f0f921\"]],\"type\":\"contour\"}],\"contourcarpet\":[{\"colorbar\":{\"outlinewidth\":0,\"ticks\":\"\"},\"type\":\"contourcarpet\"}],\"heatmap\":[{\"colorbar\":{\"outlinewidth\":0,\"ticks\":\"\"},\"colorscale\":[[0.0,\"#0d0887\"],[0.1111111111111111,\"#46039f\"],[0.2222222222222222,\"#7201a8\"],[0.3333333333333333,\"#9c179e\"],[0.4444444444444444,\"#bd3786\"],[0.5555555555555556,\"#d8576b\"],[0.6666666666666666,\"#ed7953\"],[0.7777777777777778,\"#fb9f3a\"],[0.8888888888888888,\"#fdca26\"],[1.0,\"#f0f921\"]],\"type\":\"heatmap\"}],\"heatmapgl\":[{\"colorbar\":{\"outlinewidth\":0,\"ticks\":\"\"},\"colorscale\":[[0.0,\"#0d0887\"],[0.1111111111111111,\"#46039f\"],[0.2222222222222222,\"#7201a8\"],[0.3333333333333333,\"#9c179e\"],[0.4444444444444444,\"#bd3786\"],[0.5555555555555556,\"#d8576b\"],[0.6666666666666666,\"#ed7953\"],[0.7777777777777778,\"#fb9f3a\"],[0.8888888888888888,\"#fdca26\"],[1.0,\"#f0f921\"]],\"type\":\"heatmapgl\"}],\"histogram\":[{\"marker\":{\"pattern\":{\"fillmode\":\"overlay\",\"size\":10,\"solidity\":0.2}},\"type\":\"histogram\"}],\"histogram2d\":[{\"colorbar\":{\"outlinewidth\":0,\"ticks\":\"\"},\"colorscale\":[[0.0,\"#0d0887\"],[0.1111111111111111,\"#46039f\"],[0.2222222222222222,\"#7201a8\"],[0.3333333333333333,\"#9c179e\"],[0.4444444444444444,\"#bd3786\"],[0.5555555555555556,\"#d8576b\"],[0.6666666666666666,\"#ed7953\"],[0.7777777777777778,\"#fb9f3a\"],[0.8888888888888888,\"#fdca26\"],[1.0,\"#f0f921\"]],\"type\":\"histogram2d\"}],\"histogram2dcontour\":[{\"colorbar\":{\"outlinewidth\":0,\"ticks\":\"\"},\"colorscale\":[[0.0,\"#0d0887\"],[0.1111111111111111,\"#46039f\"],[0.2222222222222222,\"#7201a8\"],[0.3333333333333333,\"#9c179e\"],[0.4444444444444444,\"#bd3786\"],[0.5555555555555556,\"#d8576b\"],[0.6666666666666666,\"#ed7953\"],[0.7777777777777778,\"#fb9f3a\"],[0.8888888888888888,\"#fdca26\"],[1.0,\"#f0f921\"]],\"type\":\"histogram2dcontour\"}],\"mesh3d\":[{\"colorbar\":{\"outlinewidth\":0,\"ticks\":\"\"},\"type\":\"mesh3d\"}],\"parcoords\":[{\"line\":{\"colorbar\":{\"outlinewidth\":0,\"ticks\":\"\"}},\"type\":\"parcoords\"}],\"pie\":[{\"automargin\":true,\"type\":\"pie\"}],\"scatter\":[{\"marker\":{\"colorbar\":{\"outlinewidth\":0,\"ticks\":\"\"}},\"type\":\"scatter\"}],\"scatter3d\":[{\"line\":{\"colorbar\":{\"outlinewidth\":0,\"ticks\":\"\"}},\"marker\":{\"colorbar\":{\"outlinewidth\":0,\"ticks\":\"\"}},\"type\":\"scatter3d\"}],\"scattercarpet\":[{\"marker\":{\"colorbar\":{\"outlinewidth\":0,\"ticks\":\"\"}},\"type\":\"scattercarpet\"}],\"scattergeo\":[{\"marker\":{\"colorbar\":{\"outlinewidth\":0,\"ticks\":\"\"}},\"type\":\"scattergeo\"}],\"scattergl\":[{\"marker\":{\"colorbar\":{\"outlinewidth\":0,\"ticks\":\"\"}},\"type\":\"scattergl\"}],\"scattermapbox\":[{\"marker\":{\"colorbar\":{\"outlinewidth\":0,\"ticks\":\"\"}},\"type\":\"scattermapbox\"}],\"scatterpolar\":[{\"marker\":{\"colorbar\":{\"outlinewidth\":0,\"ticks\":\"\"}},\"type\":\"scatterpolar\"}],\"scatterpolargl\":[{\"marker\":{\"colorbar\":{\"outlinewidth\":0,\"ticks\":\"\"}},\"type\":\"scatterpolargl\"}],\"scatterternary\":[{\"marker\":{\"colorbar\":{\"outlinewidth\":0,\"ticks\":\"\"}},\"type\":\"scatterternary\"}],\"surface\":[{\"colorbar\":{\"outlinewidth\":0,\"ticks\":\"\"},\"colorscale\":[[0.0,\"#0d0887\"],[0.1111111111111111,\"#46039f\"],[0.2222222222222222,\"#7201a8\"],[0.3333333333333333,\"#9c179e\"],[0.4444444444444444,\"#bd3786\"],[0.5555555555555556,\"#d8576b\"],[0.6666666666666666,\"#ed7953\"],[0.7777777777777778,\"#fb9f3a\"],[0.8888888888888888,\"#fdca26\"],[1.0,\"#f0f921\"]],\"type\":\"surface\"}],\"table\":[{\"cells\":{\"fill\":{\"color\":\"#EBF0F8\"},\"line\":{\"color\":\"white\"}},\"header\":{\"fill\":{\"color\":\"#C8D4E3\"},\"line\":{\"color\":\"white\"}},\"type\":\"table\"}]},\"layout\":{\"annotationdefaults\":{\"arrowcolor\":\"#2a3f5f\",\"arrowhead\":0,\"arrowwidth\":1},\"autotypenumbers\":\"strict\",\"coloraxis\":{\"colorbar\":{\"outlinewidth\":0,\"ticks\":\"\"}},\"colorscale\":{\"diverging\":[[0,\"#8e0152\"],[0.1,\"#c51b7d\"],[0.2,\"#de77ae\"],[0.3,\"#f1b6da\"],[0.4,\"#fde0ef\"],[0.5,\"#f7f7f7\"],[0.6,\"#e6f5d0\"],[0.7,\"#b8e186\"],[0.8,\"#7fbc41\"],[0.9,\"#4d9221\"],[1,\"#276419\"]],\"sequential\":[[0.0,\"#0d0887\"],[0.1111111111111111,\"#46039f\"],[0.2222222222222222,\"#7201a8\"],[0.3333333333333333,\"#9c179e\"],[0.4444444444444444,\"#bd3786\"],[0.5555555555555556,\"#d8576b\"],[0.6666666666666666,\"#ed7953\"],[0.7777777777777778,\"#fb9f3a\"],[0.8888888888888888,\"#fdca26\"],[1.0,\"#f0f921\"]],\"sequentialminus\":[[0.0,\"#0d0887\"],[0.1111111111111111,\"#46039f\"],[0.2222222222222222,\"#7201a8\"],[0.3333333333333333,\"#9c179e\"],[0.4444444444444444,\"#bd3786\"],[0.5555555555555556,\"#d8576b\"],[0.6666666666666666,\"#ed7953\"],[0.7777777777777778,\"#fb9f3a\"],[0.8888888888888888,\"#fdca26\"],[1.0,\"#f0f921\"]]},\"colorway\":[\"#636efa\",\"#EF553B\",\"#00cc96\",\"#ab63fa\",\"#FFA15A\",\"#19d3f3\",\"#FF6692\",\"#B6E880\",\"#FF97FF\",\"#FECB52\"],\"font\":{\"color\":\"#2a3f5f\"},\"geo\":{\"bgcolor\":\"white\",\"lakecolor\":\"white\",\"landcolor\":\"#E5ECF6\",\"showlakes\":true,\"showland\":true,\"subunitcolor\":\"white\"},\"hoverlabel\":{\"align\":\"left\"},\"hovermode\":\"closest\",\"mapbox\":{\"style\":\"light\"},\"paper_bgcolor\":\"white\",\"plot_bgcolor\":\"#E5ECF6\",\"polar\":{\"angularaxis\":{\"gridcolor\":\"white\",\"linecolor\":\"white\",\"ticks\":\"\"},\"bgcolor\":\"#E5ECF6\",\"radialaxis\":{\"gridcolor\":\"white\",\"linecolor\":\"white\",\"ticks\":\"\"}},\"scene\":{\"xaxis\":{\"backgroundcolor\":\"#E5ECF6\",\"gridcolor\":\"white\",\"gridwidth\":2,\"linecolor\":\"white\",\"showbackground\":true,\"ticks\":\"\",\"zerolinecolor\":\"white\"},\"yaxis\":{\"backgroundcolor\":\"#E5ECF6\",\"gridcolor\":\"white\",\"gridwidth\":2,\"linecolor\":\"white\",\"showbackground\":true,\"ticks\":\"\",\"zerolinecolor\":\"white\"},\"zaxis\":{\"backgroundcolor\":\"#E5ECF6\",\"gridcolor\":\"white\",\"gridwidth\":2,\"linecolor\":\"white\",\"showbackground\":true,\"ticks\":\"\",\"zerolinecolor\":\"white\"}},\"shapedefaults\":{\"line\":{\"color\":\"#2a3f5f\"}},\"ternary\":{\"aaxis\":{\"gridcolor\":\"white\",\"linecolor\":\"white\",\"ticks\":\"\"},\"baxis\":{\"gridcolor\":\"white\",\"linecolor\":\"white\",\"ticks\":\"\"},\"bgcolor\":\"#E5ECF6\",\"caxis\":{\"gridcolor\":\"white\",\"linecolor\":\"white\",\"ticks\":\"\"}},\"title\":{\"x\":0.05},\"xaxis\":{\"automargin\":true,\"gridcolor\":\"white\",\"linecolor\":\"white\",\"ticks\":\"\",\"title\":{\"standoff\":15},\"zerolinecolor\":\"white\",\"zerolinewidth\":2},\"yaxis\":{\"automargin\":true,\"gridcolor\":\"white\",\"linecolor\":\"white\",\"ticks\":\"\",\"title\":{\"standoff\":15},\"zerolinecolor\":\"white\",\"zerolinewidth\":2}}},\"xaxis\":{\"anchor\":\"y\",\"domain\":[0.0,1.0],\"title\":{\"text\":\"Company\"},\"categoryorder\":\"array\",\"categoryarray\":[\"Amazon\",\"Microsoft\",\"Apple\",\"Tesla\",\"Tencent\",\"Facebook\",\"Nvidia\",\"Alphabet\",\"PayPal\",\"T-Mobile US\",\"Pinduoduo\",\"Netflix\",\"Meituan Dianping\",\"Shopify\",\"Zoom Video\",\"JD.com\",\"Adobe\",\"Audi\",\"AbbVie\",\"Kweichow Moutai\",\"Chugai Pharmaceutical\",\"Alibaba\",\"Sea Group\",\"Home Depot\",\"ASML\",\"Roche\",\"Prosus\",\"ServiceNow\",\"Regeneron Pharmaceuticals\",\"Alibaba Health Information Technology\",\"Samsung Biologics\",\"Novo Nordisk\",\"Salesforce\",\"Adyen\",\"Eli Lilly\",\"Moderna\",\"MercadoLibre\",\"Dexcom\",\"NetEase\",\"Shenzhen Mindray Bio-Medical Electronics\",\"DocuSign\",\"Vertex Pharmaceuticals\",\"Twilio\",\"Square\",\"Contemporary Amperex Technology\",\"American Tower\",\"Prologis\",\"Keyence\",\"Luxshare Precision\",\"Nestl\\u00e9\",\"Atlassian\",\"Danaher\",\"Digital Realty Trust\",\"Datadog\",\"Veeva Systems\",\"International Holdings\",\"Activision Blizzard\",\"Equinix\",\"S&P Global\",\"Advanced Micro Devices\",\"Autodesk\",\"Lonza\",\"Flutter Entertainment\",\"Crown Castle International\",\"Jiangsu Hengrui Medicine\",\"Foshan Haitian Flavouring and Food\",\"Wuliangye Yibin\",\"Daiichi Sankyo\",\"CrowdStrike\",\"SF Holding\",\"ZTO Express\",\"Celltrion\",\"Wayfair\",\"Centene\",\"Lowe's\",\"Herm\\u00e8s International\",\"Spotify\",\"Hansoh Pharmaceutical\",\"Gilead Sciences\",\"Okta\",\"Barrick Gold\",\"Chongqing Zhifei Biological\",\"China Tourism Group Duty Free\",\"RingCentral\",\"Lululemon Athletica\",\"LG Chem\",\"TAL Education\",\"Muyuan Foods\",\"Reliance Industries\",\"Offcn Education Technology\",\"Newmont\",\"Just Eat Takeaway\",\"Unilever\",\"AstraZeneca\",\"L'Or\\u00e9al\",\"Snap\",\"Changchun High & New Technology Industry\",\"Chewy\",\"GSX Techedu\",\"Teladoc Health\"]},\"yaxis\":{\"anchor\":\"x\",\"domain\":[0.0,1.0],\"title\":{\"text\":\"value\"}},\"legend\":{\"title\":{\"text\":\"Company\"},\"tracegroupgap\":0},\"margin\":{\"t\":60},\"barmode\":\"relative\",\"height\":600},                        {\"responsive\": true}                    ).then(function(){\n",
              "                            \n",
              "var gd = document.getElementById('c41fef75-c5cf-43f6-838c-07dd5c6ba9eb');\n",
              "var x = new MutationObserver(function (mutations, observer) {{\n",
              "        var display = window.getComputedStyle(gd).display;\n",
              "        if (!display || display === 'none') {{\n",
              "            console.log([gd, 'removed!']);\n",
              "            Plotly.purge(gd);\n",
              "            observer.disconnect();\n",
              "        }}\n",
              "}});\n",
              "\n",
              "// Listen for the removal of the full notebook cells\n",
              "var notebookContainer = gd.closest('#notebook-container');\n",
              "if (notebookContainer) {{\n",
              "    x.observe(notebookContainer, {childList: true});\n",
              "}}\n",
              "\n",
              "// Listen for the clearing of the current output cell\n",
              "var outputEl = gd.closest('.output');\n",
              "if (outputEl) {{\n",
              "    x.observe(outputEl, {childList: true});\n",
              "}}\n",
              "\n",
              "                        })                };                            </script>        </div>\n",
              "</body>\n",
              "</html>"
            ]
          },
          "metadata": {}
        }
      ],
      "source": [
        "df_marketCap_Prior_after = df.sort_values(by = 'Market cap added', ascending  = False)\n",
        "px.bar(df_marketCap_Prior_after, x='Company', y=['Market Cap Prior','Market cap added'],height=600,color='Company')\n"
      ]
    },
    {
      "cell_type": "markdown",
      "id": "62c045ef",
      "metadata": {
        "id": "62c045ef"
      },
      "source": [
        "#### Technology"
      ]
    },
    {
      "cell_type": "code",
      "execution_count": 23,
      "id": "c250776a",
      "metadata": {
        "colab": {
          "base_uri": "https://localhost:8080/",
          "height": 771
        },
        "id": "c250776a",
        "outputId": "b6c1d0fd-f78e-4008-a816-3dff3ef4c7fd"
      },
      "outputs": [
        {
          "output_type": "execute_result",
          "data": {
            "text/plain": [
              "                   Company      Sector  Market cap added\n",
              "1                Microsoft  Technology             269.9\n",
              "2                    Apple  Technology             219.1\n",
              "6                   Nvidia  Technology              83.3\n",
              "8                   PayPal  Technology              65.4\n",
              "13                 Shopify  Technology              51.5\n",
              "14              Zoom Video  Technology              48.0\n",
              "16                   Adobe  Technology              40.1\n",
              "24                    ASML  Technology              27.3\n",
              "27              ServiceNow  Technology              23.2\n",
              "32              Salesforce  Technology              19.2\n",
              "33                   Adyen  Technology              19.0\n",
              "40                DocuSign  Technology              16.4\n",
              "42                  Twilio  Technology              16.1\n",
              "43                  Square  Technology              15.7\n",
              "47                 Keyence  Technology              14.6\n",
              "48               Atlassian  Technology              14.2\n",
              "49      Luxshare Precision  Technology              14.2\n",
              "53                 Datadog  Technology              13.7\n",
              "59  Advanced Micro Devices  Technology              11.7\n",
              "60                Autodesk  Technology              11.6\n",
              "68             CrowdStrike  Technology              11.1\n",
              "79                    Okta  Technology              10.2\n",
              "85             RingCentral  Technology               9.4"
            ],
            "text/html": [
              "\n",
              "  <div id=\"df-87601108-0d05-46ea-bbcf-614668c783ff\">\n",
              "    <div class=\"colab-df-container\">\n",
              "      <div>\n",
              "<style scoped>\n",
              "    .dataframe tbody tr th:only-of-type {\n",
              "        vertical-align: middle;\n",
              "    }\n",
              "\n",
              "    .dataframe tbody tr th {\n",
              "        vertical-align: top;\n",
              "    }\n",
              "\n",
              "    .dataframe thead th {\n",
              "        text-align: right;\n",
              "    }\n",
              "</style>\n",
              "<table border=\"1\" class=\"dataframe\">\n",
              "  <thead>\n",
              "    <tr style=\"text-align: right;\">\n",
              "      <th></th>\n",
              "      <th>Company</th>\n",
              "      <th>Sector</th>\n",
              "      <th>Market cap added</th>\n",
              "    </tr>\n",
              "  </thead>\n",
              "  <tbody>\n",
              "    <tr>\n",
              "      <th>1</th>\n",
              "      <td>Microsoft</td>\n",
              "      <td>Technology</td>\n",
              "      <td>269.9</td>\n",
              "    </tr>\n",
              "    <tr>\n",
              "      <th>2</th>\n",
              "      <td>Apple</td>\n",
              "      <td>Technology</td>\n",
              "      <td>219.1</td>\n",
              "    </tr>\n",
              "    <tr>\n",
              "      <th>6</th>\n",
              "      <td>Nvidia</td>\n",
              "      <td>Technology</td>\n",
              "      <td>83.3</td>\n",
              "    </tr>\n",
              "    <tr>\n",
              "      <th>8</th>\n",
              "      <td>PayPal</td>\n",
              "      <td>Technology</td>\n",
              "      <td>65.4</td>\n",
              "    </tr>\n",
              "    <tr>\n",
              "      <th>13</th>\n",
              "      <td>Shopify</td>\n",
              "      <td>Technology</td>\n",
              "      <td>51.5</td>\n",
              "    </tr>\n",
              "    <tr>\n",
              "      <th>14</th>\n",
              "      <td>Zoom Video</td>\n",
              "      <td>Technology</td>\n",
              "      <td>48.0</td>\n",
              "    </tr>\n",
              "    <tr>\n",
              "      <th>16</th>\n",
              "      <td>Adobe</td>\n",
              "      <td>Technology</td>\n",
              "      <td>40.1</td>\n",
              "    </tr>\n",
              "    <tr>\n",
              "      <th>24</th>\n",
              "      <td>ASML</td>\n",
              "      <td>Technology</td>\n",
              "      <td>27.3</td>\n",
              "    </tr>\n",
              "    <tr>\n",
              "      <th>27</th>\n",
              "      <td>ServiceNow</td>\n",
              "      <td>Technology</td>\n",
              "      <td>23.2</td>\n",
              "    </tr>\n",
              "    <tr>\n",
              "      <th>32</th>\n",
              "      <td>Salesforce</td>\n",
              "      <td>Technology</td>\n",
              "      <td>19.2</td>\n",
              "    </tr>\n",
              "    <tr>\n",
              "      <th>33</th>\n",
              "      <td>Adyen</td>\n",
              "      <td>Technology</td>\n",
              "      <td>19.0</td>\n",
              "    </tr>\n",
              "    <tr>\n",
              "      <th>40</th>\n",
              "      <td>DocuSign</td>\n",
              "      <td>Technology</td>\n",
              "      <td>16.4</td>\n",
              "    </tr>\n",
              "    <tr>\n",
              "      <th>42</th>\n",
              "      <td>Twilio</td>\n",
              "      <td>Technology</td>\n",
              "      <td>16.1</td>\n",
              "    </tr>\n",
              "    <tr>\n",
              "      <th>43</th>\n",
              "      <td>Square</td>\n",
              "      <td>Technology</td>\n",
              "      <td>15.7</td>\n",
              "    </tr>\n",
              "    <tr>\n",
              "      <th>47</th>\n",
              "      <td>Keyence</td>\n",
              "      <td>Technology</td>\n",
              "      <td>14.6</td>\n",
              "    </tr>\n",
              "    <tr>\n",
              "      <th>48</th>\n",
              "      <td>Atlassian</td>\n",
              "      <td>Technology</td>\n",
              "      <td>14.2</td>\n",
              "    </tr>\n",
              "    <tr>\n",
              "      <th>49</th>\n",
              "      <td>Luxshare Precision</td>\n",
              "      <td>Technology</td>\n",
              "      <td>14.2</td>\n",
              "    </tr>\n",
              "    <tr>\n",
              "      <th>53</th>\n",
              "      <td>Datadog</td>\n",
              "      <td>Technology</td>\n",
              "      <td>13.7</td>\n",
              "    </tr>\n",
              "    <tr>\n",
              "      <th>59</th>\n",
              "      <td>Advanced Micro Devices</td>\n",
              "      <td>Technology</td>\n",
              "      <td>11.7</td>\n",
              "    </tr>\n",
              "    <tr>\n",
              "      <th>60</th>\n",
              "      <td>Autodesk</td>\n",
              "      <td>Technology</td>\n",
              "      <td>11.6</td>\n",
              "    </tr>\n",
              "    <tr>\n",
              "      <th>68</th>\n",
              "      <td>CrowdStrike</td>\n",
              "      <td>Technology</td>\n",
              "      <td>11.1</td>\n",
              "    </tr>\n",
              "    <tr>\n",
              "      <th>79</th>\n",
              "      <td>Okta</td>\n",
              "      <td>Technology</td>\n",
              "      <td>10.2</td>\n",
              "    </tr>\n",
              "    <tr>\n",
              "      <th>85</th>\n",
              "      <td>RingCentral</td>\n",
              "      <td>Technology</td>\n",
              "      <td>9.4</td>\n",
              "    </tr>\n",
              "  </tbody>\n",
              "</table>\n",
              "</div>\n",
              "      <button class=\"colab-df-convert\" onclick=\"convertToInteractive('df-87601108-0d05-46ea-bbcf-614668c783ff')\"\n",
              "              title=\"Convert this dataframe to an interactive table.\"\n",
              "              style=\"display:none;\">\n",
              "        \n",
              "  <svg xmlns=\"http://www.w3.org/2000/svg\" height=\"24px\"viewBox=\"0 0 24 24\"\n",
              "       width=\"24px\">\n",
              "    <path d=\"M0 0h24v24H0V0z\" fill=\"none\"/>\n",
              "    <path d=\"M18.56 5.44l.94 2.06.94-2.06 2.06-.94-2.06-.94-.94-2.06-.94 2.06-2.06.94zm-11 1L8.5 8.5l.94-2.06 2.06-.94-2.06-.94L8.5 2.5l-.94 2.06-2.06.94zm10 10l.94 2.06.94-2.06 2.06-.94-2.06-.94-.94-2.06-.94 2.06-2.06.94z\"/><path d=\"M17.41 7.96l-1.37-1.37c-.4-.4-.92-.59-1.43-.59-.52 0-1.04.2-1.43.59L10.3 9.45l-7.72 7.72c-.78.78-.78 2.05 0 2.83L4 21.41c.39.39.9.59 1.41.59.51 0 1.02-.2 1.41-.59l7.78-7.78 2.81-2.81c.8-.78.8-2.07 0-2.86zM5.41 20L4 18.59l7.72-7.72 1.47 1.35L5.41 20z\"/>\n",
              "  </svg>\n",
              "      </button>\n",
              "      \n",
              "  <style>\n",
              "    .colab-df-container {\n",
              "      display:flex;\n",
              "      flex-wrap:wrap;\n",
              "      gap: 12px;\n",
              "    }\n",
              "\n",
              "    .colab-df-convert {\n",
              "      background-color: #E8F0FE;\n",
              "      border: none;\n",
              "      border-radius: 50%;\n",
              "      cursor: pointer;\n",
              "      display: none;\n",
              "      fill: #1967D2;\n",
              "      height: 32px;\n",
              "      padding: 0 0 0 0;\n",
              "      width: 32px;\n",
              "    }\n",
              "\n",
              "    .colab-df-convert:hover {\n",
              "      background-color: #E2EBFA;\n",
              "      box-shadow: 0px 1px 2px rgba(60, 64, 67, 0.3), 0px 1px 3px 1px rgba(60, 64, 67, 0.15);\n",
              "      fill: #174EA6;\n",
              "    }\n",
              "\n",
              "    [theme=dark] .colab-df-convert {\n",
              "      background-color: #3B4455;\n",
              "      fill: #D2E3FC;\n",
              "    }\n",
              "\n",
              "    [theme=dark] .colab-df-convert:hover {\n",
              "      background-color: #434B5C;\n",
              "      box-shadow: 0px 1px 3px 1px rgba(0, 0, 0, 0.15);\n",
              "      filter: drop-shadow(0px 1px 2px rgba(0, 0, 0, 0.3));\n",
              "      fill: #FFFFFF;\n",
              "    }\n",
              "  </style>\n",
              "\n",
              "      <script>\n",
              "        const buttonEl =\n",
              "          document.querySelector('#df-87601108-0d05-46ea-bbcf-614668c783ff button.colab-df-convert');\n",
              "        buttonEl.style.display =\n",
              "          google.colab.kernel.accessAllowed ? 'block' : 'none';\n",
              "\n",
              "        async function convertToInteractive(key) {\n",
              "          const element = document.querySelector('#df-87601108-0d05-46ea-bbcf-614668c783ff');\n",
              "          const dataTable =\n",
              "            await google.colab.kernel.invokeFunction('convertToInteractive',\n",
              "                                                     [key], {});\n",
              "          if (!dataTable) return;\n",
              "\n",
              "          const docLinkHtml = 'Like what you see? Visit the ' +\n",
              "            '<a target=\"_blank\" href=https://colab.research.google.com/notebooks/data_table.ipynb>data table notebook</a>'\n",
              "            + ' to learn more about interactive tables.';\n",
              "          element.innerHTML = '';\n",
              "          dataTable['output_type'] = 'display_data';\n",
              "          await google.colab.output.renderOutput(dataTable, element);\n",
              "          const docLink = document.createElement('div');\n",
              "          docLink.innerHTML = docLinkHtml;\n",
              "          element.appendChild(docLink);\n",
              "        }\n",
              "      </script>\n",
              "    </div>\n",
              "  </div>\n",
              "  "
            ]
          },
          "metadata": {},
          "execution_count": 23
        }
      ],
      "source": [
        "df_tech = df[df['Sector'] == 'Technology'].sort_values(by = 'Market cap added', ascending  = False)\n",
        "df_tech[['Company','Sector','Market cap added']]"
      ]
    },
    {
      "cell_type": "code",
      "execution_count": 24,
      "id": "44b289b4",
      "metadata": {
        "colab": {
          "base_uri": "https://localhost:8080/",
          "height": 539
        },
        "id": "44b289b4",
        "outputId": "d1be753e-eea9-4137-c689-0b4773a04a87"
      },
      "outputs": [
        {
          "output_type": "execute_result",
          "data": {
            "text/plain": [
              "<matplotlib.axes._subplots.AxesSubplot at 0x7f80fbf6be50>"
            ]
          },
          "metadata": {},
          "execution_count": 24
        },
        {
          "output_type": "display_data",
          "data": {
            "text/plain": [
              "<Figure size 1152x648 with 1 Axes>"
            ],
            "image/png": "[encoded data removed]"
          },
          "metadata": {
            "needs_background": "light"
          }
        }
      ],
      "source": [
        "plt.figure(figsize = (16,9))\n",
        "sns.barplot(x = 'Company', y = 'Market cap added', data  = df_tech)"
      ]
    },
    {
      "cell_type": "markdown",
      "id": "8ade209e",
      "metadata": {
        "id": "8ade209e"
      },
      "source": [
        "Microsoft and Apples market capital rose more than double of every other company in this domain."
      ]
    },
    {
      "cell_type": "markdown",
      "id": "f0b634f8",
      "metadata": {
        "id": "f0b634f8"
      },
      "source": [
        "#### Consumer discretionary "
      ]
    },
    {
      "cell_type": "code",
      "execution_count": 25,
      "id": "a51e25a0",
      "metadata": {
        "scrolled": true,
        "colab": {
          "base_uri": "https://localhost:8080/",
          "height": 950
        },
        "id": "a51e25a0",
        "outputId": "3f3f903f-dde9-47db-c2f6-aa6962e15230"
      },
      "outputs": [
        {
          "output_type": "stream",
          "name": "stdout",
          "text": [
            "                          Company                  Sector  Market cap added\n",
            "0                          Amazon  Consumer discretionary             401.1\n",
            "3                           Tesla  Consumer discretionary             108.4\n",
            "10                      Pinduoduo  Consumer discretionary              55.2\n",
            "12               Meituan Dianping  Consumer discretionary              53.7\n",
            "15                         JD.com  Consumer discretionary              44.4\n",
            "17                           Audi  Consumer discretionary              37.8\n",
            "21                        Alibaba  Consumer discretionary              32.8\n",
            "23                     Home Depot  Consumer discretionary              31.6\n",
            "26                         Prosus  Consumer discretionary              24.7\n",
            "36                   MercadoLibre  Consumer discretionary              18.1\n",
            "64          Flutter Entertainment  Consumer discretionary              11.5\n",
            "72                        Wayfair  Consumer discretionary              10.8\n",
            "74           Hermès International  Consumer discretionary              10.6\n",
            "75                         Lowe's  Consumer discretionary              10.6\n",
            "82  China Tourism Group Duty Free  Consumer discretionary               9.5\n",
            "84                  TAL Education  Consumer discretionary               9.4\n",
            "86            Lululemon Athletica  Consumer discretionary               9.4\n",
            "89     Offcn Education Technology  Consumer discretionary               9.0\n",
            "91              Just Eat Takeaway  Consumer discretionary               9.0\n",
            "97                          Chewy  Consumer discretionary               8.3\n",
            "98                    GSX Techedu  Consumer discretionary               8.2 \n",
            "\n"
          ]
        },
        {
          "output_type": "execute_result",
          "data": {
            "text/plain": [
              "<matplotlib.axes._subplots.AxesSubplot at 0x7f80fcce7d30>"
            ]
          },
          "metadata": {},
          "execution_count": 25
        },
        {
          "output_type": "display_data",
          "data": {
            "text/plain": [
              "<Figure size 1152x648 with 1 Axes>"
            ],
            "image/png": "[encoded data removed]"
          },
          "metadata": {
            "needs_background": "light"
          }
        }
      ],
      "source": [
        "df_ConDis = df[df['Sector'] == 'Consumer discretionary'].sort_values(by = 'Market cap added', ascending  = False)\n",
        "print(df_ConDis[['Company','Sector','Market cap added']],'\\n')\n",
        "\n",
        "plt.figure(figsize = (16,9))\n",
        "sns.barplot(x = 'Company', y = 'Market cap added', data  = df_ConDis)"
      ]
    },
    {
      "cell_type": "markdown",
      "id": "d5208d3e",
      "metadata": {
        "id": "d5208d3e"
      },
      "source": [
        "Amaxon and Tesla benefitted the most in Consumer discretionary sector."
      ]
    },
    {
      "cell_type": "markdown",
      "id": "0d58c75c",
      "metadata": {
        "id": "0d58c75c"
      },
      "source": [
        "#### Communication services"
      ]
    },
    {
      "cell_type": "code",
      "execution_count": 26,
      "id": "3b7c52a3",
      "metadata": {
        "scrolled": true,
        "colab": {
          "base_uri": "https://localhost:8080/",
          "height": 363
        },
        "id": "3b7c52a3",
        "outputId": "3e51963a-87cb-42e6-ede9-3d663c58a0e6"
      },
      "outputs": [
        {
          "output_type": "execute_result",
          "data": {
            "text/plain": [
              "                Company                  Sector  Market cap added\n",
              "4               Tencent  Communication services              93.1\n",
              "5              Facebook  Communication services              85.7\n",
              "7              Alphabet  Communication services              68.1\n",
              "9           T-Mobile US  Communication services              59.7\n",
              "11              Netflix  Communication services              55.1\n",
              "22            Sea Group  Communication services              31.9\n",
              "38              NetEase  Communication services              17.1\n",
              "56  Activision Blizzard  Communication services              12.5\n",
              "76              Spotify  Communication services              10.4\n",
              "95                 Snap  Communication services               8.7"
            ],
            "text/html": [
              "\n",
              "  <div id=\"df-cd44101d-c1de-4bc5-8a88-d439531dbc9a\">\n",
              "    <div class=\"colab-df-container\">\n",
              "      <div>\n",
              "<style scoped>\n",
              "    .dataframe tbody tr th:only-of-type {\n",
              "        vertical-align: middle;\n",
              "    }\n",
              "\n",
              "    .dataframe tbody tr th {\n",
              "        vertical-align: top;\n",
              "    }\n",
              "\n",
              "    .dataframe thead th {\n",
              "        text-align: right;\n",
              "    }\n",
              "</style>\n",
              "<table border=\"1\" class=\"dataframe\">\n",
              "  <thead>\n",
              "    <tr style=\"text-align: right;\">\n",
              "      <th></th>\n",
              "      <th>Company</th>\n",
              "      <th>Sector</th>\n",
              "      <th>Market cap added</th>\n",
              "    </tr>\n",
              "  </thead>\n",
              "  <tbody>\n",
              "    <tr>\n",
              "      <th>4</th>\n",
              "      <td>Tencent</td>\n",
              "      <td>Communication services</td>\n",
              "      <td>93.1</td>\n",
              "    </tr>\n",
              "    <tr>\n",
              "      <th>5</th>\n",
              "      <td>Facebook</td>\n",
              "      <td>Communication services</td>\n",
              "      <td>85.7</td>\n",
              "    </tr>\n",
              "    <tr>\n",
              "      <th>7</th>\n",
              "      <td>Alphabet</td>\n",
              "      <td>Communication services</td>\n",
              "      <td>68.1</td>\n",
              "    </tr>\n",
              "    <tr>\n",
              "      <th>9</th>\n",
              "      <td>T-Mobile US</td>\n",
              "      <td>Communication services</td>\n",
              "      <td>59.7</td>\n",
              "    </tr>\n",
              "    <tr>\n",
              "      <th>11</th>\n",
              "      <td>Netflix</td>\n",
              "      <td>Communication services</td>\n",
              "      <td>55.1</td>\n",
              "    </tr>\n",
              "    <tr>\n",
              "      <th>22</th>\n",
              "      <td>Sea Group</td>\n",
              "      <td>Communication services</td>\n",
              "      <td>31.9</td>\n",
              "    </tr>\n",
              "    <tr>\n",
              "      <th>38</th>\n",
              "      <td>NetEase</td>\n",
              "      <td>Communication services</td>\n",
              "      <td>17.1</td>\n",
              "    </tr>\n",
              "    <tr>\n",
              "      <th>56</th>\n",
              "      <td>Activision Blizzard</td>\n",
              "      <td>Communication services</td>\n",
              "      <td>12.5</td>\n",
              "    </tr>\n",
              "    <tr>\n",
              "      <th>76</th>\n",
              "      <td>Spotify</td>\n",
              "      <td>Communication services</td>\n",
              "      <td>10.4</td>\n",
              "    </tr>\n",
              "    <tr>\n",
              "      <th>95</th>\n",
              "      <td>Snap</td>\n",
              "      <td>Communication services</td>\n",
              "      <td>8.7</td>\n",
              "    </tr>\n",
              "  </tbody>\n",
              "</table>\n",
              "</div>\n",
              "      <button class=\"colab-df-convert\" onclick=\"convertToInteractive('df-cd44101d-c1de-4bc5-8a88-d439531dbc9a')\"\n",
              "              title=\"Convert this dataframe to an interactive table.\"\n",
              "              style=\"display:none;\">\n",
              "        \n",
              "  <svg xmlns=\"http://www.w3.org/2000/svg\" height=\"24px\"viewBox=\"0 0 24 24\"\n",
              "       width=\"24px\">\n",
              "    <path d=\"M0 0h24v24H0V0z\" fill=\"none\"/>\n",
              "    <path d=\"M18.56 5.44l.94 2.06.94-2.06 2.06-.94-2.06-.94-.94-2.06-.94 2.06-2.06.94zm-11 1L8.5 8.5l.94-2.06 2.06-.94-2.06-.94L8.5 2.5l-.94 2.06-2.06.94zm10 10l.94 2.06.94-2.06 2.06-.94-2.06-.94-.94-2.06-.94 2.06-2.06.94z\"/><path d=\"M17.41 7.96l-1.37-1.37c-.4-.4-.92-.59-1.43-.59-.52 0-1.04.2-1.43.59L10.3 9.45l-7.72 7.72c-.78.78-.78 2.05 0 2.83L4 21.41c.39.39.9.59 1.41.59.51 0 1.02-.2 1.41-.59l7.78-7.78 2.81-2.81c.8-.78.8-2.07 0-2.86zM5.41 20L4 18.59l7.72-7.72 1.47 1.35L5.41 20z\"/>\n",
              "  </svg>\n",
              "      </button>\n",
              "      \n",
              "  <style>\n",
              "    .colab-df-container {\n",
              "      display:flex;\n",
              "      flex-wrap:wrap;\n",
              "      gap: 12px;\n",
              "    }\n",
              "\n",
              "    .colab-df-convert {\n",
              "      background-color: #E8F0FE;\n",
              "      border: none;\n",
              "      border-radius: 50%;\n",
              "      cursor: pointer;\n",
              "      display: none;\n",
              "      fill: #1967D2;\n",
              "      height: 32px;\n",
              "      padding: 0 0 0 0;\n",
              "      width: 32px;\n",
              "    }\n",
              "\n",
              "    .colab-df-convert:hover {\n",
              "      background-color: #E2EBFA;\n",
              "      box-shadow: 0px 1px 2px rgba(60, 64, 67, 0.3), 0px 1px 3px 1px rgba(60, 64, 67, 0.15);\n",
              "      fill: #174EA6;\n",
              "    }\n",
              "\n",
              "    [theme=dark] .colab-df-convert {\n",
              "      background-color: #3B4455;\n",
              "      fill: #D2E3FC;\n",
              "    }\n",
              "\n",
              "    [theme=dark] .colab-df-convert:hover {\n",
              "      background-color: #434B5C;\n",
              "      box-shadow: 0px 1px 3px 1px rgba(0, 0, 0, 0.15);\n",
              "      filter: drop-shadow(0px 1px 2px rgba(0, 0, 0, 0.3));\n",
              "      fill: #FFFFFF;\n",
              "    }\n",
              "  </style>\n",
              "\n",
              "      <script>\n",
              "        const buttonEl =\n",
              "          document.querySelector('#df-cd44101d-c1de-4bc5-8a88-d439531dbc9a button.colab-df-convert');\n",
              "        buttonEl.style.display =\n",
              "          google.colab.kernel.accessAllowed ? 'block' : 'none';\n",
              "\n",
              "        async function convertToInteractive(key) {\n",
              "          const element = document.querySelector('#df-cd44101d-c1de-4bc5-8a88-d439531dbc9a');\n",
              "          const dataTable =\n",
              "            await google.colab.kernel.invokeFunction('convertToInteractive',\n",
              "                                                     [key], {});\n",
              "          if (!dataTable) return;\n",
              "\n",
              "          const docLinkHtml = 'Like what you see? Visit the ' +\n",
              "            '<a target=\"_blank\" href=https://colab.research.google.com/notebooks/data_table.ipynb>data table notebook</a>'\n",
              "            + ' to learn more about interactive tables.';\n",
              "          element.innerHTML = '';\n",
              "          dataTable['output_type'] = 'display_data';\n",
              "          await google.colab.output.renderOutput(dataTable, element);\n",
              "          const docLink = document.createElement('div');\n",
              "          docLink.innerHTML = docLinkHtml;\n",
              "          element.appendChild(docLink);\n",
              "        }\n",
              "      </script>\n",
              "    </div>\n",
              "  </div>\n",
              "  "
            ]
          },
          "metadata": {},
          "execution_count": 26
        }
      ],
      "source": [
        "df_comm = df[df['Sector'] == 'Communication services'].sort_values(by = 'Market cap added', ascending  = False)\n",
        "df_comm[['Company','Sector','Market cap added']]"
      ]
    },
    {
      "cell_type": "code",
      "execution_count": 27,
      "id": "d015f010",
      "metadata": {
        "colab": {
          "base_uri": "https://localhost:8080/",
          "height": 548
        },
        "id": "d015f010",
        "outputId": "4205da9c-cb4c-40cf-ace0-7959eeba0e71"
      },
      "outputs": [
        {
          "output_type": "execute_result",
          "data": {
            "text/plain": [
              "<matplotlib.axes._subplots.AxesSubplot at 0x7f80fbc78e80>"
            ]
          },
          "metadata": {},
          "execution_count": 27
        },
        {
          "output_type": "display_data",
          "data": {
            "text/plain": [
              "<Figure size 1152x648 with 1 Axes>"
            ],
            "image/png": "[encoded data removed]"
          },
          "metadata": {
            "needs_background": "light"
          }
        }
      ],
      "source": [
        "plt.figure(figsize = (16,9))\n",
        "sns.barplot(x = 'Company', y = 'Market cap added', data = df_comm )"
      ]
    },
    {
      "cell_type": "markdown",
      "id": "bba517c5",
      "metadata": {
        "id": "bba517c5"
      },
      "source": [
        "Tiktoks parent company Tencent, facebook and Alphabet, googles aparent company are the top contenders in communication \n",
        "services in term of market captal received."
      ]
    },
    {
      "cell_type": "markdown",
      "id": "9f40e4de",
      "metadata": {
        "id": "9f40e4de"
      },
      "source": [
        "#### Healthcare"
      ]
    },
    {
      "cell_type": "code",
      "execution_count": 28,
      "id": "808c72d1",
      "metadata": {
        "colab": {
          "base_uri": "https://localhost:8080/",
          "height": 833
        },
        "id": "808c72d1",
        "outputId": "fa0b8ea2-0fd5-4a24-b24f-3edefd333c0a"
      },
      "outputs": [
        {
          "output_type": "execute_result",
          "data": {
            "text/plain": [
              "                                     Company      Sector  Market cap added\n",
              "18                                    AbbVie  Healthcare              37.8\n",
              "20                     Chugai Pharmaceutical  Healthcare              33.9\n",
              "25                                     Roche  Healthcare              27.1\n",
              "28                 Regeneron Pharmaceuticals  Healthcare              20.2\n",
              "29     Alibaba Health Information Technology  Healthcare              20.2\n",
              "30                         Samsung Biologics  Healthcare              20.0\n",
              "31                              Novo Nordisk  Healthcare              19.8\n",
              "34                                 Eli Lilly  Healthcare              18.8\n",
              "35                                   Moderna  Healthcare              18.1\n",
              "37                                    Dexcom  Healthcare              17.2\n",
              "39  Shenzhen Mindray Bio-Medical Electronics  Healthcare              17.0\n",
              "41                    Vertex Pharmaceuticals  Healthcare              16.3\n",
              "51                                   Danaher  Healthcare              14.1\n",
              "54                             Veeva Systems  Healthcare              13.5\n",
              "61                                     Lonza  Healthcare              11.6\n",
              "63                  Jiangsu Hengrui Medicine  Healthcare              11.5\n",
              "67                            Daiichi Sankyo  Healthcare              11.2\n",
              "71                                 Celltrion  Healthcare              10.9\n",
              "73                                   Centene  Healthcare              10.8\n",
              "77                     Hansoh Pharmaceutical  Healthcare              10.3\n",
              "78                           Gilead Sciences  Healthcare              10.3\n",
              "81               Chongqing Zhifei Biological  Healthcare              10.1\n",
              "93                               AstraZeneca  Healthcare               8.8\n",
              "96  Changchun High & New Technology Industry  Healthcare               8.5\n",
              "99                            Teladoc Health  Healthcare               8.2"
            ],
            "text/html": [
              "\n",
              "  <div id=\"df-f2a3204e-7d0b-4527-9db7-91a8faaff436\">\n",
              "    <div class=\"colab-df-container\">\n",
              "      <div>\n",
              "<style scoped>\n",
              "    .dataframe tbody tr th:only-of-type {\n",
              "        vertical-align: middle;\n",
              "    }\n",
              "\n",
              "    .dataframe tbody tr th {\n",
              "        vertical-align: top;\n",
              "    }\n",
              "\n",
              "    .dataframe thead th {\n",
              "        text-align: right;\n",
              "    }\n",
              "</style>\n",
              "<table border=\"1\" class=\"dataframe\">\n",
              "  <thead>\n",
              "    <tr style=\"text-align: right;\">\n",
              "      <th></th>\n",
              "      <th>Company</th>\n",
              "      <th>Sector</th>\n",
              "      <th>Market cap added</th>\n",
              "    </tr>\n",
              "  </thead>\n",
              "  <tbody>\n",
              "    <tr>\n",
              "      <th>18</th>\n",
              "      <td>AbbVie</td>\n",
              "      <td>Healthcare</td>\n",
              "      <td>37.8</td>\n",
              "    </tr>\n",
              "    <tr>\n",
              "      <th>20</th>\n",
              "      <td>Chugai Pharmaceutical</td>\n",
              "      <td>Healthcare</td>\n",
              "      <td>33.9</td>\n",
              "    </tr>\n",
              "    <tr>\n",
              "      <th>25</th>\n",
              "      <td>Roche</td>\n",
              "      <td>Healthcare</td>\n",
              "      <td>27.1</td>\n",
              "    </tr>\n",
              "    <tr>\n",
              "      <th>28</th>\n",
              "      <td>Regeneron Pharmaceuticals</td>\n",
              "      <td>Healthcare</td>\n",
              "      <td>20.2</td>\n",
              "    </tr>\n",
              "    <tr>\n",
              "      <th>29</th>\n",
              "      <td>Alibaba Health Information Technology</td>\n",
              "      <td>Healthcare</td>\n",
              "      <td>20.2</td>\n",
              "    </tr>\n",
              "    <tr>\n",
              "      <th>30</th>\n",
              "      <td>Samsung Biologics</td>\n",
              "      <td>Healthcare</td>\n",
              "      <td>20.0</td>\n",
              "    </tr>\n",
              "    <tr>\n",
              "      <th>31</th>\n",
              "      <td>Novo Nordisk</td>\n",
              "      <td>Healthcare</td>\n",
              "      <td>19.8</td>\n",
              "    </tr>\n",
              "    <tr>\n",
              "      <th>34</th>\n",
              "      <td>Eli Lilly</td>\n",
              "      <td>Healthcare</td>\n",
              "      <td>18.8</td>\n",
              "    </tr>\n",
              "    <tr>\n",
              "      <th>35</th>\n",
              "      <td>Moderna</td>\n",
              "      <td>Healthcare</td>\n",
              "      <td>18.1</td>\n",
              "    </tr>\n",
              "    <tr>\n",
              "      <th>37</th>\n",
              "      <td>Dexcom</td>\n",
              "      <td>Healthcare</td>\n",
              "      <td>17.2</td>\n",
              "    </tr>\n",
              "    <tr>\n",
              "      <th>39</th>\n",
              "      <td>Shenzhen Mindray Bio-Medical Electronics</td>\n",
              "      <td>Healthcare</td>\n",
              "      <td>17.0</td>\n",
              "    </tr>\n",
              "    <tr>\n",
              "      <th>41</th>\n",
              "      <td>Vertex Pharmaceuticals</td>\n",
              "      <td>Healthcare</td>\n",
              "      <td>16.3</td>\n",
              "    </tr>\n",
              "    <tr>\n",
              "      <th>51</th>\n",
              "      <td>Danaher</td>\n",
              "      <td>Healthcare</td>\n",
              "      <td>14.1</td>\n",
              "    </tr>\n",
              "    <tr>\n",
              "      <th>54</th>\n",
              "      <td>Veeva Systems</td>\n",
              "      <td>Healthcare</td>\n",
              "      <td>13.5</td>\n",
              "    </tr>\n",
              "    <tr>\n",
              "      <th>61</th>\n",
              "      <td>Lonza</td>\n",
              "      <td>Healthcare</td>\n",
              "      <td>11.6</td>\n",
              "    </tr>\n",
              "    <tr>\n",
              "      <th>63</th>\n",
              "      <td>Jiangsu Hengrui Medicine</td>\n",
              "      <td>Healthcare</td>\n",
              "      <td>11.5</td>\n",
              "    </tr>\n",
              "    <tr>\n",
              "      <th>67</th>\n",
              "      <td>Daiichi Sankyo</td>\n",
              "      <td>Healthcare</td>\n",
              "      <td>11.2</td>\n",
              "    </tr>\n",
              "    <tr>\n",
              "      <th>71</th>\n",
              "      <td>Celltrion</td>\n",
              "      <td>Healthcare</td>\n",
              "      <td>10.9</td>\n",
              "    </tr>\n",
              "    <tr>\n",
              "      <th>73</th>\n",
              "      <td>Centene</td>\n",
              "      <td>Healthcare</td>\n",
              "      <td>10.8</td>\n",
              "    </tr>\n",
              "    <tr>\n",
              "      <th>77</th>\n",
              "      <td>Hansoh Pharmaceutical</td>\n",
              "      <td>Healthcare</td>\n",
              "      <td>10.3</td>\n",
              "    </tr>\n",
              "    <tr>\n",
              "      <th>78</th>\n",
              "      <td>Gilead Sciences</td>\n",
              "      <td>Healthcare</td>\n",
              "      <td>10.3</td>\n",
              "    </tr>\n",
              "    <tr>\n",
              "      <th>81</th>\n",
              "      <td>Chongqing Zhifei Biological</td>\n",
              "      <td>Healthcare</td>\n",
              "      <td>10.1</td>\n",
              "    </tr>\n",
              "    <tr>\n",
              "      <th>93</th>\n",
              "      <td>AstraZeneca</td>\n",
              "      <td>Healthcare</td>\n",
              "      <td>8.8</td>\n",
              "    </tr>\n",
              "    <tr>\n",
              "      <th>96</th>\n",
              "      <td>Changchun High &amp; New Technology Industry</td>\n",
              "      <td>Healthcare</td>\n",
              "      <td>8.5</td>\n",
              "    </tr>\n",
              "    <tr>\n",
              "      <th>99</th>\n",
              "      <td>Teladoc Health</td>\n",
              "      <td>Healthcare</td>\n",
              "      <td>8.2</td>\n",
              "    </tr>\n",
              "  </tbody>\n",
              "</table>\n",
              "</div>\n",
              "      <button class=\"colab-df-convert\" onclick=\"convertToInteractive('df-f2a3204e-7d0b-4527-9db7-91a8faaff436')\"\n",
              "              title=\"Convert this dataframe to an interactive table.\"\n",
              "              style=\"display:none;\">\n",
              "        \n",
              "  <svg xmlns=\"http://www.w3.org/2000/svg\" height=\"24px\"viewBox=\"0 0 24 24\"\n",
              "       width=\"24px\">\n",
              "    <path d=\"M0 0h24v24H0V0z\" fill=\"none\"/>\n",
              "    <path d=\"M18.56 5.44l.94 2.06.94-2.06 2.06-.94-2.06-.94-.94-2.06-.94 2.06-2.06.94zm-11 1L8.5 8.5l.94-2.06 2.06-.94-2.06-.94L8.5 2.5l-.94 2.06-2.06.94zm10 10l.94 2.06.94-2.06 2.06-.94-2.06-.94-.94-2.06-.94 2.06-2.06.94z\"/><path d=\"M17.41 7.96l-1.37-1.37c-.4-.4-.92-.59-1.43-.59-.52 0-1.04.2-1.43.59L10.3 9.45l-7.72 7.72c-.78.78-.78 2.05 0 2.83L4 21.41c.39.39.9.59 1.41.59.51 0 1.02-.2 1.41-.59l7.78-7.78 2.81-2.81c.8-.78.8-2.07 0-2.86zM5.41 20L4 18.59l7.72-7.72 1.47 1.35L5.41 20z\"/>\n",
              "  </svg>\n",
              "      </button>\n",
              "      \n",
              "  <style>\n",
              "    .colab-df-container {\n",
              "      display:flex;\n",
              "      flex-wrap:wrap;\n",
              "      gap: 12px;\n",
              "    }\n",
              "\n",
              "    .colab-df-convert {\n",
              "      background-color: #E8F0FE;\n",
              "      border: none;\n",
              "      border-radius: 50%;\n",
              "      cursor: pointer;\n",
              "      display: none;\n",
              "      fill: #1967D2;\n",
              "      height: 32px;\n",
              "      padding: 0 0 0 0;\n",
              "      width: 32px;\n",
              "    }\n",
              "\n",
              "    .colab-df-convert:hover {\n",
              "      background-color: #E2EBFA;\n",
              "      box-shadow: 0px 1px 2px rgba(60, 64, 67, 0.3), 0px 1px 3px 1px rgba(60, 64, 67, 0.15);\n",
              "      fill: #174EA6;\n",
              "    }\n",
              "\n",
              "    [theme=dark] .colab-df-convert {\n",
              "      background-color: #3B4455;\n",
              "      fill: #D2E3FC;\n",
              "    }\n",
              "\n",
              "    [theme=dark] .colab-df-convert:hover {\n",
              "      background-color: #434B5C;\n",
              "      box-shadow: 0px 1px 3px 1px rgba(0, 0, 0, 0.15);\n",
              "      filter: drop-shadow(0px 1px 2px rgba(0, 0, 0, 0.3));\n",
              "      fill: #FFFFFF;\n",
              "    }\n",
              "  </style>\n",
              "\n",
              "      <script>\n",
              "        const buttonEl =\n",
              "          document.querySelector('#df-f2a3204e-7d0b-4527-9db7-91a8faaff436 button.colab-df-convert');\n",
              "        buttonEl.style.display =\n",
              "          google.colab.kernel.accessAllowed ? 'block' : 'none';\n",
              "\n",
              "        async function convertToInteractive(key) {\n",
              "          const element = document.querySelector('#df-f2a3204e-7d0b-4527-9db7-91a8faaff436');\n",
              "          const dataTable =\n",
              "            await google.colab.kernel.invokeFunction('convertToInteractive',\n",
              "                                                     [key], {});\n",
              "          if (!dataTable) return;\n",
              "\n",
              "          const docLinkHtml = 'Like what you see? Visit the ' +\n",
              "            '<a target=\"_blank\" href=https://colab.research.google.com/notebooks/data_table.ipynb>data table notebook</a>'\n",
              "            + ' to learn more about interactive tables.';\n",
              "          element.innerHTML = '';\n",
              "          dataTable['output_type'] = 'display_data';\n",
              "          await google.colab.output.renderOutput(dataTable, element);\n",
              "          const docLink = document.createElement('div');\n",
              "          docLink.innerHTML = docLinkHtml;\n",
              "          element.appendChild(docLink);\n",
              "        }\n",
              "      </script>\n",
              "    </div>\n",
              "  </div>\n",
              "  "
            ]
          },
          "metadata": {},
          "execution_count": 28
        }
      ],
      "source": [
        "df_health = df[df['Sector'] == 'Healthcare'].sort_values(by = 'Market cap added', ascending = False)\n",
        "df_health[['Company','Sector','Market cap added']]"
      ]
    },
    {
      "cell_type": "code",
      "execution_count": 29,
      "id": "98114571",
      "metadata": {
        "colab": {
          "base_uri": "https://localhost:8080/",
          "height": 617
        },
        "id": "98114571",
        "outputId": "a4b9b85a-a7ff-45df-d7fe-0c6e19a80572"
      },
      "outputs": [
        {
          "output_type": "display_data",
          "data": {
            "text/html": [
              "<html>\n",
              "<head><meta charset=\"utf-8\" /></head>\n",
              "<body>\n",
              "    <div>            <script src=\"https://cdnjs.cloudflare.com/ajax/libs/mathjax/2.7.5/MathJax.js?config=TeX-AMS-MML_SVG\"></script><script type=\"text/javascript\">if (window.MathJax) {MathJax.Hub.Config({SVG: {font: \"STIX-Web\"}});}</script>                <script type=\"text/javascript\">window.PlotlyConfig = {MathJaxConfig: 'local'};</script>\n",
              "        <script src=\"https://cdn.plot.ly/plotly-2.8.3.min.js\"></script>                <div id=\"63c181ba-2d8b-4f92-8be3-7617a7b59f57\" class=\"plotly-graph-div\" style=\"height:600px; width:100%;\"></div>            <script type=\"text/javascript\">                                    window.PLOTLYENV=window.PLOTLYENV || {};                                    if (document.getElementById(\"63c181ba-2d8b-4f92-8be3-7617a7b59f57\")) {                    Plotly.newPlot(                        \"63c181ba-2d8b-4f92-8be3-7617a7b59f57\",                        [{\"alignmentgroup\":\"True\",\"hovertemplate\":\"Company=%{x}<br>Market cap added=%{y}<extra></extra>\",\"legendgroup\":\"AbbVie\",\"marker\":{\"color\":\"#636efa\",\"pattern\":{\"shape\":\"\"}},\"name\":\"AbbVie\",\"offsetgroup\":\"AbbVie\",\"orientation\":\"v\",\"showlegend\":true,\"textposition\":\"auto\",\"x\":[\"AbbVie\"],\"xaxis\":\"x\",\"y\":[37.8],\"yaxis\":\"y\",\"type\":\"bar\"},{\"alignmentgroup\":\"True\",\"hovertemplate\":\"Company=%{x}<br>Market cap added=%{y}<extra></extra>\",\"legendgroup\":\"Chugai Pharmaceutical\",\"marker\":{\"color\":\"#EF553B\",\"pattern\":{\"shape\":\"\"}},\"name\":\"Chugai Pharmaceutical\",\"offsetgroup\":\"Chugai Pharmaceutical\",\"orientation\":\"v\",\"showlegend\":true,\"textposition\":\"auto\",\"x\":[\"Chugai Pharmaceutical\"],\"xaxis\":\"x\",\"y\":[33.9],\"yaxis\":\"y\",\"type\":\"bar\"},{\"alignmentgroup\":\"True\",\"hovertemplate\":\"Company=%{x}<br>Market cap added=%{y}<extra></extra>\",\"legendgroup\":\"Roche\",\"marker\":{\"color\":\"#00cc96\",\"pattern\":{\"shape\":\"\"}},\"name\":\"Roche\",\"offsetgroup\":\"Roche\",\"orientation\":\"v\",\"showlegend\":true,\"textposition\":\"auto\",\"x\":[\"Roche\"],\"xaxis\":\"x\",\"y\":[27.1],\"yaxis\":\"y\",\"type\":\"bar\"},{\"alignmentgroup\":\"True\",\"hovertemplate\":\"Company=%{x}<br>Market cap added=%{y}<extra></extra>\",\"legendgroup\":\"Regeneron Pharmaceuticals\",\"marker\":{\"color\":\"#ab63fa\",\"pattern\":{\"shape\":\"\"}},\"name\":\"Regeneron Pharmaceuticals\",\"offsetgroup\":\"Regeneron Pharmaceuticals\",\"orientation\":\"v\",\"showlegend\":true,\"textposition\":\"auto\",\"x\":[\"Regeneron Pharmaceuticals\"],\"xaxis\":\"x\",\"y\":[20.2],\"yaxis\":\"y\",\"type\":\"bar\"},{\"alignmentgroup\":\"True\",\"hovertemplate\":\"Company=%{x}<br>Market cap added=%{y}<extra></extra>\",\"legendgroup\":\"Alibaba Health Information Technology\",\"marker\":{\"color\":\"#FFA15A\",\"pattern\":{\"shape\":\"\"}},\"name\":\"Alibaba Health Information Technology\",\"offsetgroup\":\"Alibaba Health Information Technology\",\"orientation\":\"v\",\"showlegend\":true,\"textposition\":\"auto\",\"x\":[\"Alibaba Health Information Technology\"],\"xaxis\":\"x\",\"y\":[20.2],\"yaxis\":\"y\",\"type\":\"bar\"},{\"alignmentgroup\":\"True\",\"hovertemplate\":\"Company=%{x}<br>Market cap added=%{y}<extra></extra>\",\"legendgroup\":\"Samsung Biologics\",\"marker\":{\"color\":\"#19d3f3\",\"pattern\":{\"shape\":\"\"}},\"name\":\"Samsung Biologics\",\"offsetgroup\":\"Samsung Biologics\",\"orientation\":\"v\",\"showlegend\":true,\"textposition\":\"auto\",\"x\":[\"Samsung Biologics\"],\"xaxis\":\"x\",\"y\":[20.0],\"yaxis\":\"y\",\"type\":\"bar\"},{\"alignmentgroup\":\"True\",\"hovertemplate\":\"Company=%{x}<br>Market cap added=%{y}<extra></extra>\",\"legendgroup\":\"Novo Nordisk\",\"marker\":{\"color\":\"#FF6692\",\"pattern\":{\"shape\":\"\"}},\"name\":\"Novo Nordisk\",\"offsetgroup\":\"Novo Nordisk\",\"orientation\":\"v\",\"showlegend\":true,\"textposition\":\"auto\",\"x\":[\"Novo Nordisk\"],\"xaxis\":\"x\",\"y\":[19.8],\"yaxis\":\"y\",\"type\":\"bar\"},{\"alignmentgroup\":\"True\",\"hovertemplate\":\"Company=%{x}<br>Market cap added=%{y}<extra></extra>\",\"legendgroup\":\"Eli Lilly\",\"marker\":{\"color\":\"#B6E880\",\"pattern\":{\"shape\":\"\"}},\"name\":\"Eli Lilly\",\"offsetgroup\":\"Eli Lilly\",\"orientation\":\"v\",\"showlegend\":true,\"textposition\":\"auto\",\"x\":[\"Eli Lilly\"],\"xaxis\":\"x\",\"y\":[18.8],\"yaxis\":\"y\",\"type\":\"bar\"},{\"alignmentgroup\":\"True\",\"hovertemplate\":\"Company=%{x}<br>Market cap added=%{y}<extra></extra>\",\"legendgroup\":\"Moderna\",\"marker\":{\"color\":\"#FF97FF\",\"pattern\":{\"shape\":\"\"}},\"name\":\"Moderna\",\"offsetgroup\":\"Moderna\",\"orientation\":\"v\",\"showlegend\":true,\"textposition\":\"auto\",\"x\":[\"Moderna\"],\"xaxis\":\"x\",\"y\":[18.1],\"yaxis\":\"y\",\"type\":\"bar\"},{\"alignmentgroup\":\"True\",\"hovertemplate\":\"Company=%{x}<br>Market cap added=%{y}<extra></extra>\",\"legendgroup\":\"Dexcom\",\"marker\":{\"color\":\"#FECB52\",\"pattern\":{\"shape\":\"\"}},\"name\":\"Dexcom\",\"offsetgroup\":\"Dexcom\",\"orientation\":\"v\",\"showlegend\":true,\"textposition\":\"auto\",\"x\":[\"Dexcom\"],\"xaxis\":\"x\",\"y\":[17.2],\"yaxis\":\"y\",\"type\":\"bar\"},{\"alignmentgroup\":\"True\",\"hovertemplate\":\"Company=%{x}<br>Market cap added=%{y}<extra></extra>\",\"legendgroup\":\"Shenzhen Mindray Bio-Medical Electronics\",\"marker\":{\"color\":\"#636efa\",\"pattern\":{\"shape\":\"\"}},\"name\":\"Shenzhen Mindray Bio-Medical Electronics\",\"offsetgroup\":\"Shenzhen Mindray Bio-Medical Electronics\",\"orientation\":\"v\",\"showlegend\":true,\"textposition\":\"auto\",\"x\":[\"Shenzhen Mindray Bio-Medical Electronics\"],\"xaxis\":\"x\",\"y\":[17.0],\"yaxis\":\"y\",\"type\":\"bar\"},{\"alignmentgroup\":\"True\",\"hovertemplate\":\"Company=%{x}<br>Market cap added=%{y}<extra></extra>\",\"legendgroup\":\"Vertex Pharmaceuticals\",\"marker\":{\"color\":\"#EF553B\",\"pattern\":{\"shape\":\"\"}},\"name\":\"Vertex Pharmaceuticals\",\"offsetgroup\":\"Vertex Pharmaceuticals\",\"orientation\":\"v\",\"showlegend\":true,\"textposition\":\"auto\",\"x\":[\"Vertex Pharmaceuticals\"],\"xaxis\":\"x\",\"y\":[16.3],\"yaxis\":\"y\",\"type\":\"bar\"},{\"alignmentgroup\":\"True\",\"hovertemplate\":\"Company=%{x}<br>Market cap added=%{y}<extra></extra>\",\"legendgroup\":\"Danaher\",\"marker\":{\"color\":\"#00cc96\",\"pattern\":{\"shape\":\"\"}},\"name\":\"Danaher\",\"offsetgroup\":\"Danaher\",\"orientation\":\"v\",\"showlegend\":true,\"textposition\":\"auto\",\"x\":[\"Danaher\"],\"xaxis\":\"x\",\"y\":[14.1],\"yaxis\":\"y\",\"type\":\"bar\"},{\"alignmentgroup\":\"True\",\"hovertemplate\":\"Company=%{x}<br>Market cap added=%{y}<extra></extra>\",\"legendgroup\":\"Veeva Systems\",\"marker\":{\"color\":\"#ab63fa\",\"pattern\":{\"shape\":\"\"}},\"name\":\"Veeva Systems\",\"offsetgroup\":\"Veeva Systems\",\"orientation\":\"v\",\"showlegend\":true,\"textposition\":\"auto\",\"x\":[\"Veeva Systems\"],\"xaxis\":\"x\",\"y\":[13.5],\"yaxis\":\"y\",\"type\":\"bar\"},{\"alignmentgroup\":\"True\",\"hovertemplate\":\"Company=%{x}<br>Market cap added=%{y}<extra></extra>\",\"legendgroup\":\"Lonza\",\"marker\":{\"color\":\"#FFA15A\",\"pattern\":{\"shape\":\"\"}},\"name\":\"Lonza\",\"offsetgroup\":\"Lonza\",\"orientation\":\"v\",\"showlegend\":true,\"textposition\":\"auto\",\"x\":[\"Lonza\"],\"xaxis\":\"x\",\"y\":[11.6],\"yaxis\":\"y\",\"type\":\"bar\"},{\"alignmentgroup\":\"True\",\"hovertemplate\":\"Company=%{x}<br>Market cap added=%{y}<extra></extra>\",\"legendgroup\":\"Jiangsu Hengrui Medicine\",\"marker\":{\"color\":\"#19d3f3\",\"pattern\":{\"shape\":\"\"}},\"name\":\"Jiangsu Hengrui Medicine\",\"offsetgroup\":\"Jiangsu Hengrui Medicine\",\"orientation\":\"v\",\"showlegend\":true,\"textposition\":\"auto\",\"x\":[\"Jiangsu Hengrui Medicine\"],\"xaxis\":\"x\",\"y\":[11.5],\"yaxis\":\"y\",\"type\":\"bar\"},{\"alignmentgroup\":\"True\",\"hovertemplate\":\"Company=%{x}<br>Market cap added=%{y}<extra></extra>\",\"legendgroup\":\"Daiichi Sankyo\",\"marker\":{\"color\":\"#FF6692\",\"pattern\":{\"shape\":\"\"}},\"name\":\"Daiichi Sankyo\",\"offsetgroup\":\"Daiichi Sankyo\",\"orientation\":\"v\",\"showlegend\":true,\"textposition\":\"auto\",\"x\":[\"Daiichi Sankyo\"],\"xaxis\":\"x\",\"y\":[11.2],\"yaxis\":\"y\",\"type\":\"bar\"},{\"alignmentgroup\":\"True\",\"hovertemplate\":\"Company=%{x}<br>Market cap added=%{y}<extra></extra>\",\"legendgroup\":\"Celltrion\",\"marker\":{\"color\":\"#B6E880\",\"pattern\":{\"shape\":\"\"}},\"name\":\"Celltrion\",\"offsetgroup\":\"Celltrion\",\"orientation\":\"v\",\"showlegend\":true,\"textposition\":\"auto\",\"x\":[\"Celltrion\"],\"xaxis\":\"x\",\"y\":[10.9],\"yaxis\":\"y\",\"type\":\"bar\"},{\"alignmentgroup\":\"True\",\"hovertemplate\":\"Company=%{x}<br>Market cap added=%{y}<extra></extra>\",\"legendgroup\":\"Centene\",\"marker\":{\"color\":\"#FF97FF\",\"pattern\":{\"shape\":\"\"}},\"name\":\"Centene\",\"offsetgroup\":\"Centene\",\"orientation\":\"v\",\"showlegend\":true,\"textposition\":\"auto\",\"x\":[\"Centene\"],\"xaxis\":\"x\",\"y\":[10.8],\"yaxis\":\"y\",\"type\":\"bar\"},{\"alignmentgroup\":\"True\",\"hovertemplate\":\"Company=%{x}<br>Market cap added=%{y}<extra></extra>\",\"legendgroup\":\"Hansoh Pharmaceutical\",\"marker\":{\"color\":\"#FECB52\",\"pattern\":{\"shape\":\"\"}},\"name\":\"Hansoh Pharmaceutical\",\"offsetgroup\":\"Hansoh Pharmaceutical\",\"orientation\":\"v\",\"showlegend\":true,\"textposition\":\"auto\",\"x\":[\"Hansoh Pharmaceutical\"],\"xaxis\":\"x\",\"y\":[10.3],\"yaxis\":\"y\",\"type\":\"bar\"},{\"alignmentgroup\":\"True\",\"hovertemplate\":\"Company=%{x}<br>Market cap added=%{y}<extra></extra>\",\"legendgroup\":\"Gilead Sciences\",\"marker\":{\"color\":\"#636efa\",\"pattern\":{\"shape\":\"\"}},\"name\":\"Gilead Sciences\",\"offsetgroup\":\"Gilead Sciences\",\"orientation\":\"v\",\"showlegend\":true,\"textposition\":\"auto\",\"x\":[\"Gilead Sciences\"],\"xaxis\":\"x\",\"y\":[10.3],\"yaxis\":\"y\",\"type\":\"bar\"},{\"alignmentgroup\":\"True\",\"hovertemplate\":\"Company=%{x}<br>Market cap added=%{y}<extra></extra>\",\"legendgroup\":\"Chongqing Zhifei Biological\",\"marker\":{\"color\":\"#EF553B\",\"pattern\":{\"shape\":\"\"}},\"name\":\"Chongqing Zhifei Biological\",\"offsetgroup\":\"Chongqing Zhifei Biological\",\"orientation\":\"v\",\"showlegend\":true,\"textposition\":\"auto\",\"x\":[\"Chongqing Zhifei Biological\"],\"xaxis\":\"x\",\"y\":[10.1],\"yaxis\":\"y\",\"type\":\"bar\"},{\"alignmentgroup\":\"True\",\"hovertemplate\":\"Company=%{x}<br>Market cap added=%{y}<extra></extra>\",\"legendgroup\":\"AstraZeneca\",\"marker\":{\"color\":\"#00cc96\",\"pattern\":{\"shape\":\"\"}},\"name\":\"AstraZeneca\",\"offsetgroup\":\"AstraZeneca\",\"orientation\":\"v\",\"showlegend\":true,\"textposition\":\"auto\",\"x\":[\"AstraZeneca\"],\"xaxis\":\"x\",\"y\":[8.8],\"yaxis\":\"y\",\"type\":\"bar\"},{\"alignmentgroup\":\"True\",\"hovertemplate\":\"Company=%{x}<br>Market cap added=%{y}<extra></extra>\",\"legendgroup\":\"Changchun High & New Technology Industry\",\"marker\":{\"color\":\"#ab63fa\",\"pattern\":{\"shape\":\"\"}},\"name\":\"Changchun High & New Technology Industry\",\"offsetgroup\":\"Changchun High & New Technology Industry\",\"orientation\":\"v\",\"showlegend\":true,\"textposition\":\"auto\",\"x\":[\"Changchun High & New Technology Industry\"],\"xaxis\":\"x\",\"y\":[8.5],\"yaxis\":\"y\",\"type\":\"bar\"},{\"alignmentgroup\":\"True\",\"hovertemplate\":\"Company=%{x}<br>Market cap added=%{y}<extra></extra>\",\"legendgroup\":\"Teladoc Health\",\"marker\":{\"color\":\"#FFA15A\",\"pattern\":{\"shape\":\"\"}},\"name\":\"Teladoc Health\",\"offsetgroup\":\"Teladoc Health\",\"orientation\":\"v\",\"showlegend\":true,\"textposition\":\"auto\",\"x\":[\"Teladoc Health\"],\"xaxis\":\"x\",\"y\":[8.2],\"yaxis\":\"y\",\"type\":\"bar\"}],                        {\"template\":{\"data\":{\"bar\":[{\"error_x\":{\"color\":\"#2a3f5f\"},\"error_y\":{\"color\":\"#2a3f5f\"},\"marker\":{\"line\":{\"color\":\"#E5ECF6\",\"width\":0.5},\"pattern\":{\"fillmode\":\"overlay\",\"size\":10,\"solidity\":0.2}},\"type\":\"bar\"}],\"barpolar\":[{\"marker\":{\"line\":{\"color\":\"#E5ECF6\",\"width\":0.5},\"pattern\":{\"fillmode\":\"overlay\",\"size\":10,\"solidity\":0.2}},\"type\":\"barpolar\"}],\"carpet\":[{\"aaxis\":{\"endlinecolor\":\"#2a3f5f\",\"gridcolor\":\"white\",\"linecolor\":\"white\",\"minorgridcolor\":\"white\",\"startlinecolor\":\"#2a3f5f\"},\"baxis\":{\"endlinecolor\":\"#2a3f5f\",\"gridcolor\":\"white\",\"linecolor\":\"white\",\"minorgridcolor\":\"white\",\"startlinecolor\":\"#2a3f5f\"},\"type\":\"carpet\"}],\"choropleth\":[{\"colorbar\":{\"outlinewidth\":0,\"ticks\":\"\"},\"type\":\"choropleth\"}],\"contour\":[{\"colorbar\":{\"outlinewidth\":0,\"ticks\":\"\"},\"colorscale\":[[0.0,\"#0d0887\"],[0.1111111111111111,\"#46039f\"],[0.2222222222222222,\"#7201a8\"],[0.3333333333333333,\"#9c179e\"],[0.4444444444444444,\"#bd3786\"],[0.5555555555555556,\"#d8576b\"],[0.6666666666666666,\"#ed7953\"],[0.7777777777777778,\"#fb9f3a\"],[0.8888888888888888,\"#fdca26\"],[1.0,\"#f0f921\"]],\"type\":\"contour\"}],\"contourcarpet\":[{\"colorbar\":{\"outlinewidth\":0,\"ticks\":\"\"},\"type\":\"contourcarpet\"}],\"heatmap\":[{\"colorbar\":{\"outlinewidth\":0,\"ticks\":\"\"},\"colorscale\":[[0.0,\"#0d0887\"],[0.1111111111111111,\"#46039f\"],[0.2222222222222222,\"#7201a8\"],[0.3333333333333333,\"#9c179e\"],[0.4444444444444444,\"#bd3786\"],[0.5555555555555556,\"#d8576b\"],[0.6666666666666666,\"#ed7953\"],[0.7777777777777778,\"#fb9f3a\"],[0.8888888888888888,\"#fdca26\"],[1.0,\"#f0f921\"]],\"type\":\"heatmap\"}],\"heatmapgl\":[{\"colorbar\":{\"outlinewidth\":0,\"ticks\":\"\"},\"colorscale\":[[0.0,\"#0d0887\"],[0.1111111111111111,\"#46039f\"],[0.2222222222222222,\"#7201a8\"],[0.3333333333333333,\"#9c179e\"],[0.4444444444444444,\"#bd3786\"],[0.5555555555555556,\"#d8576b\"],[0.6666666666666666,\"#ed7953\"],[0.7777777777777778,\"#fb9f3a\"],[0.8888888888888888,\"#fdca26\"],[1.0,\"#f0f921\"]],\"type\":\"heatmapgl\"}],\"histogram\":[{\"marker\":{\"pattern\":{\"fillmode\":\"overlay\",\"size\":10,\"solidity\":0.2}},\"type\":\"histogram\"}],\"histogram2d\":[{\"colorbar\":{\"outlinewidth\":0,\"ticks\":\"\"},\"colorscale\":[[0.0,\"#0d0887\"],[0.1111111111111111,\"#46039f\"],[0.2222222222222222,\"#7201a8\"],[0.3333333333333333,\"#9c179e\"],[0.4444444444444444,\"#bd3786\"],[0.5555555555555556,\"#d8576b\"],[0.6666666666666666,\"#ed7953\"],[0.7777777777777778,\"#fb9f3a\"],[0.8888888888888888,\"#fdca26\"],[1.0,\"#f0f921\"]],\"type\":\"histogram2d\"}],\"histogram2dcontour\":[{\"colorbar\":{\"outlinewidth\":0,\"ticks\":\"\"},\"colorscale\":[[0.0,\"#0d0887\"],[0.1111111111111111,\"#46039f\"],[0.2222222222222222,\"#7201a8\"],[0.3333333333333333,\"#9c179e\"],[0.4444444444444444,\"#bd3786\"],[0.5555555555555556,\"#d8576b\"],[0.6666666666666666,\"#ed7953\"],[0.7777777777777778,\"#fb9f3a\"],[0.8888888888888888,\"#fdca26\"],[1.0,\"#f0f921\"]],\"type\":\"histogram2dcontour\"}],\"mesh3d\":[{\"colorbar\":{\"outlinewidth\":0,\"ticks\":\"\"},\"type\":\"mesh3d\"}],\"parcoords\":[{\"line\":{\"colorbar\":{\"outlinewidth\":0,\"ticks\":\"\"}},\"type\":\"parcoords\"}],\"pie\":[{\"automargin\":true,\"type\":\"pie\"}],\"scatter\":[{\"marker\":{\"colorbar\":{\"outlinewidth\":0,\"ticks\":\"\"}},\"type\":\"scatter\"}],\"scatter3d\":[{\"line\":{\"colorbar\":{\"outlinewidth\":0,\"ticks\":\"\"}},\"marker\":{\"colorbar\":{\"outlinewidth\":0,\"ticks\":\"\"}},\"type\":\"scatter3d\"}],\"scattercarpet\":[{\"marker\":{\"colorbar\":{\"outlinewidth\":0,\"ticks\":\"\"}},\"type\":\"scattercarpet\"}],\"scattergeo\":[{\"marker\":{\"colorbar\":{\"outlinewidth\":0,\"ticks\":\"\"}},\"type\":\"scattergeo\"}],\"scattergl\":[{\"marker\":{\"colorbar\":{\"outlinewidth\":0,\"ticks\":\"\"}},\"type\":\"scattergl\"}],\"scattermapbox\":[{\"marker\":{\"colorbar\":{\"outlinewidth\":0,\"ticks\":\"\"}},\"type\":\"scattermapbox\"}],\"scatterpolar\":[{\"marker\":{\"colorbar\":{\"outlinewidth\":0,\"ticks\":\"\"}},\"type\":\"scatterpolar\"}],\"scatterpolargl\":[{\"marker\":{\"colorbar\":{\"outlinewidth\":0,\"ticks\":\"\"}},\"type\":\"scatterpolargl\"}],\"scatterternary\":[{\"marker\":{\"colorbar\":{\"outlinewidth\":0,\"ticks\":\"\"}},\"type\":\"scatterternary\"}],\"surface\":[{\"colorbar\":{\"outlinewidth\":0,\"ticks\":\"\"},\"colorscale\":[[0.0,\"#0d0887\"],[0.1111111111111111,\"#46039f\"],[0.2222222222222222,\"#7201a8\"],[0.3333333333333333,\"#9c179e\"],[0.4444444444444444,\"#bd3786\"],[0.5555555555555556,\"#d8576b\"],[0.6666666666666666,\"#ed7953\"],[0.7777777777777778,\"#fb9f3a\"],[0.8888888888888888,\"#fdca26\"],[1.0,\"#f0f921\"]],\"type\":\"surface\"}],\"table\":[{\"cells\":{\"fill\":{\"color\":\"#EBF0F8\"},\"line\":{\"color\":\"white\"}},\"header\":{\"fill\":{\"color\":\"#C8D4E3\"},\"line\":{\"color\":\"white\"}},\"type\":\"table\"}]},\"layout\":{\"annotationdefaults\":{\"arrowcolor\":\"#2a3f5f\",\"arrowhead\":0,\"arrowwidth\":1},\"autotypenumbers\":\"strict\",\"coloraxis\":{\"colorbar\":{\"outlinewidth\":0,\"ticks\":\"\"}},\"colorscale\":{\"diverging\":[[0,\"#8e0152\"],[0.1,\"#c51b7d\"],[0.2,\"#de77ae\"],[0.3,\"#f1b6da\"],[0.4,\"#fde0ef\"],[0.5,\"#f7f7f7\"],[0.6,\"#e6f5d0\"],[0.7,\"#b8e186\"],[0.8,\"#7fbc41\"],[0.9,\"#4d9221\"],[1,\"#276419\"]],\"sequential\":[[0.0,\"#0d0887\"],[0.1111111111111111,\"#46039f\"],[0.2222222222222222,\"#7201a8\"],[0.3333333333333333,\"#9c179e\"],[0.4444444444444444,\"#bd3786\"],[0.5555555555555556,\"#d8576b\"],[0.6666666666666666,\"#ed7953\"],[0.7777777777777778,\"#fb9f3a\"],[0.8888888888888888,\"#fdca26\"],[1.0,\"#f0f921\"]],\"sequentialminus\":[[0.0,\"#0d0887\"],[0.1111111111111111,\"#46039f\"],[0.2222222222222222,\"#7201a8\"],[0.3333333333333333,\"#9c179e\"],[0.4444444444444444,\"#bd3786\"],[0.5555555555555556,\"#d8576b\"],[0.6666666666666666,\"#ed7953\"],[0.7777777777777778,\"#fb9f3a\"],[0.8888888888888888,\"#fdca26\"],[1.0,\"#f0f921\"]]},\"colorway\":[\"#636efa\",\"#EF553B\",\"#00cc96\",\"#ab63fa\",\"#FFA15A\",\"#19d3f3\",\"#FF6692\",\"#B6E880\",\"#FF97FF\",\"#FECB52\"],\"font\":{\"color\":\"#2a3f5f\"},\"geo\":{\"bgcolor\":\"white\",\"lakecolor\":\"white\",\"landcolor\":\"#E5ECF6\",\"showlakes\":true,\"showland\":true,\"subunitcolor\":\"white\"},\"hoverlabel\":{\"align\":\"left\"},\"hovermode\":\"closest\",\"mapbox\":{\"style\":\"light\"},\"paper_bgcolor\":\"white\",\"plot_bgcolor\":\"#E5ECF6\",\"polar\":{\"angularaxis\":{\"gridcolor\":\"white\",\"linecolor\":\"white\",\"ticks\":\"\"},\"bgcolor\":\"#E5ECF6\",\"radialaxis\":{\"gridcolor\":\"white\",\"linecolor\":\"white\",\"ticks\":\"\"}},\"scene\":{\"xaxis\":{\"backgroundcolor\":\"#E5ECF6\",\"gridcolor\":\"white\",\"gridwidth\":2,\"linecolor\":\"white\",\"showbackground\":true,\"ticks\":\"\",\"zerolinecolor\":\"white\"},\"yaxis\":{\"backgroundcolor\":\"#E5ECF6\",\"gridcolor\":\"white\",\"gridwidth\":2,\"linecolor\":\"white\",\"showbackground\":true,\"ticks\":\"\",\"zerolinecolor\":\"white\"},\"zaxis\":{\"backgroundcolor\":\"#E5ECF6\",\"gridcolor\":\"white\",\"gridwidth\":2,\"linecolor\":\"white\",\"showbackground\":true,\"ticks\":\"\",\"zerolinecolor\":\"white\"}},\"shapedefaults\":{\"line\":{\"color\":\"#2a3f5f\"}},\"ternary\":{\"aaxis\":{\"gridcolor\":\"white\",\"linecolor\":\"white\",\"ticks\":\"\"},\"baxis\":{\"gridcolor\":\"white\",\"linecolor\":\"white\",\"ticks\":\"\"},\"bgcolor\":\"#E5ECF6\",\"caxis\":{\"gridcolor\":\"white\",\"linecolor\":\"white\",\"ticks\":\"\"}},\"title\":{\"x\":0.05},\"xaxis\":{\"automargin\":true,\"gridcolor\":\"white\",\"linecolor\":\"white\",\"ticks\":\"\",\"title\":{\"standoff\":15},\"zerolinecolor\":\"white\",\"zerolinewidth\":2},\"yaxis\":{\"automargin\":true,\"gridcolor\":\"white\",\"linecolor\":\"white\",\"ticks\":\"\",\"title\":{\"standoff\":15},\"zerolinecolor\":\"white\",\"zerolinewidth\":2}}},\"xaxis\":{\"anchor\":\"y\",\"domain\":[0.0,1.0],\"title\":{\"text\":\"Company\"},\"categoryorder\":\"array\",\"categoryarray\":[\"AbbVie\",\"Chugai Pharmaceutical\",\"Roche\",\"Regeneron Pharmaceuticals\",\"Alibaba Health Information Technology\",\"Samsung Biologics\",\"Novo Nordisk\",\"Eli Lilly\",\"Moderna\",\"Dexcom\",\"Shenzhen Mindray Bio-Medical Electronics\",\"Vertex Pharmaceuticals\",\"Danaher\",\"Veeva Systems\",\"Lonza\",\"Jiangsu Hengrui Medicine\",\"Daiichi Sankyo\",\"Celltrion\",\"Centene\",\"Hansoh Pharmaceutical\",\"Gilead Sciences\",\"Chongqing Zhifei Biological\",\"AstraZeneca\",\"Changchun High & New Technology Industry\",\"Teladoc Health\"]},\"yaxis\":{\"anchor\":\"x\",\"domain\":[0.0,1.0],\"title\":{\"text\":\"Market cap added\"}},\"legend\":{\"title\":{\"text\":\"Company\"},\"tracegroupgap\":0},\"margin\":{\"t\":60},\"barmode\":\"relative\",\"height\":600},                        {\"responsive\": true}                    ).then(function(){\n",
              "                            \n",
              "var gd = document.getElementById('63c181ba-2d8b-4f92-8be3-7617a7b59f57');\n",
              "var x = new MutationObserver(function (mutations, observer) {{\n",
              "        var display = window.getComputedStyle(gd).display;\n",
              "        if (!display || display === 'none') {{\n",
              "            console.log([gd, 'removed!']);\n",
              "            Plotly.purge(gd);\n",
              "            observer.disconnect();\n",
              "        }}\n",
              "}});\n",
              "\n",
              "// Listen for the removal of the full notebook cells\n",
              "var notebookContainer = gd.closest('#notebook-container');\n",
              "if (notebookContainer) {{\n",
              "    x.observe(notebookContainer, {childList: true});\n",
              "}}\n",
              "\n",
              "// Listen for the clearing of the current output cell\n",
              "var outputEl = gd.closest('.output');\n",
              "if (outputEl) {{\n",
              "    x.observe(outputEl, {childList: true});\n",
              "}}\n",
              "\n",
              "                        })                };                            </script>        </div>\n",
              "</body>\n",
              "</html>"
            ]
          },
          "metadata": {}
        }
      ],
      "source": [
        "px.bar(df_health, x='Company', y='Market cap added',height=600,color  ='Company')"
      ]
    },
    {
      "cell_type": "markdown",
      "id": "4c370fee",
      "metadata": {
        "id": "4c370fee"
      },
      "source": [
        "AbbVie,Chugai Pharmaceutical and Roche in healthcare got highest market capital."
      ]
    },
    {
      "cell_type": "markdown",
      "id": "feecbcc7",
      "metadata": {
        "id": "feecbcc7"
      },
      "source": [
        "### Conclusion:\n",
        "\n",
        "\n",
        "1. Though number of companies in healthcare domain benifitted more than any other sector, but Technology and Consumer \n",
        "   discretionary domains got highest investments.\n",
        "2. Investments in US companies outweighted rest of the world.It amounts to 2018 Billion dollers.\n",
        "3. Highest % investment change happend in International Holdings a investment firm located in UAE and Moderna the COVID-19\n",
        "   vaccine maker respectively. And those do not belong to tech sector.\n",
        "4. In tech sector Microsoft and Apple had highest market capital infusion in pandamic.\n",
        "5. Amazon and Tesla had highest market capital investment in Consumer discretionary sector.\n",
        "6. AbbVie,Chugai Pharmaceutica and Roche could get highest investment in Healthcare domain."
      ]
    },
    {
      "cell_type": "code",
      "execution_count": 29,
      "id": "4b45b6e4",
      "metadata": {
        "id": "4b45b6e4"
      },
      "outputs": [],
      "source": []
    }
  ],
  "metadata": {
    "kernelspec": {
      "display_name": "Python 3 (ipykernel)",
      "language": "python",
      "name": "python3"
    },
    "language_info": {
      "codemirror_mode": {
        "name": "ipython",
        "version": 3
      },
      "file_extension": ".py",
      "mimetype": "text/x-python",
      "name": "python",
      "nbconvert_exporter": "python",
      "pygments_lexer": "ipython3",
      "version": "3.9.7"
    },
    "colab": {
      "provenance": [],
      "include_colab_link": true
    }
  },
  "nbformat": 4,
  "nbformat_minor": 5
}